{
 "cells": [
  {
   "cell_type": "markdown",
   "metadata": {},
   "source": [
    "# fairseqを使います！！！！！！！！"
   ]
  },
  {
   "cell_type": "markdown",
   "metadata": {},
   "source": [
    "# 90. データの準備"
   ]
  },
  {
   "cell_type": "code",
   "execution_count": null,
   "metadata": {},
   "outputs": [],
   "source": [
    "!wget http://www.phontron.com/kftt/download/kftt-data-1.0.tar.gz"
   ]
  },
  {
   "cell_type": "code",
   "execution_count": null,
   "metadata": {},
   "outputs": [],
   "source": [
    "!tar zxvf kftt-data-1.0.tar.gz"
   ]
  },
  {
   "cell_type": "code",
   "execution_count": 11,
   "metadata": {},
   "outputs": [
    {
     "name": "stderr",
     "output_type": "stream",
     "text": [
      "/Users/y_nakamura/.pyenv/versions/anaconda3-2019.10/lib/python3.7/site-packages/spacy/util.py:275: UserWarning: [W031] Model 'ja_ginza' (3.1.0) requires spaCy v2.2 and is incompatible with the current spaCy version (2.3.1). This may lead to unexpected results or runtime errors. To resolve this, download a newer compatible model or retrain your custom model with the current spaCy version. For more details and available updates, run: python -m spacy validate\n",
      "  warnings.warn(warn_msg)\n"
     ]
    }
   ],
   "source": [
    "from nltk.tokenize import word_tokenize"
   ]
  },
  {
   "cell_type": "code",
   "execution_count": 50,
   "metadata": {},
   "outputs": [],
   "source": [
    "def en_tokenize(in_path, out_path):\n",
    "    with open(in_path, mode='r') as in_file, open(out_path, mode='w') as out_file:\n",
    "        for text in in_file:\n",
    "            text = text.rstrip()\n",
    "            words = word_tokenize(text)\n",
    "            out_file.write(' '.join(words) + '\\n')\n",
    "            "
   ]
  },
  {
   "cell_type": "code",
   "execution_count": 2,
   "metadata": {},
   "outputs": [],
   "source": [
    "!mecab data/kyoto-dev.ja -o work/kyoto-dev.tok.ja -Owakati\n",
    "!mecab data/kyoto-test.ja -o work/kyoto-test.tok.ja -Owakati\n",
    "!mecab data/kyoto-train.ja -o work/kyoto-train.tok.ja -Owakati"
   ]
  },
  {
   "cell_type": "code",
   "execution_count": 53,
   "metadata": {},
   "outputs": [],
   "source": [
    "#ja_tokenize('work/kyoto-dev.mecab.ja', 'work/kyoto-dev.tok.ja')\n",
    "#ja_tokenize('work/kyoto-test.mecab.ja', 'work/kyoto-test.tok.ja')\n",
    "#ja_tokenize('work/kyoto-train.mecab.ja', 'work/kyoto-train.tok.ja')"
   ]
  },
  {
   "cell_type": "code",
   "execution_count": 8,
   "metadata": {},
   "outputs": [],
   "source": [
    "en_tokenize('data/kyoto-dev.en', 'work/kyoto-dev.tok.en')\n",
    "en_tokenize('data/kyoto-test.en', 'work/kyoto-test.tok.en')\n",
    "en_tokenize('data/kyoto-train.en', 'work/kyoto-train.tok.en')"
   ]
  },
  {
   "cell_type": "code",
   "execution_count": 10,
   "metadata": {},
   "outputs": [
    {
     "name": "stdout",
     "output_type": "stream",
     "text": [
      "Known as Sesshu ( 1420 - 1506 ) , he was an ink painter and Zen monk active in the Muromachi period in the latter half of the 15th century , and was called a master painter .\n",
      "He revolutionized the Japanese ink painting .\n",
      "He was given the posthumous name `` Toyo '' or `` Sesshu ( 拙宗 ) . ''\n",
      "Born in Bicchu Province , he moved to Suo Province after entering SShokoku-ji Temple in Kyoto .\n",
      "Later he accompanied a mission to Ming Dynasty China and learned Chinese ink painting .\n",
      "His works were many , including not only Chinese-style landscape paintings , but also portraits and pictures of flowers and birds .\n",
      "His bold compositions and strong brush strokes constituted an extremely distinctive style .\n",
      "6 of his extant works are designated national treasures . Indeed , he is considered to be extraordinary among Japanese painters .\n",
      "For this reason , there are a great many artworks that are attributed to him , such as folding screens with pictures of flowers and that birds are painted on them .\n",
      "There are many works that even experts can not agree if they are really his work or not .\n"
     ]
    }
   ],
   "source": [
    "!head work/kyoto-train.tok.en"
   ]
  },
  {
   "cell_type": "code",
   "execution_count": 54,
   "metadata": {},
   "outputs": [
    {
     "name": "stdout",
     "output_type": "stream",
     "text": [
      "雪舟 （ せっしゅう 、 1420 年 （ 応永 27 年 ） - 1506 年 （ 永 正 3 年 ） ） は 号 で 、 15 世紀 後半 室町 時代 に 活躍 し た 水墨 画家 ・ 禅僧 で 、 画聖 と も 称え られる 。\n",
      "日本 の 水墨 画 を 一変 さ せ た 。\n",
      "諱 は 「 等 楊 （ とう よう ） 」 、 もしくは 「 拙 宗 （ せっしゅう ） 」 と 号 し た 。\n",
      "備中 国 に 生まれ 、 京都 ・ 相国寺 に 入っ て から 周防 国 に 移る 。\n",
      "その後 遣 明 使 に 随行 し て 中国 （ 明 ） に 渡っ て 中国 の 水墨 画 を 学ん だ 。\n",
      "作品 は 数多く 、 中国 風 の 山水 画 だけ で なく 人物 画 や 花鳥 画 も よく し た 。\n",
      "大胆 な 構図 と 力強い 筆 線 は 非常 に 個性 的 な 画風 を 作り出し て いる 。\n",
      "現存 する 作品 の うち 6 点 が 国宝 に 指定 さ れ て おり 、 日本 の 画家 の なか でも 別格 の 評価 を 受け て いる と いえる 。\n",
      "この ため 、 花鳥 図 屏風 など に 「 伝 雪舟 筆 」 さ れる 作品 は 大変 多い 。\n",
      "真筆 で ある か 専門 家 の 間 で も 意見 の 分かれる もの も 多々 ある 。\n"
     ]
    }
   ],
   "source": [
    "!head work/kyoto-train.tok.ja"
   ]
  },
  {
   "cell_type": "markdown",
   "metadata": {},
   "source": [
    "# 91. 機械翻訳モデルの訓練"
   ]
  },
  {
   "cell_type": "code",
   "execution_count": 57,
   "metadata": {},
   "outputs": [
    {
     "name": "stdout",
     "output_type": "stream",
     "text": [
      "Writing ./script/preprocess.sh\n"
     ]
    }
   ],
   "source": [
    "%%file ./script/preprocess.sh\n",
    "### preprocess script ###\n",
    ". setting.sh\n",
    "\n",
    "mkdir -p ${PROCESS_DIR}\n",
    "TEXT=work\n",
    "\n",
    "fairseq-preprocess \\\n",
    "    --source-lang ja --target-lang en \\\n",
    "    --trainpref ${TEXT}/kyoto-train.tok \\\n",
    "    --validpref ${TEXT}/kyoto-dev.tok \\\n",
    "    --testpref ${TEXT}/kyoto-test.tok \\\n",
    "    --destdir ${PROCESS_DIR} \\\n",
    "    --nwordstgt 50000 --nwordssrc 50000 \\ #語数を制限しないとモデルのEmbeddingのサイズがやばい\n",
    "    --workers 20"
   ]
  },
  {
   "cell_type": "code",
   "execution_count": 58,
   "metadata": {},
   "outputs": [
    {
     "name": "stdout",
     "output_type": "stream",
     "text": [
      "Writing ./script/train.sh\n"
     ]
    }
   ],
   "source": [
    "%%file ./script/train.sh\n",
    "### training script ###\n",
    ". setting.sh\n",
    "\n",
    "mkdir -p ${MODEL_DIR}\n",
    "mkdir -p ${LOG_DIR}\n",
    "\n",
    "CUDA_VISIBLE_DEVICES=${GPU} fairseq-train ${DATA_DIR} \\\n",
    "    -s ja -t en \\\n",
    "    --arch transformer_iwslt_de_en \\\n",
    "    --optimizer adam --adam-betas '(0.9, 0.98)' --clip-norm 0.0 \\\n",
    "    --lr 0.0005 --lr-scheduler inverse_sqrt --warmup-updates 4000 --warmup-init-lr 1e-07 \\\n",
    "    --dropout 0.3 --weight-decay 0.0 \\\n",
    "    --criterion label_smoothed_cross_entropy --label-smoothing 0.1 \\\n",
    "    --max-tokens 4000 \\\n",
    "    --update-freq 128 \\\n",
    "    --max-update 5000 \\\n",
    "    --fp16 \\\n",
    "    --eval-bleu \\\n",
    "    --eval-bleu-args '{\"beam\": 5, \"max_len_a\": 1.2, \"max_len_b\": 10}'\n",
    "    --eval-bleu-print-samples \\\n",
    "    --best-checkpoint-metric bleu \\\n",
    "    --keep-last-epochs 10 \\\n",
    "    --tensorboard-logdir ${LOG_DIR} \\\n",
    "    --log-format simple \\\n",
    "    --seed ${SEED} | tee -a ${LOG_DIR}/train.log"
   ]
  },
  {
   "cell_type": "code",
   "execution_count": 59,
   "metadata": {},
   "outputs": [
    {
     "name": "stdout",
     "output_type": "stream",
     "text": [
      "Writing ./script/setting.sh\n"
     ]
    }
   ],
   "source": [
    "%%file ./script/setting.sh\n",
    "# preprocess\n",
    "export PROCESS_DIR=\"data-bin/kftt\"\n",
    "#export DECODE_FILE=\"data\"\n",
    "\n",
    "# training\n",
    "export GPU=0\n",
    "export MODEL_DIR=\"models\"\n",
    "export LOG_DIR=\"logs\"\n",
    "export DATA_DIR=${PROCESS_DIR}\n",
    "export MAX_UPDATE=500\n",
    "export SEED=1234\n",
    "\n",
    "# interactive\n",
    "#export TRAINED_DIR=/work01/club-imi-taiwa-2019/fairseq_data/tutorial\n",
    "#export MODEL_DIR=${TRAINED_DIR}\n",
    "#export DATA_DIR=${TRAINED_DIR}"
   ]
  },
  {
   "cell_type": "markdown",
   "metadata": {},
   "source": [
    "# 92. 機械翻訳モデルの適用"
   ]
  },
  {
   "cell_type": "raw",
   "metadata": {},
   "source": [
    "日本語のtokenizeにmecabを使ったのでinteractiveでもmecabを使ってtokenizeする必要がある\n",
    "具体的にはfairseq/fairseq_cli/interactive.pyのtokenizerに自作のtokenizerを登録する（defaultであるやつを使えばこんなめんどくさいことやらなくて済む？)\n",
    "ちなみにサーバー上でmecabを使いたい場合，Pathを通しておく必要がある\n",
    "export PATH=/opt/local/bin:$PATH\n",
    "export LD_LIBRARY_PATH=/opt/local/lib:$LD_LIBRARY_PATH"
   ]
  },
  {
   "cell_type": "code",
   "execution_count": null,
   "metadata": {},
   "outputs": [],
   "source": [
    "pip install mecab-python3==0.996.5 #ラボのMeCabのversionはこれ（指定しないとうまく呼べない）"
   ]
  },
  {
   "cell_type": "code",
   "execution_count": null,
   "metadata": {},
   "outputs": [],
   "source": [
    "%% file interactive.sh\n",
    "\n",
    "class MyTokenizer:\n",
    "    def __init__(self):\n",
    "        self.tagger = MeCab.Tagger (\"-Owakati\")\n",
    "\n",
    "    def encode(self, x):\n",
    "        return self.tagger.parse(x)\n",
    "\n",
    "    def decode(self, x):\n",
    "        return x\n",
    "\n",
    "tokenizer = MyTokenizer()"
   ]
  },
  {
   "cell_type": "code",
   "execution_count": null,
   "metadata": {},
   "outputs": [],
   "source": [
    ". setting.sh\n",
    "\n",
    "checkpoint=checkpoints/transfomer/checkpoint.avg10.pt\n",
    "\n",
    "CUDA_VISIBLE_DEVICES=0 python interactive-for-japanese.py \\\n",
    "     data-bin/kftt/ \\\n",
    "     --source-lang ja --target-lang en \\\n",
    "     --path $checkpoint \\\n",
    "     --nbest 5"
   ]
  },
  {
   "cell_type": "raw",
   "metadata": {},
   "source": [
    "S-3\t私 は 京都 に 行っ た こと が ある\n",
    "W-3\t0.160\tseconds\n",
    "H-3\t-0.7429131865501404\tIt is sometimes said that I went to Kyoto .\n",
    "D-3\t-0.7429131865501404\tIt is sometimes said that I went to Kyoto .\n",
    "P-3\t-3.0433 -0.5151 -1.1170 -1.2013 -0.1848 -1.1709 -0.2892 -0.2190 -0.0726 -0.2304 -0.1285\n",
    "H-3\t-0.9091448187828064\tI went to Kyoto .\n",
    "D-3\t-0.9091448187828064\tI went to Kyoto .\n",
    "P-3\t-2.8519 -1.6034 -0.2139 -0.0703 -0.5858 -0.1296\n",
    "H-3\t-1.0137468576431274\tIt is said that I went to Kyoto .\n",
    "D-3\t-1.0137468576431274\tIt is said that I went to Kyoto .\n",
    "P-3\t-3.0433 -0.5151 -3.8967 -0.2477 -1.3031 -0.3886 -0.2158 -0.0721 -0.3279 -0.1272\n",
    "H-3\t-1.0404189825057983\tSome of them went to Kyoto .\n",
    "D-3\t-1.0404189825057983\tSome of them went to Kyoto .\n",
    "P-3\t-2.3587 -2.2554 -1.2166 -1.7737 -0.2324 -0.0870 -0.2682 -0.1314\n",
    "H-3\t-1.1302274465560913\tI went to Kyoto in some cases .\n",
    "D-3\t-1.1302274465560913\tI went to Kyoto in some cases .\n",
    "P-3\t-2.8519 -1.6034 -0.2139 -0.0703 -4.2675 -0.2004 -0.6789 -0.1551 -0.1307"
   ]
  },
  {
   "cell_type": "markdown",
   "metadata": {},
   "source": [
    "# 93. BLEUスコアの計測"
   ]
  },
  {
   "cell_type": "code",
   "execution_count": null,
   "metadata": {},
   "outputs": [],
   "source": [
    "%%file generate.sh\n",
    "\n",
    " . setting.sh\n",
    "python fairseq/scripts/average_checkpoints.py \\\n",
    "     --inputs checkpoints \\\n",
    "     --num-epoch-checkpoints 10 \\\n",
    "     --output checkpoints/checkpoint.avg10.pt\n",
    "\n",
    "checkpoint=checkpoints/transfomer/checkpoint.avg10.pt\n",
    "\n",
    "CUDA_VISIBLE_DEVICES=0 fairseq-generate \\\n",
    "     data-bin/kftt/ \\\n",
    "     --path $checkpoint \\\n",
    "     --batch-size 256 \\\n",
    "     --beam $1 --lenpen 1.0 > gen.out\n",
    "\n",
    "tail gen.out -n 1 >> res.out\n",
    "\n",
    "#bash fairseq/scripts/sacrebleu.sh wmt14/full ja en gen.out"
   ]
  },
  {
   "cell_type": "code",
   "execution_count": null,
   "metadata": {},
   "outputs": [],
   "source": [
    "Generate test with beam=1: BLEU4 = 20.30, 53.1/26.0/14.8/9.3 (BP=0.973, ratio=0.973, syslen=25875, reflen=26584)"
   ]
  },
  {
   "cell_type": "markdown",
   "metadata": {},
   "source": [
    "# 94. ビーム探索"
   ]
  },
  {
   "cell_type": "code",
   "execution_count": null,
   "metadata": {},
   "outputs": [],
   "source": [
    "%%file test.sh\n",
    "for beam in `seq 1 25`; do\n",
    "    bash generate.sh $beam\n",
    "done"
   ]
  },
  {
   "cell_type": "raw",
   "metadata": {},
   "source": [
    "Generate test with beam=1: BLEU4 = 20.30, 53.1/26.0/14.8/9.3 (BP=0.973, ratio=0.973, syslen=25875, reflen=26584)\n",
    "Generate test with beam=2: BLEU4 = 20.92, 53.7/26.8/15.4/9.8 (BP=0.970, ratio=0.971, syslen=25802, reflen=26584)\n",
    "Generate test with beam=3: BLEU4 = 21.21, 54.3/27.1/15.7/10.0 (BP=0.967, ratio=0.967, syslen=25717, reflen=26584)\n",
    "Generate test with beam=4: BLEU4 = 21.37, 54.2/27.3/15.8/10.1 (BP=0.968, ratio=0.969, syslen=25755, reflen=26584)\n",
    "Generate test with beam=5: BLEU4 = 21.54, 54.2/27.3/15.9/10.1 (BP=0.975, ratio=0.975, syslen=25921, reflen=26584)\n",
    "Generate test with beam=6: BLEU4 = 21.58, 54.2/27.5/16.0/10.2 (BP=0.971, ratio=0.971, syslen=25819, reflen=26584)\n",
    "Generate test with beam=7: BLEU4 = 21.65, 54.4/27.6/16.1/10.3 (BP=0.969, ratio=0.969, syslen=25771, reflen=26584)\n",
    "Generate test with beam=8: BLEU4 = 21.67, 54.4/27.6/16.1/10.3 (BP=0.969, ratio=0.970, syslen=25775, reflen=26584)\n",
    "Generate test with beam=9: BLEU4 = 21.54, 54.3/27.5/16.0/10.2 (BP=0.969, ratio=0.969, syslen=25761, reflen=26584)\n",
    "Generate test with beam=10: BLEU4 = 21.54, 54.0/27.4/16.0/10.2 (BP=0.970, ratio=0.971, syslen=25804, reflen=26584)\n",
    "Generate test with beam=11: BLEU4 = 21.57, 54.1/27.4/16.1/10.2 (BP=0.971, ratio=0.971, syslen=25814, reflen=26584)\n",
    "Generate test with beam=12: BLEU4 = 21.58, 54.1/27.4/16.1/10.3 (BP=0.970, ratio=0.970, syslen=25788, reflen=26584)\n",
    "Generate test with beam=13: BLEU4 = 21.48, 54.1/27.3/16.0/10.2 (BP=0.968, ratio=0.968, syslen=25743, reflen=26584)\n",
    "Generate test with beam=14: BLEU4 = 21.53, 54.0/27.4/16.0/10.3 (BP=0.969, ratio=0.970, syslen=25785, reflen=26584)\n",
    "Generate test with beam=15: BLEU4 = 21.51, 54.0/27.4/16.0/10.2 (BP=0.970, ratio=0.970, syslen=25790, reflen=26584)\n",
    "Generate test with beam=16: BLEU4 = 21.63, 54.2/27.6/16.2/10.3 (BP=0.968, ratio=0.968, syslen=25739, reflen=26584)\n",
    "Generate test with beam=17: BLEU4 = 21.57, 54.1/27.4/16.1/10.3 (BP=0.969, ratio=0.969, syslen=25773, reflen=26584)\n",
    "Generate test with beam=18: BLEU4 = 21.56, 54.2/27.5/16.1/10.3 (BP=0.968, ratio=0.969, syslen=25757, reflen=26584)\n",
    "Generate test with beam=19: BLEU4 = 21.60, 54.2/27.5/16.1/10.3 (BP=0.969, ratio=0.970, syslen=25776, reflen=26584)\n",
    "Generate test with beam=20: BLEU4 = 21.62, 54.2/27.5/16.1/10.3 (BP=0.969, ratio=0.969, syslen=25765, reflen=26584)\n",
    "Generate test with beam=21: BLEU4 = 21.50, 54.2/27.4/16.0/10.2 (BP=0.969, ratio=0.970, syslen=25784, reflen=26584)\n",
    "Generate test with beam=22: BLEU4 = 21.56, 54.2/27.4/16.1/10.3 (BP=0.969, ratio=0.969, syslen=25773, reflen=26584)\n",
    "Generate test with beam=23: BLEU4 = 21.53, 54.1/27.4/16.0/10.2 (BP=0.971, ratio=0.971, syslen=25817, reflen=26584)\n",
    "Generate test with beam=24: BLEU4 = 21.51, 54.1/27.3/16.0/10.2 (BP=0.970, ratio=0.971, syslen=25810, reflen=26584)\n",
    "Generate test with beam=25: BLEU4 = 21.51, 54.2/27.4/16.0/10.2 (BP=0.969, ratio=0.969, syslen=25762, reflen=26584)"
   ]
  },
  {
   "cell_type": "code",
   "execution_count": 1,
   "metadata": {},
   "outputs": [],
   "source": [
    "data = [20.30 ,20.92 ,21.21 ,21.37 ,21.54 ,21.58 ,21.65 ,21.67 ,21.54 ,21.54 ,21.57 ,21.58 ,21.48 ,21.53 ,21.51 ,21.63 ,21.57 ,21.56 ,21.60 ,21.62 ,21.50 ,21.56 ,21.53 ,21.51 ,21.51]"
   ]
  },
  {
   "cell_type": "code",
   "execution_count": 4,
   "metadata": {},
   "outputs": [],
   "source": [
    "%matplotlib inline\n",
    "import matplotlib.pyplot as plt"
   ]
  },
  {
   "cell_type": "code",
   "execution_count": 12,
   "metadata": {},
   "outputs": [
    {
     "data": {
      "text/plain": [
       "[<matplotlib.lines.Line2D at 0x7fc3e6409850>]"
      ]
     },
     "execution_count": 12,
     "metadata": {},
     "output_type": "execute_result"
    },
    {
     "data": {
      "image/png": "[encoded data removed]",
      "text/plain": [
       "<Figure size 432x288 with 1 Axes>"
      ]
     },
     "metadata": {
      "needs_background": "light"
     },
     "output_type": "display_data"
    }
   ],
   "source": [
    "fig, ax = plt.subplots(1,1)\n",
    "ax.set_xlabel('Beam size')\n",
    "ax.set_ylabel('BLEU score')\n",
    "ax.plot(data, marker='o', color='red')"
   ]
  },
  {
   "cell_type": "markdown",
   "metadata": {},
   "source": [
    "# 95. サブワード化"
   ]
  },
  {
   "cell_type": "code",
   "execution_count": null,
   "metadata": {},
   "outputs": [],
   "source": [
    "%%file ./work/bpe.sh\n",
    "dst='bpe'\n",
    "mkdir -p $dst\n",
    "~/library/fastBPE/fast learnbpe 32000 kyoto-train.tok.ja > ${dst}/codes.ja\n",
    "~/library/fastBPE/fast learnbpe 32000 kyoto-train.tok.en > ${dst}/codes.en\n",
    "~/library/fastBPE/fast applybpe ${dst}/kyoto-train.tok.bpe32000.ja kyoto-train.tok.ja ${dst}/codes.ja\n",
    "~/library/fastBPE/fast applybpe ${dst}/kyoto-train.tok.bpe32000.en kyoto-train.tok.en ${dst}/codes.en\n",
    "~/library/fastBPE/fast getvocab ${dst}/kyoto-train.tok.bpe32000.ja > ${dst}/vocab.ja.32000\n",
    "~/library/fastBPE/fast getvocab ${dst}/kyoto-train.tok.bpe32000.en > ${dst}/vocab.en.32000\n",
    "~/library/fastBPE/fast applybpe ${dst}/kyoto-dev.tok.bpe32000.ja kyoto-dev.tok.ja ${dst}/codes.ja ${dst}/vocab.ja.32000\n",
    "~/library/fastBPE/fast applybpe ${dst}/kyoto-dev.tok.bpe32000.en kyoto-dev.tok.en ${dst}/codes.en ${dst}/vocab.en.32000\n",
    "~/library/fastBPE/fast applybpe ${dst}/kyoto-test.tok.bpe32000.ja  kyoto-test.tok.ja  ${dst}/codes.ja ${dst}/vocab.ja.32000\n",
    "~/library/fastBPE/fast applybpe ${dst}/kyoto-test.tok.bpe32000.en  kyoto-test.tok.en  ${dst}/codes.en ${dst}/vocab.en.32000"
   ]
  },
  {
   "cell_type": "code",
   "execution_count": null,
   "metadata": {},
   "outputs": [],
   "source": [
    "%%file bpe_interactive.sh\n",
    ". setting.sh\n",
    "\n",
    "\n",
    "checkpoint=checkpoints/bpe_transfomer/checkpoint.avg10.pt\n",
    "\n",
    "CUDA_VISIBLE_DEVICES=0 python interactive-for-japanese.py \\\n",
    "     data-bin/kftt_bpe/ \\\n",
    "     --source-lang ja --target-lang en \\\n",
    "     --path $checkpoint \\\n",
    "     --bpe 'fastbpe' \\\n",
    "     --bpe-codes 'work/bpe/codes.ja' \\\n",
    "     --remove-bpe \\\n",
    "     --nbest 5"
   ]
  },
  {
   "cell_type": "code",
   "execution_count": null,
   "metadata": {},
   "outputs": [],
   "source": [
    "%%file bpe_generate.sh\n",
    "\n",
    " . setting.sh\n",
    "python fairseq/scripts/average_checkpoints.py \\\n",
    "     --inputs checkpoints \\\n",
    "     --num-epoch-checkpoints 10 \\\n",
    "     --output checkpoints/checkpoint.avg10.pt\n",
    "\n",
    "checkpoint=checkpoints/transfomer/checkpoint.avg10.pt\n",
    "\n",
    "CUDA_VISIBLE_DEVICES=0 fairseq-generate \\\n",
    "     data-bin/kftt_bpe/ \\\n",
    "     --path $checkpoint \\\n",
    "     --batch-size 256 \\\n",
    "     --remove-bpe \\ #ここ\n",
    "     --beam $1 --lenpen 1.0 > gen.out\n",
    "\n",
    "tail gen.out -n 1 >> res.out\n",
    "\n",
    "#bash fairseq/scripts/sacrebleu.sh wmt14/full ja en gen.out"
   ]
  },
  {
   "cell_type": "raw",
   "metadata": {},
   "source": [
    "Generate test with beam=5: BLEU4 = 22.83, 54.5/27.9/16.7/10.7 (BP=0.999, ratio=0.999, syslen=26570, reflen=26585)"
   ]
  },
  {
   "cell_type": "markdown",
   "metadata": {},
   "source": [
    "# 96. 学習過程の可視化"
   ]
  },
  {
   "cell_type": "code",
   "execution_count": null,
   "metadata": {},
   "outputs": [],
   "source": []
  },
  {
   "cell_type": "markdown",
   "metadata": {},
   "source": [
    "# 97. ハイパー・パラメータの調整"
   ]
  },
  {
   "cell_type": "markdown",
   "metadata": {},
   "source": [
    "# 98. ドメイン適応"
   ]
  },
  {
   "cell_type": "markdown",
   "metadata": {},
   "source": [
    "# 99. 翻訳サーバの構築"
   ]
  },
  {
   "cell_type": "code",
   "execution_count": null,
   "metadata": {},
   "outputs": [],
   "source": []
  }
 ],
 "metadata": {
  "kernelspec": {
   "display_name": "Python 3",
   "language": "python",
   "name": "python3"
  },
  "language_info": {
   "codemirror_mode": {
    "name": "ipython",
    "version": 3
   },
   "file_extension": ".py",
   "mimetype": "text/x-python",
   "name": "python",
   "nbconvert_exporter": "python",
   "pygments_lexer": "ipython3",
   "version": "3.7.4"
  }
 },
 "nbformat": 4,
 "nbformat_minor": 4
}
