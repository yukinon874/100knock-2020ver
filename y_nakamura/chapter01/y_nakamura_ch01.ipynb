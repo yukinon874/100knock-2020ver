{
 "cells": [
  {
   "cell_type": "code",
   "execution_count": 29,
   "metadata": {},
   "outputs": [
    {
     "name": "stdout",
     "output_type": "stream",
     "text": [
      "desserts\n"
     ]
    }
   ],
   "source": [
    "if __name__ == '__main__':\n",
    "    text = \"stressed\"\n",
    "    reversed_text = text[::-1]\n",
    "    print(reversed_text)"
   ]
  },
  {
   "cell_type": "code",
   "execution_count": 20,
   "metadata": {},
   "outputs": [
    {
     "name": "stdout",
     "output_type": "stream",
     "text": [
      "パトカー\n"
     ]
    }
   ],
   "source": [
    "if __name__ == '__main__':\n",
    "    text = \"パタトクカシーー\"\n",
    "    s = text[::2]\n",
    "    print(s)"
   ]
  },
  {
   "cell_type": "code",
   "execution_count": 21,
   "metadata": {},
   "outputs": [
    {
     "name": "stdout",
     "output_type": "stream",
     "text": [
      "パタトクカシーー\n",
      "パタトクカシーー\n"
     ]
    }
   ],
   "source": [
    "from functools import reduce\n",
    "\n",
    "if __name__ == '__main__':\n",
    "    text_a = \"パトカー\"\n",
    "    text_b = \"タクシー\"\n",
    "    s = ''.join(char_a + char_b for (char_a, char_b) in zip(text_a, text_b))\n",
    "    print(s)\n",
    "    s = reduce(lambda word, char_ab: word + ''.join(char_ab), zip(a, b), '')\n",
    "    print(s)"
   ]
  },
  {
   "cell_type": "code",
   "execution_count": 22,
   "metadata": {},
   "outputs": [
    {
     "name": "stdout",
     "output_type": "stream",
     "text": [
      "[3, 1, 4, 1, 5, 9, 2, 6, 5, 3, 5, 8, 9, 7, 9]\n"
     ]
    }
   ],
   "source": [
    "import re\n",
    "\n",
    "if __name__ == '__main__':\n",
    "    s = 'Now I need a drink, alcoholic of course, after the heavy lectures involving quantum mechanics.'\n",
    "    wordSizeList = [len(word) for word in re.split('[,. ]', s) if word != '']\n",
    "    print(wordSizeList)"
   ]
  },
  {
   "cell_type": "code",
   "execution_count": 23,
   "metadata": {},
   "outputs": [
    {
     "name": "stdout",
     "output_type": "stream",
     "text": [
      "{'H': 1, 'He': 2, 'Li': 3, 'Be': 4, 'B': 5, 'C': 6, 'N': 7, 'O': 8, 'F': 9, 'Ne': 10, 'Na': 11, 'Mi': 12, 'Al': 13, 'Si': 14, 'P': 15, 'S': 16, 'Cl': 17, 'Ar': 18, 'K': 19, 'Ca': 20}\n"
     ]
    }
   ],
   "source": [
    "import re\n",
    "\n",
    "if __name__ == '__main__':\n",
    "    s = 'Hi He Lied Because Boron Could Not Oxidize Fluorine. New Nations Might Also Sign Peace Security Clause. Arthur King Can.'\n",
    "    a = {1, 5, 6, 7, 8, 9, 15, 16, 19}\n",
    "    wordIndex = {word[:1] if i + 1 in a else word[:2]:i + 1 for (i, word) in enumerate([word for word in re.split('[. ]', s) if word != ''])}\n",
    "    print(wordIndex)"
   ]
  },
  {
   "cell_type": "code",
   "execution_count": 24,
   "metadata": {},
   "outputs": [
    {
     "name": "stdout",
     "output_type": "stream",
     "text": [
      "['I ', ' a', 'am', 'm ', ' a', 'an', 'n ', ' N', 'NL', 'LP', 'Pe', 'er']\n",
      "[['I', 'am'], ['am', 'an'], ['an', 'NLPer']]\n"
     ]
    }
   ],
   "source": [
    "def n_gram(s, n):\n",
    "    return [s[i:i + n] for i in range(len(s) - n + 1)]\n",
    "\n",
    "if __name__ == '__main__':\n",
    "    s = 'I am an NLPer'\n",
    "    print(n_gram(s, 2))\n",
    "    print(n_gram(s.split(), 2))"
   ]
  },
  {
   "cell_type": "code",
   "execution_count": 25,
   "metadata": {},
   "outputs": [
    {
     "name": "stdout",
     "output_type": "stream",
     "text": [
      "{'ap', 'ad', 'is', 'di', 'pa', 'se', 'gr', 'ph', 'ag', 'ar', 'ra'}\n",
      "{'ar', 'ap', 'pa', 'ra'}\n",
      "{'ad', 'is', 'di', 'se'}\n",
      "True\n",
      "False\n"
     ]
    }
   ],
   "source": [
    "from nlp100_5 import n_gram\n",
    "\n",
    "if __name__ == '__main__':\n",
    "    x = 'paraparaparadise'\n",
    "    y = 'paragraph'\n",
    "    X = set(n_gram(x, 2))\n",
    "    Y = set(n_gram(y, 2))\n",
    "    print(X | Y)\n",
    "    print(X & Y)\n",
    "    print(X - Y)\n",
    "    print('se' in X)\n",
    "    print('se' in Y)"
   ]
  },
  {
   "cell_type": "code",
   "execution_count": 26,
   "metadata": {},
   "outputs": [
    {
     "name": "stdout",
     "output_type": "stream",
     "text": [
      "12時の気温は22.4\n"
     ]
    }
   ],
   "source": [
    "def makeString(x, y, z):\n",
    "    return str(x) + '時の' + str(y) + 'は' + str(z)\n",
    "\n",
    "if __name__ == '__main__':\n",
    "    print(makeString(12, '気温', 22.4))"
   ]
  },
  {
   "cell_type": "code",
   "execution_count": 27,
   "metadata": {},
   "outputs": [
    {
     "name": "stdout",
     "output_type": "stream",
     "text": [
      "AzBy-0:!\n"
     ]
    }
   ],
   "source": [
    "def chipher(s):\n",
    "    return ''.join(map(lambda x:chr(219 - ord(x)) if x.islower() else x, s))\n",
    "\n",
    "if __name__ == '__main__':\n",
    "    print(chipher('AaBb-0:!'))\n"
   ]
  },
  {
   "cell_type": "code",
   "execution_count": 28,
   "metadata": {},
   "outputs": [
    {
     "name": "stdout",
     "output_type": "stream",
     "text": [
      "I codul’nt beileve that I colud acaultly utrsdnaned what I was raindeg : the ponnmeaehl pweor of the hmuan mind .\n"
     ]
    }
   ],
   "source": [
    "from random import sample\n",
    "from functools import reduce\n",
    "\n",
    "def shuffleWord(s):\n",
    "    if len(s) <= 4: return s\n",
    "    else: return s[0] + ''.join(sample(s[1:-1], len(s) - 2)) + s[-1]\n",
    "\n",
    "def Typoglycemia(s):\n",
    "    return reduce(lambda words, word: words + ' ' + shuffleWord(word) , s.split())\n",
    "\n",
    "if __name__ == '__main__':\n",
    "    s = 'I couldn’t believe that I could actually understand what I was reading : the phenomenal power of the human mind .'\n",
    "    print(Typoglycemia(s))\n"
   ]
  }
 ],
 "metadata": {
  "kernelspec": {
   "display_name": "Python 3",
   "language": "python",
   "name": "python3"
  },
  "language_info": {
   "codemirror_mode": {
    "name": "ipython",
    "version": 3
   },
   "file_extension": ".py",
   "mimetype": "text/x-python",
   "name": "python",
   "nbconvert_exporter": "python",
   "pygments_lexer": "ipython3",
   "version": "3.7.4"
  }
 },
 "nbformat": 4,
 "nbformat_minor": 4
}
