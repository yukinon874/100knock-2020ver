{
 "cells": [
  {
   "cell_type": "markdown",
   "metadata": {},
   "source": [
    "# 00.文字列の逆順"
   ]
  },
  {
   "cell_type": "code",
   "execution_count": 27,
   "metadata": {},
   "outputs": [
    {
     "name": "stdout",
     "output_type": "stream",
     "text": [
      "desserts\n"
     ]
    }
   ],
   "source": [
    "text = \"stressed\"\n",
    "reversed_text = text[::-1]\n",
    "print(reversed_text)"
   ]
  },
  {
   "cell_type": "markdown",
   "metadata": {},
   "source": [
    "# 01.「パタトクカシーー」"
   ]
  },
  {
   "cell_type": "code",
   "execution_count": 28,
   "metadata": {},
   "outputs": [
    {
     "name": "stdout",
     "output_type": "stream",
     "text": [
      "パトカー\n"
     ]
    }
   ],
   "source": [
    "text = \"パタトクカシーー\"\n",
    "s = text[::2]\n",
    "print(s)"
   ]
  },
  {
   "cell_type": "markdown",
   "metadata": {},
   "source": [
    "# 02.「パトカー」＋「タクシー」＝「パタトクカシーー」"
   ]
  },
  {
   "cell_type": "code",
   "execution_count": 29,
   "metadata": {},
   "outputs": [
    {
     "name": "stdout",
     "output_type": "stream",
     "text": [
      "パタトクカシーー\n",
      "パタトクカシーー\n"
     ]
    }
   ],
   "source": [
    "from functools import reduce\n",
    "\n",
    "text_a = \"パトカー\"\n",
    "text_b = \"タクシー\"\n",
    "s = ''.join(char_a + char_b for (char_a, char_b) in zip(text_a, text_b))\n",
    "print(s)\n",
    "s = reduce(lambda word, char_ab: word + ''.join(char_ab), zip(text_a, text_b), '')\n",
    "print(s)"
   ]
  },
  {
   "cell_type": "markdown",
   "metadata": {},
   "source": [
    "# 03.円周率"
   ]
  },
  {
   "cell_type": "code",
   "execution_count": 30,
   "metadata": {},
   "outputs": [
    {
     "name": "stdout",
     "output_type": "stream",
     "text": [
      "[3, 1, 4, 1, 5, 9, 2, 6, 5, 3, 5, 8, 9, 7, 9]\n"
     ]
    }
   ],
   "source": [
    "import re\n",
    "\n",
    "s = 'Now I need a drink, alcoholic of course, after the heavy lectures involving quantum mechanics.'\n",
    "wordSizeList = [len(word) for word in re.split('[,. ]', s) if word != '']\n",
    "print(wordSizeList)"
   ]
  },
  {
   "cell_type": "markdown",
   "metadata": {},
   "source": [
    "# 04.元素記号"
   ]
  },
  {
   "cell_type": "code",
   "execution_count": 31,
   "metadata": {},
   "outputs": [
    {
     "name": "stdout",
     "output_type": "stream",
     "text": [
      "{'H': 1, 'He': 2, 'Li': 3, 'Be': 4, 'B': 5, 'C': 6, 'N': 7, 'O': 8, 'F': 9, 'Ne': 10, 'Na': 11, 'Mi': 12, 'Al': 13, 'Si': 14, 'P': 15, 'S': 16, 'Cl': 17, 'Ar': 18, 'K': 19, 'Ca': 20}\n"
     ]
    }
   ],
   "source": [
    "import re\n",
    "\n",
    "s = 'Hi He Lied Because Boron Could Not Oxidize Fluorine. New Nations Might Also Sign Peace Security Clause. Arthur King Can.'\n",
    "a = {1, 5, 6, 7, 8, 9, 15, 16, 19}\n",
    "wordIndex = {word[:1] if i + 1 in a else word[:2]:i + 1 for (i, word) in enumerate([word for word in re.split('[. ]', s) if word != ''])}\n",
    "print(wordIndex)"
   ]
  },
  {
   "cell_type": "markdown",
   "metadata": {},
   "source": [
    "# 05.n-gram"
   ]
  },
  {
   "cell_type": "code",
   "execution_count": 32,
   "metadata": {},
   "outputs": [
    {
     "name": "stdout",
     "output_type": "stream",
     "text": [
      "['I ', ' a', 'am', 'm ', ' a', 'an', 'n ', ' N', 'NL', 'LP', 'Pe', 'er']\n",
      "[['I', 'am'], ['am', 'an'], ['an', 'NLPer']]\n"
     ]
    }
   ],
   "source": [
    "def n_gram(s, n):\n",
    "    return [s[i:i + n] for i in range(len(s) - n + 1)]\n",
    "\n",
    "s = 'I am an NLPer'\n",
    "print(n_gram(s, 2))\n",
    "print(n_gram(s.split(), 2))"
   ]
  },
  {
   "cell_type": "markdown",
   "metadata": {},
   "source": [
    "# 06.集合"
   ]
  },
  {
   "cell_type": "code",
   "execution_count": 33,
   "metadata": {},
   "outputs": [
    {
     "name": "stdout",
     "output_type": "stream",
     "text": [
      "{'di', 'ag', 'ph', 'se', 'is', 'ad', 'ra', 'ap', 'ar', 'pa', 'gr'}\n",
      "{'ra', 'ar', 'pa', 'ap'}\n",
      "{'di', 'is', 'ad', 'se'}\n",
      "True\n",
      "False\n"
     ]
    }
   ],
   "source": [
    "x = 'paraparaparadise'\n",
    "y = 'paragraph'\n",
    "X = set(n_gram(x, 2))\n",
    "Y = set(n_gram(y, 2))\n",
    "print(X | Y)\n",
    "print(X & Y)\n",
    "print(X - Y)\n",
    "print('se' in X)\n",
    "print('se' in Y)"
   ]
  },
  {
   "cell_type": "markdown",
   "metadata": {},
   "source": [
    "# 07.テンプレートによる文生成"
   ]
  },
  {
   "cell_type": "code",
   "execution_count": 34,
   "metadata": {},
   "outputs": [
    {
     "name": "stdout",
     "output_type": "stream",
     "text": [
      "12時の気温は22.4\n"
     ]
    }
   ],
   "source": [
    "def makeString(x, y, z):\n",
    "    return str(x) + '時の' + str(y) + 'は' + str(z)\n",
    "\n",
    "print(makeString(12, '気温', 22.4))"
   ]
  },
  {
   "cell_type": "markdown",
   "metadata": {},
   "source": [
    "# 08.暗号文"
   ]
  },
  {
   "cell_type": "code",
   "execution_count": 35,
   "metadata": {},
   "outputs": [
    {
     "name": "stdout",
     "output_type": "stream",
     "text": [
      "AzBy-0:!\n"
     ]
    }
   ],
   "source": [
    "def chipher(s):\n",
    "    return ''.join(map(lambda x:chr(219 - ord(x)) if x.islower() else x, s))\n",
    "\n",
    "print(chipher('AaBb-0:!'))"
   ]
  },
  {
   "cell_type": "markdown",
   "metadata": {},
   "source": [
    "# 09.Typoglycemia"
   ]
  },
  {
   "cell_type": "code",
   "execution_count": 36,
   "metadata": {},
   "outputs": [
    {
     "name": "stdout",
     "output_type": "stream",
     "text": [
      "I couldn’t believe that I could actually understand what I was reading : the phenomenal power of the human mind .\n",
      "I c’olndut bieleve that I colud alclutay udenrastnd what I was rdaeing : the pnemhoanel poewr of the huamn mind .\n"
     ]
    }
   ],
   "source": [
    "from random import sample\n",
    "from functools import reduce\n",
    "\n",
    "def shuffleWord(s):\n",
    "    if len(s) <= 4: return s\n",
    "    else: return s[0] + ''.join(sample(s[1:-1], len(s) - 2)) + s[-1]\n",
    "\n",
    "def Typoglycemia(s):\n",
    "    return reduce(lambda words, word: words + ' ' + shuffleWord(word) , s.split())\n",
    "\n",
    "s = 'I couldn’t believe that I could actually understand what I was reading : the phenomenal power of the human mind .'\n",
    "print(s)\n",
    "print(Typoglycemia(s))"
   ]
  }
 ],
 "metadata": {
  "kernelspec": {
   "display_name": "Python 3",
   "language": "python",
   "name": "python3"
  },
  "language_info": {
   "codemirror_mode": {
    "name": "ipython",
    "version": 3
   },
   "file_extension": ".py",
   "mimetype": "text/x-python",
   "name": "python",
   "nbconvert_exporter": "python",
   "pygments_lexer": "ipython3",
   "version": "3.7.4"
  }
 },
 "nbformat": 4,
 "nbformat_minor": 4
}
