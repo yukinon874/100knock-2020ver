{
 "cells": [
  {
   "cell_type": "code",
   "execution_count": null,
   "metadata": {},
   "outputs": [],
   "source": [
    "import gensim\n",
    "model = gensim.models.KeyedVectors.load_word2vec_format('./data/GoogleNews-vectors-negative300.bin', binary=True)"
   ]
  },
  {
   "cell_type": "code",
   "execution_count": null,
   "metadata": {},
   "outputs": [],
   "source": [
    "len(model.vocab)"
   ]
  },
  {
   "cell_type": "markdown",
   "metadata": {},
   "source": [
    "# 70. 単語ベクトルの和による特徴量"
   ]
  },
  {
   "cell_type": "code",
   "execution_count": 10,
   "metadata": {},
   "outputs": [],
   "source": [
    "import numpy as np\n",
    "import re\n",
    "from functools import reduce\n",
    "from nltk.tokenize import word_tokenize\n",
    "#from nltk.stem.porter import PorterStemmer"
   ]
  },
  {
   "cell_type": "code",
   "execution_count": 11,
   "metadata": {},
   "outputs": [],
   "source": [
    "def load_data(dir_name, file_name):\n",
    "    with open(f'{dir_name}{file_name}') as f:\n",
    "        X = list()\n",
    "        Y = list()\n",
    "        for line in f:\n",
    "            line = line.strip()\n",
    "            splited_line = line.split('\\t')\n",
    "            X.append(splited_line[0])\n",
    "            Y.append(splited_line[1])\n",
    "        return np.asarray(X), np.asarray(Y)\n",
    "\n",
    "def txt2vec(x):\n",
    "    vec_x_list = list()\n",
    "    for text in x:\n",
    "        words = word_tokenize(text)\n",
    "        words_vec = [model[word] for word in words if word in model]\n",
    "        if not words_vec:\n",
    "            print(words)\n",
    "            continue\n",
    "        vec_x_list.append(sum(words_vec) / len(words_vec))\n",
    "    return np.asarray(vec_x_list)\n",
    "\n",
    "def save_file_npy(dir_name, file_name, x):\n",
    "    np.save(f'{dir_name}{file_name}', x)\n",
    "        \n",
    "def load_file_npy(dir_name, file_name):\n",
    "    return np.load(f'{dir_name}{file_name}')\n",
    "\n",
    "def chr2num(y):\n",
    "    converter = {'b':0, 't':1, 'e':2, 'm':3}\n",
    "    return np.asarray([converter[article_type] for article_type in y])"
   ]
  },
  {
   "cell_type": "code",
   "execution_count": null,
   "metadata": {},
   "outputs": [],
   "source": [
    "train_x, train_y = load_data('data/', 'train.txt')\n",
    "valid_x, valid_y = load_data('data/', 'valid.txt')\n",
    "test_x, test_y = load_data('data/', 'test.txt')"
   ]
  },
  {
   "cell_type": "code",
   "execution_count": null,
   "metadata": {},
   "outputs": [],
   "source": [
    "print(train_x.shape, train_y.shape)\n",
    "print(valid_x.shape, valid_y.shape)\n",
    "print(test_x.shape, test_y.shape)"
   ]
  },
  {
   "cell_type": "code",
   "execution_count": null,
   "metadata": {},
   "outputs": [],
   "source": [
    "train_x = txt2vec(train_x)\n",
    "valid_x = txt2vec(valid_x)\n",
    "test_x = txt2vec(test_x)"
   ]
  },
  {
   "cell_type": "code",
   "execution_count": null,
   "metadata": {},
   "outputs": [],
   "source": [
    "train_y = chr2num(train_y)\n",
    "valid_y = chr2num(valid_y)\n",
    "test_y = chr2num(test_y)"
   ]
  },
  {
   "cell_type": "code",
   "execution_count": null,
   "metadata": {},
   "outputs": [],
   "source": [
    "save_file_npy('work/', 'train_x', train_x)\n",
    "save_file_npy('work/', 'train_y', train_y)\n",
    "save_file_npy('work/', 'valid_x', valid_x)\n",
    "save_file_npy('work/', 'valid_y', valid_y)\n",
    "save_file_npy('work/', 'test_x', test_x)\n",
    "save_file_npy('work/', 'test_y', test_y)"
   ]
  },
  {
   "cell_type": "markdown",
   "metadata": {},
   "source": [
    "# 71. 単層ニューラルネットワークによる予測"
   ]
  },
  {
   "cell_type": "code",
   "execution_count": null,
   "metadata": {},
   "outputs": [],
   "source": [
    "train_x = load_file_npy('work/', 'train_x.npy')\n",
    "train_y = load_file_npy('work/', 'train_y.npy')\n",
    "valid_x = load_file_npy('work/', 'valid_x.npy')\n",
    "valid_y = load_file_npy('work/', 'valid_y.npy')\n",
    "test_x = load_file_npy('work/', 'test_x.npy')\n",
    "test_y = load_file_npy('work/', 'test_y.npy')"
   ]
  },
  {
   "cell_type": "code",
   "execution_count": null,
   "metadata": {},
   "outputs": [],
   "source": [
    "print(train_x.shape, train_y.shape)"
   ]
  },
  {
   "cell_type": "code",
   "execution_count": null,
   "metadata": {},
   "outputs": [],
   "source": [
    "import torch\n",
    "import torch.nn as nn\n",
    "import torch.nn.functional as F\n",
    "import torch.optim as optim\n",
    "#from torch.autograd import Variable"
   ]
  },
  {
   "cell_type": "code",
   "execution_count": null,
   "metadata": {},
   "outputs": [],
   "source": [
    "torch.manual_seed(3)\n",
    "W = torch.randn(300, 4)\n",
    "print(W)"
   ]
  },
  {
   "cell_type": "code",
   "execution_count": null,
   "metadata": {},
   "outputs": [],
   "source": [
    "train_x = torch.from_numpy(train_x)\n",
    "train_y = torch.from_numpy(train_y)"
   ]
  },
  {
   "cell_type": "code",
   "execution_count": null,
   "metadata": {},
   "outputs": [],
   "source": [
    "print(F.softmax(torch.matmul(train_x[:1], W), dim=1))"
   ]
  },
  {
   "cell_type": "code",
   "execution_count": null,
   "metadata": {},
   "outputs": [],
   "source": [
    "print(F.softmax(torch.matmul(train_x[:4], W), dim=1))"
   ]
  },
  {
   "cell_type": "markdown",
   "metadata": {},
   "source": [
    "# 72. 損失と勾配の計算"
   ]
  },
  {
   "cell_type": "code",
   "execution_count": null,
   "metadata": {},
   "outputs": [],
   "source": [
    "torch.manual_seed(0)\n",
    "W = nn.Parameter(torch.randn(300, 4), requires_grad=True)\n",
    "print(W)"
   ]
  },
  {
   "cell_type": "code",
   "execution_count": null,
   "metadata": {},
   "outputs": [],
   "source": [
    "criterion = nn.CrossEntropyLoss()\n",
    "v_train_x = train_x[:4]\n",
    "v_train_y = train_y[:4]"
   ]
  },
  {
   "cell_type": "code",
   "execution_count": null,
   "metadata": {},
   "outputs": [],
   "source": [
    "print(v_train_x)"
   ]
  },
  {
   "cell_type": "code",
   "execution_count": null,
   "metadata": {},
   "outputs": [],
   "source": [
    "v_train_x = torch.matmul(v_train_x, W)\n",
    "loss = criterion(v_train_x, v_train_y)"
   ]
  },
  {
   "cell_type": "code",
   "execution_count": null,
   "metadata": {},
   "outputs": [],
   "source": [
    "print(loss)"
   ]
  },
  {
   "cell_type": "code",
   "execution_count": null,
   "metadata": {},
   "outputs": [],
   "source": [
    "loss.backward()\n",
    "print(W.grad)"
   ]
  },
  {
   "cell_type": "code",
   "execution_count": null,
   "metadata": {},
   "outputs": [],
   "source": [
    "torch.manual_seed(0)\n",
    "W = nn.Parameter(torch.randn(300, 4), requires_grad=True)\n",
    "print(W)"
   ]
  },
  {
   "cell_type": "code",
   "execution_count": null,
   "metadata": {},
   "outputs": [],
   "source": [
    "out = torch.matmul(train_x[:1], W)\n",
    "loss = criterion(out, train_y[:1])"
   ]
  },
  {
   "cell_type": "code",
   "execution_count": null,
   "metadata": {},
   "outputs": [],
   "source": [
    "print(loss)"
   ]
  },
  {
   "cell_type": "code",
   "execution_count": null,
   "metadata": {},
   "outputs": [],
   "source": [
    "loss.backward()\n",
    "print(W.grad)"
   ]
  },
  {
   "cell_type": "markdown",
   "metadata": {},
   "source": [
    "# 73. 確率的勾配降下法による学習"
   ]
  },
  {
   "cell_type": "code",
   "execution_count": null,
   "metadata": {},
   "outputs": [],
   "source": [
    "import tqdm"
   ]
  },
  {
   "cell_type": "code",
   "execution_count": null,
   "metadata": {},
   "outputs": [],
   "source": [
    "train_x = load_file_npy('work/', 'train_x.npy')\n",
    "train_y = load_file_npy('work/', 'train_y.npy')\n",
    "valid_x = load_file_npy('work/', 'valid_x.npy')\n",
    "valid_y = load_file_npy('work/', 'valid_y.npy')\n",
    "test_x = load_file_npy('work/', 'test_x.npy')\n",
    "test_y = load_file_npy('work/', 'test_y.npy')"
   ]
  },
  {
   "cell_type": "code",
   "execution_count": null,
   "metadata": {},
   "outputs": [],
   "source": [
    "torch.manual_seed(0)\n",
    "W = nn.Parameter(torch.randn(300, 4), requires_grad=True)\n",
    "print(W)"
   ]
  },
  {
   "cell_type": "code",
   "execution_count": null,
   "metadata": {},
   "outputs": [],
   "source": [
    "def train(train_x, train_y, op, criterion, W, batch_size=4, nepoch=100):\n",
    "    ntrain = len(train_x)\n",
    "    loss_list = list()\n",
    "    for epoch in tqdm.notebook.tqdm(range(nepoch)):\n",
    "        sum_loss = 0\n",
    "        perm = np.random.permutation(ntrain)\n",
    "        for i in range(0, ntrain, batch_size):\n",
    "            batch_x = torch.from_numpy(train_x[perm[i:i + batch_size]])\n",
    "            batch_y = torch.from_numpy(train_y[perm[i:i + batch_size]])\n",
    "            batch_x = torch.matmul(batch_x, W)\n",
    "            loss = criterion(batch_x, batch_y)\n",
    "            op.zero_grad()\n",
    "            loss.backward()\n",
    "            op.step()\n",
    "            sum_loss += loss.data.item() * len(batch_x)\n",
    "        loss_list.append(sum_loss / ntrain)\n",
    "    return loss_list"
   ]
  },
  {
   "cell_type": "code",
   "execution_count": null,
   "metadata": {},
   "outputs": [],
   "source": [
    "ntrain = len(train_x)\n",
    "nepoch = 100\n",
    "op = optim.SGD([W], lr=0.01)\n",
    "criterion = nn.CrossEntropyLoss()\n",
    "result = train(train_x, train_y, op, criterion, W, batch_size=1)"
   ]
  },
  {
   "cell_type": "code",
   "execution_count": null,
   "metadata": {},
   "outputs": [],
   "source": [
    "print(W)"
   ]
  },
  {
   "cell_type": "code",
   "execution_count": null,
   "metadata": {},
   "outputs": [],
   "source": [
    "print(result[::10])"
   ]
  },
  {
   "cell_type": "markdown",
   "metadata": {},
   "source": [
    "# 74. 正解率の計測"
   ]
  },
  {
   "cell_type": "code",
   "execution_count": null,
   "metadata": {},
   "outputs": [],
   "source": [
    "from sklearn.metrics import accuracy_score"
   ]
  },
  {
   "cell_type": "code",
   "execution_count": null,
   "metadata": {},
   "outputs": [],
   "source": [
    "def calc_acc(data_x, data_y, W):\n",
    "    with torch.no_grad():\n",
    "        pred_y = torch.argmax(torch.matmul(torch.from_numpy(data_x), W), dim=1)\n",
    "    return accuracy_score(data_y, pred_y)"
   ]
  },
  {
   "cell_type": "code",
   "execution_count": null,
   "metadata": {},
   "outputs": [],
   "source": [
    "print(f'test_acc={calc_acc(test_x, test_y, W)}')"
   ]
  },
  {
   "cell_type": "code",
   "execution_count": null,
   "metadata": {},
   "outputs": [],
   "source": [
    "print(f'train_loss={calc_acc(train_x, train_y, W)}')"
   ]
  },
  {
   "cell_type": "markdown",
   "metadata": {},
   "source": [
    "# 75. 損失と正解率のプロット"
   ]
  },
  {
   "cell_type": "markdown",
   "metadata": {},
   "source": [
    "https://pytorch.org/docs/stable/tensorboard.html"
   ]
  },
  {
   "cell_type": "code",
   "execution_count": null,
   "metadata": {},
   "outputs": [],
   "source": [
    "from torch.utils.tensorboard import SummaryWriter\n",
    "import tqdm"
   ]
  },
  {
   "cell_type": "code",
   "execution_count": null,
   "metadata": {},
   "outputs": [],
   "source": [
    "def execution(data_x, data_y, op, criterion, W, batch_size=4, is_train=True):\n",
    "    ndata = len(data_x)\n",
    "    perm = np.random.permutation(ndata)\n",
    "    sum_loss = 0\n",
    "    for i in range(0, ndata, batch_size):\n",
    "        op.zero_grad()\n",
    "        batch_x = torch.from_numpy(data_x[perm[i:i + batch_size]])\n",
    "        batch_y = torch.from_numpy(data_y[perm[i:i + batch_size]])\n",
    "        if is_train:\n",
    "            out = torch.matmul(batch_x, W)\n",
    "            loss = criterion(out, batch_y)\n",
    "            loss.backward()\n",
    "            op.step()\n",
    "        else:\n",
    "            with torch.no_grad():\n",
    "                out = torch.matmul(batch_x, W)\n",
    "                loss = criterion(out, batch_y)\n",
    "        sum_loss += loss.data.item() * len(batch_x)\n",
    "    return sum_loss / ndata"
   ]
  },
  {
   "cell_type": "code",
   "execution_count": null,
   "metadata": {},
   "outputs": [],
   "source": [
    "torch.manual_seed(0)\n",
    "W = nn.Parameter(torch.randn(300, 4), requires_grad=True)\n",
    "print(W)\n",
    "ntrain = len(train_x)\n",
    "nepoch = 100\n",
    "op = optim.SGD([W], lr=0.01)\n",
    "criterion = nn.CrossEntropyLoss()"
   ]
  },
  {
   "cell_type": "code",
   "execution_count": null,
   "metadata": {},
   "outputs": [],
   "source": [
    "train_writer = SummaryWriter(log_dir='./work/logs/train')\n",
    "valid_writer = SummaryWriter(log_dir='./work/logs/valid')\n",
    "for epoch in tqdm.notebook.tqdm(range(nepoch)):\n",
    "    train_loss = execution(train_x, train_y, op, criterion, W, batch_size=1)\n",
    "    train_writer.add_scalar(\"loss\", train_loss, epoch) \n",
    "    train_writer.add_scalar(\"accuracy\", calc_acc(train_x, train_y, W), epoch)\n",
    "    \n",
    "    valid_loss = execution(valid_x, valid_y, op, criterion, W, batch_size=1, is_train=False)\n",
    "    valid_writer.add_scalar(\"loss\", valid_loss, epoch)\n",
    "    valid_writer.add_scalar(\"accuracy\", calc_acc(valid_x, valid_y, W), epoch)\n",
    "    \n",
    "train_writer.close()\n",
    "valid_writer.close()"
   ]
  },
  {
   "cell_type": "code",
   "execution_count": null,
   "metadata": {},
   "outputs": [],
   "source": [
    "from IPython.display import SVG"
   ]
  },
  {
   "cell_type": "code",
   "execution_count": null,
   "metadata": {},
   "outputs": [],
   "source": [
    "SVG(\"work/loss.svg\")"
   ]
  },
  {
   "cell_type": "code",
   "execution_count": null,
   "metadata": {},
   "outputs": [],
   "source": [
    "SVG(\"work/accuracy.svg\")"
   ]
  },
  {
   "cell_type": "markdown",
   "metadata": {},
   "source": [
    "# 76. チェックポイント"
   ]
  },
  {
   "cell_type": "code",
   "execution_count": null,
   "metadata": {},
   "outputs": [],
   "source": [
    "torch.manual_seed(0)\n",
    "W = nn.Parameter(torch.randn(300, 4), requires_grad=True)\n",
    "print(W)\n",
    "ntrain = len(train_x)\n",
    "nepoch = 10\n",
    "op = optim.SGD([W], lr=0.01)\n",
    "criterion = nn.CrossEntropyLoss()"
   ]
  },
  {
   "cell_type": "code",
   "execution_count": null,
   "metadata": {},
   "outputs": [],
   "source": [
    "for epoch in tqdm.notebook.tqdm(range(nepoch)):\n",
    "    train_loss = execution(train_x, train_y, op, criterion, W, batch_size=1)\n",
    "    valid_loss = execution(valid_x, valid_y, op, criterion, W, batch_size=1, is_train=False)\n",
    "    torch.save({\n",
    "        'epoch': epoch,\n",
    "        'W': W,\n",
    "        'optimizer_state_dict': op.state_dict(),\n",
    "    }, f'./work/checkpoints/checkpoint_{epoch}.pt')"
   ]
  },
  {
   "cell_type": "code",
   "execution_count": null,
   "metadata": {},
   "outputs": [],
   "source": [
    "print(W)"
   ]
  },
  {
   "cell_type": "code",
   "execution_count": null,
   "metadata": {},
   "outputs": [],
   "source": [
    "torch.manual_seed(0)\n",
    "W = nn.Parameter(torch.randn(300, 4), requires_grad=True)\n",
    "checkpoint = torch.load('./work/checkpoints/checkpoint_9.pt')\n",
    "op = optim.SGD([W], lr=0.01)\n",
    "W = checkpoint['W']\n",
    "op.load_state_dict(checkpoint['optimizer_state_dict'])"
   ]
  },
  {
   "cell_type": "code",
   "execution_count": null,
   "metadata": {},
   "outputs": [],
   "source": [
    "print(W)"
   ]
  },
  {
   "cell_type": "markdown",
   "metadata": {},
   "source": [
    "# 77. ミニバッチ化"
   ]
  },
  {
   "cell_type": "markdown",
   "metadata": {},
   "source": [
    "使用したライブラリ\n",
    "https://github.com/primitiv/primitiv"
   ]
  },
  {
   "cell_type": "code",
   "execution_count": 7,
   "metadata": {},
   "outputs": [
    {
     "name": "stdout",
     "output_type": "stream",
     "text": [
      "Overwriting ./src/q77.cpp\n"
     ]
    }
   ],
   "source": [
    "%%file ./src/q77.cpp\n",
    "#include <iostream>\n",
    "#include <vector>\n",
    "#include <algorithm>\n",
    "#include <fstream>\n",
    "#include <cassert>\n",
    "#include <primitiv/primitiv.h>\n",
    "#include <primitiv/primitiv_cuda.h>\n",
    "#include <functional>\n",
    "#include <time.h>\n",
    "\n",
    "using namespace std;\n",
    "using namespace primitiv;\n",
    "namespace F = primitiv::functions;\n",
    "namespace I = primitiv::initializers;\n",
    "namespace O = primitiv::optimizers;\n",
    "\n",
    "\n",
    "template<typename T>\n",
    "vector<vector<T>> load_data(string path) {\n",
    "    fstream ifs(path);\n",
    "    stringstream ss;\n",
    "    string line;\n",
    "    getline(ifs, line);\n",
    "    ss << line;\n",
    "    int size, dim;\n",
    "    ss >> size >> dim;\n",
    "    vector<vector<T>> data(size, vector<T> (dim));\n",
    "    for (int iter = 0; iter < size; iter++) {\n",
    "        ss.clear(stringstream::goodbit);\n",
    "        getline(ifs, line);\n",
    "        assert(line != \"\");\n",
    "        ss << line;\n",
    "        for (int i = 0; i < dim; i++) {\n",
    "            ss >> data[iter][i];\n",
    "        }\n",
    "    }\n",
    "    return data;\n",
    "}\n",
    "\n",
    "template<typename T>\n",
    "vector<T> make_batch(const vector<vector<T>> &x, const vector<unsigned> &batch_ids) {\n",
    "    vector<T> data;\n",
    "    for(int i = 0; i < batch_ids.size(); i++) {\n",
    "        for(int j = 0; j < x[batch_ids[i]].size(); j++) {\n",
    "            data.emplace_back(x[batch_ids[i]][j]);\n",
    "        }\n",
    "    }\n",
    "    return data;\n",
    "};\n",
    "\n",
    "\n",
    "int main(int argc, char *argv[]) {\n",
    "    vector<vector<float>> train_x = load_data<float>(\"./work/train_x.data\");\n",
    "    vector<vector<unsigned>> train_y = load_data<unsigned>(\"./work/train_y.data\");\n",
    "    vector<vector<float>> valid_x = load_data<float>(\"./work/valid_x.data\");\n",
    "    vector<vector<unsigned>> valid_y = load_data<unsigned>(\"./work/valid_y.data\");\n",
    "    vector<vector<float>> test_x = load_data<float>(\"./work/test_x.data\");\n",
    "    vector<vector<unsigned>> test_y = load_data<unsigned>(\"./work/test_y.data\");\n",
    "\n",
    "    devices::Naive dev;\n",
    "    Device::set_default(dev);\n",
    "\n",
    "    Graph g;\n",
    "    Graph::set_default(g);\n",
    "\n",
    "    for(int batch_size=1; batch_size <= 1024; batch_size *= 2){\n",
    "        Parameter pw({4, 300}, I::XavierUniform());\n",
    "        float lr = 0.01;\n",
    "        O::SGD optimizer(lr);\n",
    "        optimizer.add(pw);\n",
    "\n",
    "        random_device rd;\n",
    "        mt19937 rng(rd());\n",
    "\n",
    "        const unsigned nepoch = 100;\n",
    "        unsigned dim = train_x[0].size();\n",
    "\n",
    "        function<pair<float, float>(vector<vector<float>>, vector<vector<unsigned>>, bool)> execute = \\\n",
    "            [&](vector<vector<float>> x, vector<vector<unsigned>> y, bool is_train) {\n",
    "\n",
    "            vector<unsigned> data_ids(x.size());\n",
    "            iota(begin(data_ids), end(data_ids), 0);\n",
    "            shuffle(begin(data_ids), end(data_ids), rng);\n",
    "            unsigned match = 0;\n",
    "            float total_loss = 0.0;\n",
    "            for (unsigned ofset = 0; ofset < x.size(); ofset += batch_size) {\n",
    "                const vector<unsigned> batch_ids(\n",
    "                        begin(data_ids) + ofset,\n",
    "                        begin(data_ids) + min<unsigned>(ofset + batch_size, x.size())\n",
    "                    );\n",
    "                const auto x_batch = make_batch(x, batch_ids);\n",
    "                const auto y_batch = make_batch(y, batch_ids);\n",
    "                g.clear();\n",
    "                const Node x = F::input<Node>(Shape({dim}, batch_ids.size()), x_batch);\n",
    "                const Node w = F::parameter<Node>(pw);\n",
    "                const Node res = F::matmul(w, x);\n",
    "                const Node loss = F::softmax_cross_entropy(res, y_batch, 0);\n",
    "                Node avg_loss = F::batch::mean(loss);\n",
    "                total_loss += avg_loss.to_float() * batch_ids.size();\n",
    "                optimizer.reset_gradients();\n",
    "                if(is_train) {\n",
    "                    loss.backward();\n",
    "                    optimizer.update();\n",
    "                }\n",
    "                vector<float> y_val = res.to_vector();\n",
    "                for (unsigned i = 0; i < batch_ids.size(); i++) {\n",
    "                    float maxval = -1e10;\n",
    "                    int argmax = -1;\n",
    "                    for (unsigned j = 0; j < 4; j++) {\n",
    "                        float v = y_val[j + i * 4];\n",
    "                        if (v > maxval) maxval = v, argmax = static_cast<int>(j);\n",
    "                    }\n",
    "                    if (argmax == y[batch_ids[i]][0]) match++;\n",
    "                }\n",
    "            }\n",
    "            float loss = total_loss / x.size();\n",
    "            float accuracy = 100.0 * match / x.size();\n",
    "            return make_pair(loss, accuracy);\n",
    "        };\n",
    "\n",
    "\n",
    "        clock_t train_start = clock();\n",
    "        for(int epoch = 0; epoch < nepoch; epoch++) {\n",
    "            clock_t start = clock();\n",
    "            pair<float, float> train_res = execute(train_x, train_y, true);\n",
    "\n",
    "            pair<float, float> valid_res = execute(valid_x, valid_y, false);\n",
    "        }\n",
    "        float train_time = static_cast<float> (clock() - train_start) / CLOCKS_PER_SEC;\n",
    "        cout << \"batch_size\\t\" << batch_size << \"\\ttrain_time\\t\" << train_time << \" [sec]\" << endl;\n",
    "    }\n",
    "    return 0;\n",
    "}"
   ]
  },
  {
   "cell_type": "raw",
   "metadata": {},
   "source": [
    "batch_size\t1\ttrain_time\t25.5104 [sec]\n",
    "batch_size\t2\ttrain_time\t20.6546 [sec]\n",
    "batch_size\t4\ttrain_time\t18.1747 [sec]\n",
    "batch_size\t8\ttrain_time\t17.015 [sec]\n",
    "batch_size\t16\ttrain_time\t16.3791 [sec]\n",
    "batch_size\t32\ttrain_time\t15.9997 [sec]\n",
    "batch_size\t64\ttrain_time\t15.7733 [sec]\n",
    "batch_size\t128\ttrain_time\t15.6337 [sec]\n",
    "batch_size\t256\ttrain_time\t15.6175 [sec]\n",
    "batch_size\t512\ttrain_time\t15.6322 [sec]\n",
    "batch_size\t1024\ttrain_time\t15.8026 [sec]"
   ]
  },
  {
   "cell_type": "markdown",
   "metadata": {},
   "source": [
    "# 78. GPU上での学習"
   ]
  },
  {
   "cell_type": "code",
   "execution_count": null,
   "metadata": {},
   "outputs": [],
   "source": [
    "//devices::Naive dev;\n",
    "//Device::set_default(dev);\n",
    "        \n",
    "devices::CUDA dev(0);\n",
    "Device::set_default(dev);"
   ]
  },
  {
   "cell_type": "raw",
   "metadata": {},
   "source": [
    "batch_size\t1\ttrain_time\t124.201 [sec]\n",
    "batch_size\t2\ttrain_time\t68.3352 [sec]\n",
    "batch_size\t4\ttrain_time\t39.5964 [sec]\n",
    "batch_size\t8\ttrain_time\t25.7677 [sec]\n",
    "batch_size\t16\ttrain_time\t18.4064 [sec]\n",
    "batch_size\t32\ttrain_time\t14.2714 [sec]\n",
    "batch_size\t64\ttrain_time\t12.1672 [sec]\n",
    "batch_size\t128\ttrain_time\t11.0849 [sec]\n",
    "batch_size\t256\ttrain_time\t10.5259 [sec]\n",
    "batch_size\t512\ttrain_time\t10.3015 [sec]\n",
    "batch_size\t1024\ttrain_time\t10.1694 [sec]"
   ]
  },
  {
   "cell_type": "markdown",
   "metadata": {},
   "source": [
    "# 79. 多層ニューラルネットワーク"
   ]
  },
  {
   "cell_type": "code",
   "execution_count": 6,
   "metadata": {},
   "outputs": [
    {
     "name": "stdout",
     "output_type": "stream",
     "text": [
      "Writing ./src/q79.cpp\n"
     ]
    }
   ],
   "source": [
    "%%file ./src/q79.cpp\n",
    "#include <iostream>\n",
    "#include <vector>\n",
    "#include <algorithm>\n",
    "#include <fstream>\n",
    "#include <cassert>\n",
    "#include <primitiv/primitiv.h>\n",
    "#include <primitiv/primitiv_cuda.h>\n",
    "#include <functional>\n",
    "#include <time.h>\n",
    "\n",
    "using namespace std;\n",
    "using namespace primitiv;\n",
    "namespace F = primitiv::functions;\n",
    "namespace I = primitiv::initializers;\n",
    "namespace O = primitiv::optimizers;\n",
    "\n",
    "namespace {\n",
    "\n",
    "template <typename Var>\n",
    "class Linear : public Model {\n",
    "    Parameter pw_, pb_;\n",
    "    Var w_, b_;\n",
    "\n",
    "    public:\n",
    "    Linear(unsigned in_size, unsigned out_size)\n",
    "        : pw_({out_size, in_size}, I::XavierUniform())\n",
    "        , pb_({out_size}, I::Constant(0)) {\n",
    "            add(\"pw\", pw_);\n",
    "            add(\"pb\", pb_);\n",
    "        }\n",
    "\n",
    "    void init() {\n",
    "        w_ = F::parameter<Var>(pw_);\n",
    "        b_ = F::parameter<Var>(pb_);\n",
    "    }\n",
    "\n",
    "    Var forward(const Var &x) {\n",
    "        return F::matmul(w_, x) + b_;\n",
    "    }\n",
    "};\n",
    "\n",
    "\n",
    "template <typename Var>\n",
    "class MLP : public Model {\n",
    "    Linear<Var> first_layer;\n",
    "    vector<Linear<Var>*> hidden_layers;\n",
    "    Linear<Var> last_layer;\n",
    "    float dropout;\n",
    "    unsigned num_hidden;\n",
    "\n",
    "    public:\n",
    "    MLP(unsigned num_hidden_, unsigned hidden_dim, float dropout_) : first_layer(300, hidden_dim), last_layer(hidden_dim, 4), dropout(dropout_), num_hidden(num_hidden_) {\n",
    "        add(\"first_layer\", first_layer);\n",
    "        for(int i = 0; i < num_hidden; i++) {\n",
    "            Linear<Var> *hidden_layer = new Linear<Var>(hidden_dim, hidden_dim);\n",
    "            hidden_layers.emplace_back(hidden_layer);\n",
    "            add(\"hidden_layer\" + to_string(i), *hidden_layers[i]);\n",
    "        }\n",
    "        add(\"last_layer\", last_layer);\n",
    "    }\n",
    "\n",
    "    ~MLP(){\n",
    "        for(int i = 0; i < num_hidden; i++) {\n",
    "            delete hidden_layers[i];\n",
    "        }\n",
    "    }\n",
    "\n",
    "    Var forward(const Var &x, bool train) {\n",
    "        first_layer.init();\n",
    "        for(int i = 0; i < num_hidden; i++) {\n",
    "            hidden_layers[i]->init();\n",
    "        }\n",
    "        last_layer.init();\n",
    "\n",
    "        Var x1 = F::dropout(F::relu(first_layer.forward(x)), dropout, train);\n",
    "        for(int i = 0; i < num_hidden; i++) {\n",
    "            x1 = F::dropout(F::relu(hidden_layers[i]->forward(x1)), dropout, train);\n",
    "        }\n",
    "        x1 = last_layer.forward(x1);\n",
    "        return x1;\n",
    "    }\n",
    "\n",
    "};\n",
    "}\n",
    "\n",
    "template<typename T>\n",
    "vector<vector<T>> load_data(string path) {\n",
    "    fstream ifs(path);\n",
    "    stringstream ss;\n",
    "    string line;\n",
    "    getline(ifs, line);\n",
    "    ss << line;\n",
    "    int size, dim;\n",
    "    ss >> size >> dim;\n",
    "    vector<vector<T>> data(size, vector<T> (dim));\n",
    "    for (int iter = 0; iter < size; iter++) {\n",
    "        ss.clear(stringstream::goodbit);\n",
    "        getline(ifs, line);\n",
    "        assert(line != \"\");\n",
    "        ss << line;\n",
    "        for (int i = 0; i < dim; i++) {\n",
    "            ss >> data[iter][i];\n",
    "        }\n",
    "    }\n",
    "    return data;\n",
    "}\n",
    "\n",
    "template<typename T>\n",
    "vector<T> make_batch(const vector<vector<T>> &x, const vector<unsigned> &batch_ids) {\n",
    "    vector<T> data;\n",
    "    for(int i = 0; i < batch_ids.size(); i++) {\n",
    "        for(int j = 0; j < x[batch_ids[i]].size(); j++) {\n",
    "            data.emplace_back(x[batch_ids[i]][j]);\n",
    "        }\n",
    "    }\n",
    "    return data;\n",
    "};\n",
    "\n",
    "\n",
    "int main(int argc, char *argv[]) {\n",
    "    vector<vector<float>> train_x = load_data<float>(\"./work/train_x.data\");\n",
    "    vector<vector<unsigned>> train_y = load_data<unsigned>(\"./work/train_y.data\");\n",
    "    vector<vector<float>> valid_x = load_data<float>(\"./work/valid_x.data\");\n",
    "    vector<vector<unsigned>> valid_y = load_data<unsigned>(\"./work/valid_y.data\");\n",
    "    vector<vector<float>> test_x = load_data<float>(\"./work/test_x.data\");\n",
    "    vector<vector<unsigned>> test_y = load_data<unsigned>(\"./work/test_y.data\");\n",
    "\n",
    "    devices::CUDA dev(0);\n",
    "    Device::set_default(dev);\n",
    "\n",
    "    Graph g;\n",
    "    Graph::set_default(g);\n",
    "\n",
    "    ::MLP<Node> mlp(3, 300, 0.3);\n",
    "\n",
    "    float lr = 0.0005;\n",
    "    O::Adam optimizer(lr);\n",
    "    optimizer.add(mlp);\n",
    "\n",
    "    random_device rd;\n",
    "    mt19937 rng(rd());\n",
    "    int batch_size = 256;\n",
    "\n",
    "    const unsigned nepoch = 100;\n",
    "    unsigned dim = train_x[0].size();\n",
    "\n",
    "    function<pair<float, float>(vector<vector<float>>, vector<vector<unsigned>>, bool)> execute = \\\n",
    "      [&](vector<vector<float>> x, vector<vector<unsigned>> y, bool is_train) {\n",
    "\n",
    "      vector<unsigned> data_ids(x.size());\n",
    "      iota(begin(data_ids), end(data_ids), 0);\n",
    "      shuffle(begin(data_ids), end(data_ids), rng);\n",
    "      unsigned match = 0;\n",
    "      float total_loss = 0.0;\n",
    "      for (unsigned ofset = 0; ofset < x.size(); ofset += batch_size) {\n",
    "          const vector<unsigned> batch_ids(\n",
    "                  begin(data_ids) + ofset,\n",
    "                  begin(data_ids) + min<unsigned>(ofset + batch_size, x.size())\n",
    "          );\n",
    "          const auto x_batch = make_batch(x, batch_ids);\n",
    "          const auto y_batch = make_batch(y, batch_ids);\n",
    "          g.clear();\n",
    "          const Node x = F::input<Node>(Shape({dim}, batch_ids.size()), x_batch);\n",
    "          const Node res = mlp.forward(x, is_train);\n",
    "          const Node loss = F::softmax_cross_entropy(res, y_batch, 0);\n",
    "          Node avg_loss = F::batch::mean(loss);\n",
    "          total_loss += avg_loss.to_float() * batch_ids.size();\n",
    "          optimizer.reset_gradients();\n",
    "          if(is_train) {\n",
    "              loss.backward();\n",
    "              optimizer.update();\n",
    "          }\n",
    "          vector<float> y_val = res.to_vector();\n",
    "          for (unsigned i = 0; i < batch_ids.size(); i++) {\n",
    "              float maxval = -1e10;\n",
    "              int argmax = -1;\n",
    "              for (unsigned j = 0; j < 4; j++) {\n",
    "                  float v = y_val[j + i * 4];\n",
    "                  if (v > maxval) maxval = v, argmax = static_cast<int>(j);\n",
    "              }\n",
    "              if (argmax == y[batch_ids[i]][0]) match++;\n",
    "          }\n",
    "      }\n",
    "      float loss = total_loss / x.size();\n",
    "      float accuracy = 100.0 * match / x.size();\n",
    "      return make_pair(loss, accuracy);\n",
    "    };\n",
    "\n",
    "\n",
    "    clock_t train_start = clock();\n",
    "    for(int epoch = 0; epoch < nepoch; epoch++) {\n",
    "        clock_t start = clock();\n",
    "        cout << \"epoch\\t\" << epoch;\n",
    "        pair<float, float> train_res = execute(train_x, train_y, true);\n",
    "        cout << \"\\ttrain_loss\\t\" << train_res.first << \"\\ttrain_acc\\t\" << train_res.second;\n",
    "\n",
    "        pair<float, float> valid_res = execute(valid_x, valid_y, false);\n",
    "        cout << \"\\tvalid_loss\\t\" << valid_res.first << \"\\tvalid_acc\\t\" << valid_res.second;\n",
    "\n",
    "        float elapsed_time = static_cast<float> (clock() - start) / CLOCKS_PER_SEC;\n",
    "        cout << \"\\telapsed_time\\t\" << elapsed_time << \" [sec]\" << endl;\n",
    "    }\n",
    "    float train_time = static_cast<float> (clock() - train_start) / CLOCKS_PER_SEC;\n",
    "    cout << \"batch_size\\t\" << batch_size << \"\\ttrain_time\\t\" << train_time << endl;\n",
    "\n",
    "    cout << \"train accuracy: \" << execute(train_x, train_y, false).second << endl;\n",
    "    cout << \"valid accuracy: \" << execute(valid_x, valid_y, false).second << endl;\n",
    "    cout << \"test accuracy: \" << execute(test_x, test_y, false).second << endl;\n",
    "    return 0;\n",
    "}"
   ]
  },
  {
   "cell_type": "raw",
   "metadata": {},
   "source": [
    "epoch\t0\ttrain_loss\t0.852325\ttrain_acc\t70.7303\tvalid_loss\t0.522197\tvalid_acc\t79.5506\telapsed_time\t0.161749 [sec]\n",
    "epoch\t1\ttrain_loss\t0.495692\ttrain_acc\t80.6742\tvalid_loss\t0.415325\tvalid_acc\t86.1423\telapsed_time\t0.159054 [sec]\n",
    "epoch\t2\ttrain_loss\t0.38808\ttrain_acc\t87.191\tvalid_loss\t0.304859\tvalid_acc\t89.2884\telapsed_time\t0.145414 [sec]\n",
    "epoch\t3\ttrain_loss\t0.319441\ttrain_acc\t88.97\tvalid_loss\t0.286137\tvalid_acc\t89.8876\telapsed_time\t0.1453 [sec]\n",
    "epoch\t4\ttrain_loss\t0.286239\ttrain_acc\t90.2247\tvalid_loss\t0.282896\tvalid_acc\t90.3371\telapsed_time\t0.145487 [sec]\n",
    "epoch\t5\ttrain_loss\t0.263903\ttrain_acc\t91.0206\tvalid_loss\t0.275751\tvalid_acc\t90.412\telapsed_time\t0.147624 [sec]\n",
    "epoch\t6\ttrain_loss\t0.247156\ttrain_acc\t91.5075\tvalid_loss\t0.279044\tvalid_acc\t90.3371\telapsed_time\t0.144539 [sec]\n",
    "epoch\t7\ttrain_loss\t0.234002\ttrain_acc\t92.0225\tvalid_loss\t0.271603\tvalid_acc\t90.2622\telapsed_time\t0.144451 [sec]\n",
    "epoch\t8\ttrain_loss\t0.212399\ttrain_acc\t92.7622\tvalid_loss\t0.288598\tvalid_acc\t91.0112\telapsed_time\t0.144678 [sec]\n",
    "epoch\t9\ttrain_loss\t0.194319\ttrain_acc\t93.3333\tvalid_loss\t0.288757\tvalid_acc\t90.412\telapsed_time\t0.144662 [sec]\n",
    "epoch\t10\ttrain_loss\t0.175714\ttrain_acc\t93.9419\tvalid_loss\t0.29696\tvalid_acc\t90.6367\telapsed_time\t0.144295 [sec]\n",
    "epoch\t11\ttrain_loss\t0.161109\ttrain_acc\t94.6255\tvalid_loss\t0.303541\tvalid_acc\t90.6367\telapsed_time\t0.144352 [sec]\n",
    "epoch\t12\ttrain_loss\t0.142398\ttrain_acc\t95.1779\tvalid_loss\t0.305354\tvalid_acc\t90.6367\telapsed_time\t0.147383 [sec]\n",
    "epoch\t13\ttrain_loss\t0.130573\ttrain_acc\t95.6554\tvalid_loss\t0.314506\tvalid_acc\t91.161\telapsed_time\t0.144771 [sec]\n",
    "epoch\t14\ttrain_loss\t0.116007\ttrain_acc\t96.1236\tvalid_loss\t0.330453\tvalid_acc\t90.9363\telapsed_time\t0.144613 [sec]\n",
    "epoch\t15\ttrain_loss\t0.104706\ttrain_acc\t96.5918\tvalid_loss\t0.342334\tvalid_acc\t90.9363\telapsed_time\t0.14507 [sec]\n",
    "epoch\t16\ttrain_loss\t0.0925325\ttrain_acc\t97.2097\tvalid_loss\t0.351843\tvalid_acc\t91.0112\telapsed_time\t0.144838 [sec]\n",
    "epoch\t17\ttrain_loss\t0.0804758\ttrain_acc\t97.4625\tvalid_loss\t0.372356\tvalid_acc\t90.9363\telapsed_time\t0.144872 [sec]\n",
    "epoch\t18\ttrain_loss\t0.0738919\ttrain_acc\t97.5187\tvalid_loss\t0.382082\tvalid_acc\t90.7116\telapsed_time\t0.144666 [sec]\n",
    "epoch\t19\ttrain_loss\t0.0627888\ttrain_acc\t97.9963\tvalid_loss\t0.389603\tvalid_acc\t91.236\telapsed_time\t0.147397 [sec]\n",
    "epoch\t20\ttrain_loss\t0.0607125\ttrain_acc\t98.015\tvalid_loss\t0.430845\tvalid_acc\t90.3371\telapsed_time\t0.14484 [sec]\n",
    "epoch\t21\ttrain_loss\t0.0533029\ttrain_acc\t98.3052\tvalid_loss\t0.445271\tvalid_acc\t90.6367\telapsed_time\t0.144693 [sec]\n",
    "epoch\t22\ttrain_loss\t0.048846\ttrain_acc\t98.4176\tvalid_loss\t0.434722\tvalid_acc\t90.1124\telapsed_time\t0.144741 [sec]\n",
    "epoch\t23\ttrain_loss\t0.050616\ttrain_acc\t98.3521\tvalid_loss\t0.432778\tvalid_acc\t90.7865\telapsed_time\t0.144528 [sec]\n",
    "epoch\t24\ttrain_loss\t0.0466221\ttrain_acc\t98.5112\tvalid_loss\t0.429957\tvalid_acc\t91.4607\telapsed_time\t0.144643 [sec]\n",
    "epoch\t25\ttrain_loss\t0.0408268\ttrain_acc\t98.6049\tvalid_loss\t0.435299\tvalid_acc\t90.6367\telapsed_time\t0.144877 [sec]\n",
    "epoch\t26\ttrain_loss\t0.0361955\ttrain_acc\t98.8577\tvalid_loss\t0.48224\tvalid_acc\t90.412\telapsed_time\t0.147365 [sec]\n",
    "epoch\t27\ttrain_loss\t0.0352663\ttrain_acc\t98.8951\tvalid_loss\t0.465895\tvalid_acc\t90.8614\telapsed_time\t0.14459 [sec]\n",
    "epoch\t28\ttrain_loss\t0.0344727\ttrain_acc\t98.8764\tvalid_loss\t0.479383\tvalid_acc\t90.8614\telapsed_time\t0.144774 [sec]\n",
    "epoch\t29\ttrain_loss\t0.0336823\ttrain_acc\t98.9888\tvalid_loss\t0.488597\tvalid_acc\t90.3371\telapsed_time\t0.145227 [sec]\n",
    "epoch\t30\ttrain_loss\t0.0310592\ttrain_acc\t99.0075\tvalid_loss\t0.509012\tvalid_acc\t90.7116\telapsed_time\t0.14461 [sec]\n",
    "epoch\t31\ttrain_loss\t0.0296071\ttrain_acc\t99.0449\tvalid_loss\t0.494973\tvalid_acc\t90.5618\telapsed_time\t0.144727 [sec]\n",
    "epoch\t32\ttrain_loss\t0.0270018\ttrain_acc\t99.0356\tvalid_loss\t0.533279\tvalid_acc\t90.4869\telapsed_time\t0.145131 [sec]\n",
    "epoch\t33\ttrain_loss\t0.0251877\ttrain_acc\t99.2041\tvalid_loss\t0.516789\tvalid_acc\t90.8614\telapsed_time\t0.147418 [sec]\n",
    "epoch\t34\ttrain_loss\t0.0267915\ttrain_acc\t99.1199\tvalid_loss\t0.511109\tvalid_acc\t90.5618\telapsed_time\t0.144493 [sec]\n",
    "epoch\t35\ttrain_loss\t0.0209477\ttrain_acc\t99.3165\tvalid_loss\t0.533837\tvalid_acc\t90.1124\telapsed_time\t0.144527 [sec]\n",
    "epoch\t36\ttrain_loss\t0.0249298\ttrain_acc\t99.1948\tvalid_loss\t0.541494\tvalid_acc\t90.2622\telapsed_time\t0.144809 [sec]\n",
    "epoch\t37\ttrain_loss\t0.0220868\ttrain_acc\t99.2978\tvalid_loss\t0.543243\tvalid_acc\t90.4869\telapsed_time\t0.144711 [sec]\n",
    "epoch\t38\ttrain_loss\t0.0238073\ttrain_acc\t99.1573\tvalid_loss\t0.526402\tvalid_acc\t90.8614\telapsed_time\t0.144451 [sec]\n",
    "epoch\t39\ttrain_loss\t0.0215432\ttrain_acc\t99.2884\tvalid_loss\t0.53964\tvalid_acc\t90.7116\telapsed_time\t0.146541 [sec]\n",
    "epoch\t40\ttrain_loss\t0.0176681\ttrain_acc\t99.4476\tvalid_loss\t0.557981\tvalid_acc\t90.6367\telapsed_time\t0.145286 [sec]\n",
    "epoch\t41\ttrain_loss\t0.0155555\ttrain_acc\t99.5693\tvalid_loss\t0.563344\tvalid_acc\t90.8614\telapsed_time\t0.144819 [sec]\n",
    "epoch\t42\ttrain_loss\t0.0228838\ttrain_acc\t99.2509\tvalid_loss\t0.567105\tvalid_acc\t90.7116\telapsed_time\t0.144739 [sec]\n",
    "epoch\t43\ttrain_loss\t0.0210336\ttrain_acc\t99.2884\tvalid_loss\t0.563772\tvalid_acc\t90.6367\telapsed_time\t0.144663 [sec]\n",
    "epoch\t44\ttrain_loss\t0.015303\ttrain_acc\t99.4288\tvalid_loss\t0.570547\tvalid_acc\t90.8614\telapsed_time\t0.144713 [sec]\n",
    "epoch\t45\ttrain_loss\t0.0151806\ttrain_acc\t99.5131\tvalid_loss\t0.575114\tvalid_acc\t90.7116\telapsed_time\t0.144822 [sec]\n",
    "epoch\t46\ttrain_loss\t0.0180458\ttrain_acc\t99.382\tvalid_loss\t0.583162\tvalid_acc\t90.9363\telapsed_time\t0.146799 [sec]\n",
    "epoch\t47\ttrain_loss\t0.0156094\ttrain_acc\t99.5318\tvalid_loss\t0.630979\tvalid_acc\t90.1873\telapsed_time\t0.144695 [sec]\n",
    "epoch\t48\ttrain_loss\t0.0174775\ttrain_acc\t99.4569\tvalid_loss\t0.571626\tvalid_acc\t90.5618\telapsed_time\t0.144687 [sec]\n",
    "epoch\t49\ttrain_loss\t0.0173431\ttrain_acc\t99.4944\tvalid_loss\t0.566185\tvalid_acc\t90.7116\telapsed_time\t0.144767 [sec]\n",
    "epoch\t50\ttrain_loss\t0.015312\ttrain_acc\t99.5318\tvalid_loss\t0.572168\tvalid_acc\t90.7865\telapsed_time\t0.144755 [sec]\n",
    "epoch\t51\ttrain_loss\t0.0167732\ttrain_acc\t99.5131\tvalid_loss\t0.607089\tvalid_acc\t90.7865\telapsed_time\t0.144884 [sec]\n",
    "epoch\t52\ttrain_loss\t0.0154979\ttrain_acc\t99.5599\tvalid_loss\t0.628109\tvalid_acc\t90.9363\telapsed_time\t0.14499 [sec]\n",
    "epoch\t53\ttrain_loss\t0.0150171\ttrain_acc\t99.4757\tvalid_loss\t0.622255\tvalid_acc\t90.6367\telapsed_time\t0.147481 [sec]\n",
    "epoch\t54\ttrain_loss\t0.015066\ttrain_acc\t99.5131\tvalid_loss\t0.623504\tvalid_acc\t90.8614\telapsed_time\t0.144963 [sec]\n",
    "epoch\t55\ttrain_loss\t0.012085\ttrain_acc\t99.5506\tvalid_loss\t0.642784\tvalid_acc\t90.412\telapsed_time\t0.144918 [sec]\n",
    "epoch\t56\ttrain_loss\t0.0155125\ttrain_acc\t99.485\tvalid_loss\t0.624479\tvalid_acc\t90.8614\telapsed_time\t0.145077 [sec]\n",
    "epoch\t57\ttrain_loss\t0.0187446\ttrain_acc\t99.4101\tvalid_loss\t0.589652\tvalid_acc\t90.7116\telapsed_time\t0.145211 [sec]\n",
    "epoch\t58\ttrain_loss\t0.0126215\ttrain_acc\t99.5131\tvalid_loss\t0.599147\tvalid_acc\t90.9363\telapsed_time\t0.144947 [sec]\n",
    "epoch\t59\ttrain_loss\t0.0126698\ttrain_acc\t99.5787\tvalid_loss\t0.618671\tvalid_acc\t91.161\telapsed_time\t0.14482 [sec]\n",
    "epoch\t60\ttrain_loss\t0.0159149\ttrain_acc\t99.4944\tvalid_loss\t0.599371\tvalid_acc\t91.0112\telapsed_time\t0.1475 [sec]\n",
    "epoch\t61\ttrain_loss\t0.0128825\ttrain_acc\t99.5787\tvalid_loss\t0.628759\tvalid_acc\t90.8614\telapsed_time\t0.145317 [sec]\n",
    "epoch\t62\ttrain_loss\t0.0148673\ttrain_acc\t99.5131\tvalid_loss\t0.609447\tvalid_acc\t90.8614\telapsed_time\t0.144926 [sec]\n",
    "epoch\t63\ttrain_loss\t0.0141953\ttrain_acc\t99.4757\tvalid_loss\t0.630078\tvalid_acc\t91.0112\telapsed_time\t0.144915 [sec]\n",
    "epoch\t64\ttrain_loss\t0.0150394\ttrain_acc\t99.588\tvalid_loss\t0.569648\tvalid_acc\t91.236\telapsed_time\t0.145037 [sec]\n",
    "epoch\t65\ttrain_loss\t0.013841\ttrain_acc\t99.5693\tvalid_loss\t0.598247\tvalid_acc\t91.161\telapsed_time\t0.145065 [sec]\n",
    "epoch\t66\ttrain_loss\t0.0110327\ttrain_acc\t99.5974\tvalid_loss\t0.600993\tvalid_acc\t91.161\telapsed_time\t0.144812 [sec]\n",
    "epoch\t67\ttrain_loss\t0.0110651\ttrain_acc\t99.6442\tvalid_loss\t0.622636\tvalid_acc\t91.236\telapsed_time\t0.147965 [sec]\n",
    "epoch\t68\ttrain_loss\t0.0122738\ttrain_acc\t99.6723\tvalid_loss\t0.624723\tvalid_acc\t90.7116\telapsed_time\t0.145164 [sec]\n",
    "epoch\t69\ttrain_loss\t0.0123614\ttrain_acc\t99.6067\tvalid_loss\t0.614528\tvalid_acc\t90.1124\telapsed_time\t0.145041 [sec]\n",
    "epoch\t70\ttrain_loss\t0.0110696\ttrain_acc\t99.6536\tvalid_loss\t0.641265\tvalid_acc\t90.7865\telapsed_time\t0.144998 [sec]\n",
    "epoch\t71\ttrain_loss\t0.0106168\ttrain_acc\t99.6723\tvalid_loss\t0.650154\tvalid_acc\t90.6367\telapsed_time\t0.144692 [sec]\n",
    "epoch\t72\ttrain_loss\t0.0143705\ttrain_acc\t99.4944\tvalid_loss\t0.640076\tvalid_acc\t90.6367\telapsed_time\t0.144749 [sec]\n",
    "epoch\t73\ttrain_loss\t0.0110108\ttrain_acc\t99.6255\tvalid_loss\t0.662201\tvalid_acc\t91.0112\telapsed_time\t0.14503 [sec]\n",
    "epoch\t74\ttrain_loss\t0.011126\ttrain_acc\t99.5693\tvalid_loss\t0.672081\tvalid_acc\t89.8127\telapsed_time\t0.147741 [sec]\n",
    "epoch\t75\ttrain_loss\t0.00951715\ttrain_acc\t99.6723\tvalid_loss\t0.684754\tvalid_acc\t90.2622\telapsed_time\t0.144863 [sec]\n",
    "epoch\t76\ttrain_loss\t0.0148754\ttrain_acc\t99.4288\tvalid_loss\t0.657806\tvalid_acc\t90.3371\telapsed_time\t0.145046 [sec]\n",
    "epoch\t77\ttrain_loss\t0.01157\ttrain_acc\t99.5599\tvalid_loss\t0.703981\tvalid_acc\t90.1124\telapsed_time\t0.145212 [sec]\n",
    "epoch\t78\ttrain_loss\t0.0102351\ttrain_acc\t99.6723\tvalid_loss\t0.657975\tvalid_acc\t90.8614\telapsed_time\t0.144908 [sec]\n",
    "epoch\t79\ttrain_loss\t0.00709035\ttrain_acc\t99.7566\tvalid_loss\t0.671824\tvalid_acc\t91.0861\telapsed_time\t0.144844 [sec]\n",
    "epoch\t80\ttrain_loss\t0.00875067\ttrain_acc\t99.691\tvalid_loss\t0.704465\tvalid_acc\t90.412\telapsed_time\t0.145092 [sec]\n",
    "epoch\t81\ttrain_loss\t0.00972246\ttrain_acc\t99.6255\tvalid_loss\t0.666182\tvalid_acc\t91.0861\telapsed_time\t0.147645 [sec]\n",
    "epoch\t82\ttrain_loss\t0.00999277\ttrain_acc\t99.6723\tvalid_loss\t0.704815\tvalid_acc\t90.7116\telapsed_time\t0.144858 [sec]\n",
    "epoch\t83\ttrain_loss\t0.00974359\ttrain_acc\t99.588\tvalid_loss\t0.707945\tvalid_acc\t91.0861\telapsed_time\t0.14485 [sec]\n",
    "epoch\t84\ttrain_loss\t0.0113728\ttrain_acc\t99.6629\tvalid_loss\t0.672303\tvalid_acc\t90.4869\telapsed_time\t0.145232 [sec]\n",
    "epoch\t85\ttrain_loss\t0.0104439\ttrain_acc\t99.6067\tvalid_loss\t0.667849\tvalid_acc\t90.9363\telapsed_time\t0.145034 [sec]\n",
    "epoch\t86\ttrain_loss\t0.00866159\ttrain_acc\t99.7004\tvalid_loss\t0.662081\tvalid_acc\t91.7603\telapsed_time\t0.144854 [sec]\n",
    "epoch\t87\ttrain_loss\t0.00748632\ttrain_acc\t99.7378\tvalid_loss\t0.656274\tvalid_acc\t91.161\telapsed_time\t0.145037 [sec]\n",
    "epoch\t88\ttrain_loss\t0.00864063\ttrain_acc\t99.6723\tvalid_loss\t0.687919\tvalid_acc\t91.161\telapsed_time\t0.147921 [sec]\n",
    "epoch\t89\ttrain_loss\t0.00627148\ttrain_acc\t99.7846\tvalid_loss\t0.72283\tvalid_acc\t91.5356\telapsed_time\t0.145159 [sec]\n",
    "epoch\t90\ttrain_loss\t0.00595186\ttrain_acc\t99.8127\tvalid_loss\t0.758459\tvalid_acc\t90.7865\telapsed_time\t0.144791 [sec]\n",
    "epoch\t91\ttrain_loss\t0.0098381\ttrain_acc\t99.7004\tvalid_loss\t0.707422\tvalid_acc\t91.3109\telapsed_time\t0.145116 [sec]\n",
    "epoch\t92\ttrain_loss\t0.0137801\ttrain_acc\t99.5974\tvalid_loss\t0.664324\tvalid_acc\t91.0112\telapsed_time\t0.145035 [sec]\n",
    "epoch\t93\ttrain_loss\t0.00938541\ttrain_acc\t99.6536\tvalid_loss\t0.657309\tvalid_acc\t90.9363\telapsed_time\t0.145162 [sec]\n",
    "epoch\t94\ttrain_loss\t0.00805287\ttrain_acc\t99.6816\tvalid_loss\t0.679728\tvalid_acc\t90.6367\telapsed_time\t0.144936 [sec]\n",
    "epoch\t95\ttrain_loss\t0.007392\ttrain_acc\t99.7753\tvalid_loss\t0.677845\tvalid_acc\t91.3109\telapsed_time\t0.147756 [sec]\n",
    "epoch\t96\ttrain_loss\t0.00627521\ttrain_acc\t99.7472\tvalid_loss\t0.673882\tvalid_acc\t91.7603\telapsed_time\t0.145124 [sec]\n",
    "epoch\t97\ttrain_loss\t0.00898894\ttrain_acc\t99.6536\tvalid_loss\t0.683239\tvalid_acc\t91.161\telapsed_time\t0.145178 [sec]\n",
    "epoch\t98\ttrain_loss\t0.0110809\ttrain_acc\t99.5974\tvalid_loss\t0.694987\tvalid_acc\t91.236\telapsed_time\t0.145275 [sec]\n",
    "epoch\t99\ttrain_loss\t0.00925606\ttrain_acc\t99.6629\tvalid_loss\t0.689565\tvalid_acc\t90.7865\telapsed_time\t0.145205 [sec]\n",
    "batch_size\t256\ttrain_time\t14.5575\n",
    "train accuracy: 99.9157\n",
    "valid accuracy: 90.7865\n",
    "test accuracy: 91.6105"
   ]
  },
  {
   "cell_type": "markdown",
   "metadata": {},
   "source": [
    "# おまけ"
   ]
  },
  {
   "cell_type": "code",
   "execution_count": 77,
   "metadata": {},
   "outputs": [],
   "source": [
    "from torch.utils.tensorboard import SummaryWriter\n",
    "import tqdm\n",
    "from torch.utils.data import DataLoader\n",
    "from collections import OrderedDict\n",
    "\n",
    "import torch\n",
    "import torch.nn as nn\n",
    "import torch.nn.functional as F\n",
    "import torch.optim as optim"
   ]
  },
  {
   "cell_type": "code",
   "execution_count": 73,
   "metadata": {},
   "outputs": [],
   "source": [
    "class MLP(torch.nn.Module):\n",
    "    def __init__(self, input_size, num_hidden, hidden_dim, output_size, dropout):\n",
    "        super(MLP, self).__init__()\n",
    "        self.first_layer = nn.Linear(input_size, hidden_dim)\n",
    "        self.relu = nn.ReLU()\n",
    "        self.hidden_layers = nn.Sequential(OrderedDict([\n",
    "            (f'hidden_layer{i}', HiddenLayerWithDropout(hidden_dim, dropout)) for i in range(num_hidden)\n",
    "        ]))\n",
    "        self.last_layer = nn.Linear(hidden_dim, output_size)\n",
    "        self.softmax = nn.LogSoftmax(dim=1)\n",
    "        \n",
    "        \n",
    "    def forward(self, x):\n",
    "        x = self.relu(self.first_layer(x))\n",
    "        for hidden_layer in self.hidden_layers:\n",
    "            x = hidden_layer(x)\n",
    "        x = self.last_layer(x)\n",
    "        x = self.softmax(x)\n",
    "        return x\n",
    "    \n",
    "class HiddenLayerWithDropout(torch.nn.Module):\n",
    "    def __init__(self, hidden_dim, dropout):\n",
    "        super(HiddenLayerWithDropout, self).__init__()\n",
    "        self.hidden_layer = nn.Linear(hidden_dim, hidden_dim)\n",
    "        self.dropout = nn.Dropout(dropout)\n",
    "        self.relu = nn.ReLU()\n",
    "\n",
    "    def forward(self, x):\n",
    "        return self.dropout(self.relu(self.hidden_layer(x)))"
   ]
  },
  {
   "cell_type": "code",
   "execution_count": 74,
   "metadata": {},
   "outputs": [
    {
     "name": "stdout",
     "output_type": "stream",
     "text": [
      "MLP(\n",
      "  (first_layer): Linear(in_features=300, out_features=300, bias=True)\n",
      "  (relu): ReLU()\n",
      "  (hidden_layers): Sequential(\n",
      "    (hidden_layer0): HiddenLayerWithDropout(\n",
      "      (hidden_layer): Linear(in_features=300, out_features=300, bias=True)\n",
      "      (dropout): Dropout(p=0.5, inplace=False)\n",
      "      (relu): ReLU()\n",
      "    )\n",
      "    (hidden_layer1): HiddenLayerWithDropout(\n",
      "      (hidden_layer): Linear(in_features=300, out_features=300, bias=True)\n",
      "      (dropout): Dropout(p=0.5, inplace=False)\n",
      "      (relu): ReLU()\n",
      "    )\n",
      "    (hidden_layer2): HiddenLayerWithDropout(\n",
      "      (hidden_layer): Linear(in_features=300, out_features=300, bias=True)\n",
      "      (dropout): Dropout(p=0.5, inplace=False)\n",
      "      (relu): ReLU()\n",
      "    )\n",
      "  )\n",
      "  (last_layer): Linear(in_features=300, out_features=4, bias=True)\n",
      "  (softmax): LogSoftmax()\n",
      ")\n"
     ]
    }
   ],
   "source": [
    "print(MLP(300, 3, 300, 4, 0.5))"
   ]
  },
  {
   "cell_type": "code",
   "execution_count": 75,
   "metadata": {},
   "outputs": [],
   "source": [
    "model = MLP(300, 3, 300, 4, 0.5)\n",
    "model.eval()\n",
    "writer = SummaryWriter(log_dir='./work/logs/model')\n",
    "writer.add_graph(model, torch.FloatTensor(1, 300))\n",
    "writer.close()"
   ]
  },
  {
   "cell_type": "code",
   "execution_count": 76,
   "metadata": {},
   "outputs": [
    {
     "data": {
      "image/png": "[encoded data removed]",
      "text/plain": [
       "<IPython.core.display.Image object>"
      ]
     },
     "execution_count": 76,
     "metadata": {},
     "output_type": "execute_result"
    }
   ],
   "source": [
    "from IPython.display import Image\n",
    "Image('./work/model.png')"
   ]
  },
  {
   "cell_type": "code",
   "execution_count": 78,
   "metadata": {},
   "outputs": [],
   "source": [
    "class MyDataSets(torch.utils.data.Dataset):\n",
    "    def __init__(self, x, y):\n",
    "        self.x = x\n",
    "        self.y = y\n",
    "\n",
    "    def __len__(self):\n",
    "        return len(self.x)\n",
    "\n",
    "    def __getitem__(self, idx):\n",
    "        return self.x[idx], self.y[idx]"
   ]
  },
  {
   "cell_type": "code",
   "execution_count": 79,
   "metadata": {},
   "outputs": [],
   "source": [
    "def execution(data_x, data_y, op, criterion, model, batch_size=1, is_train=True, use_gpu=False):\n",
    "    if is_train: model.train()\n",
    "    else: model.eval()\n",
    "    ndata = len(data_x)\n",
    "    dataset = MyDataSets(data_x, data_y)\n",
    "    data_loader = DataLoader(dataset, batch_size=batch_size, shuffle=True)\n",
    "    sum_loss, acc_score = 0, 0\n",
    "    for batch_x, batch_y in data_loader:\n",
    "        if use_gpu:\n",
    "            batch_x = batch_x.cuda()\n",
    "            batch_y = batch_y.cuda()\n",
    "        op.zero_grad()\n",
    "        out = model(batch_x)\n",
    "        loss = criterion(out, batch_y)\n",
    "        if is_train:\n",
    "            loss.backward()\n",
    "            op.step()\n",
    "        sum_loss += loss.data.item() * len(batch_x)\n",
    "        pred = torch.argmax(out, dim=1)\n",
    "        acc_score += np.sum((pred == batch_y).cpu().detach().numpy())\n",
    "    return sum_loss / ndata, acc_score / ndata * 100"
   ]
  },
  {
   "cell_type": "code",
   "execution_count": 80,
   "metadata": {},
   "outputs": [],
   "source": [
    "train_x = load_file_npy('work/', 'train_x.npy')\n",
    "train_y = load_file_npy('work/', 'train_y.npy')\n",
    "valid_x = load_file_npy('work/', 'valid_x.npy')\n",
    "valid_y = load_file_npy('work/', 'valid_y.npy')\n",
    "test_x = load_file_npy('work/', 'test_x.npy')\n",
    "test_y = load_file_npy('work/', 'test_y.npy')\n",
    "\n",
    "model = MLP(300, 3, 300, 4, 0.5)\n",
    "ntrain = len(train_x)\n",
    "nepoch = 100\n",
    "op = optim.Adam(model.parameters(), lr=0.0001)\n",
    "criterion = nn.NLLLoss()"
   ]
  },
  {
   "cell_type": "code",
   "execution_count": 81,
   "metadata": {},
   "outputs": [
    {
     "data": {
      "application/vnd.jupyter.widget-view+json": {
       "model_id": "446654e2f6e2469dae713397b084c456",
       "version_major": 2,
       "version_minor": 0
      },
      "text/plain": [
       "HBox(children=(FloatProgress(value=0.0), HTML(value='')))"
      ]
     },
     "metadata": {},
     "output_type": "display_data"
    },
    {
     "name": "stdout",
     "output_type": "stream",
     "text": [
      "{'epoch': 5, 'train_loss': 0.5239533301373099, 'train_acc': 78.91385767790263, 'valid_loss': 0.4913346134767997, 'valid_acc': 78.72659176029963}\n",
      "{'epoch': 10, 'train_loss': 0.40665526492765336, 'train_acc': 84.48501872659176, 'valid_loss': 0.39731507935327537, 'valid_acc': 83.82022471910112}\n",
      "{'epoch': 15, 'train_loss': 0.35646628322226276, 'train_acc': 87.2003745318352, 'valid_loss': 0.3658876395850592, 'valid_acc': 87.41573033707866}\n",
      "{'epoch': 20, 'train_loss': 0.3203525919369544, 'train_acc': 89.08239700374531, 'valid_loss': 0.3480262927571486, 'valid_acc': 87.71535580524345}\n",
      "{'epoch': 25, 'train_loss': 0.2862727624646733, 'train_acc': 90.54307116104869, 'valid_loss': 0.3258889644556724, 'valid_acc': 88.76404494382022}\n",
      "{'epoch': 30, 'train_loss': 0.24468855092141512, 'train_acc': 92.20973782771536, 'valid_loss': 0.31567374041464447, 'valid_acc': 89.7378277153558}\n",
      "{'epoch': 35, 'train_loss': 0.21120255942201793, 'train_acc': 93.57677902621722, 'valid_loss': 0.31336146269398235, 'valid_acc': 89.812734082397}\n",
      "{'epoch': 40, 'train_loss': 0.180567299582985, 'train_acc': 94.32584269662921, 'valid_loss': 0.3169879885425282, 'valid_acc': 90.63670411985018}\n",
      "{'epoch': 45, 'train_loss': 0.14986168400625163, 'train_acc': 95.53370786516854, 'valid_loss': 0.32924597145019846, 'valid_acc': 89.812734082397}\n",
      "{'epoch': 50, 'train_loss': 0.12416516854410314, 'train_acc': 96.48876404494382, 'valid_loss': 0.34164849865749086, 'valid_acc': 90.63670411985018}\n",
      "{'epoch': 55, 'train_loss': 0.09748052884911776, 'train_acc': 97.3501872659176, 'valid_loss': 0.36106789963745445, 'valid_acc': 90.93632958801498}\n",
      "{'epoch': 60, 'train_loss': 0.07506446287817277, 'train_acc': 98.10861423220973, 'valid_loss': 0.3955943007147714, 'valid_acc': 90.78651685393258}\n",
      "{'epoch': 65, 'train_loss': 0.056451659370562554, 'train_acc': 98.72659176029963, 'valid_loss': 0.41482002661469275, 'valid_acc': 90.3370786516854}\n",
      "{'epoch': 70, 'train_loss': 0.04374815558784463, 'train_acc': 99.08239700374531, 'valid_loss': 0.441578497958094, 'valid_acc': 90.56179775280899}\n",
      "{'epoch': 75, 'train_loss': 0.03310245963490188, 'train_acc': 99.39138576779027, 'valid_loss': 0.48212109969349837, 'valid_acc': 90.187265917603}\n",
      "{'epoch': 80, 'train_loss': 0.024649174971861785, 'train_acc': 99.41011235955057, 'valid_loss': 0.5139004138078582, 'valid_acc': 89.66292134831461}\n",
      "{'epoch': 85, 'train_loss': 0.01817359762991803, 'train_acc': 99.61610486891385, 'valid_loss': 0.5368434184945925, 'valid_acc': 90.0374531835206}\n",
      "{'epoch': 90, 'train_loss': 0.013692364140940404, 'train_acc': 99.74719101123596, 'valid_loss': 0.5800256111202169, 'valid_acc': 89.51310861423221}\n",
      "{'epoch': 95, 'train_loss': 0.009873823774106493, 'train_acc': 99.78464419475655, 'valid_loss': 0.5990467753749662, 'valid_acc': 89.7378277153558}\n",
      "{'epoch': 100, 'train_loss': 0.009409162256960871, 'train_acc': 99.7940074906367, 'valid_loss': 0.6310388725348626, 'valid_acc': 89.51310861423221}\n",
      "\n",
      "CPU times: user 3min 23s, sys: 4.15 s, total: 3min 27s\n",
      "Wall time: 1min 38s\n"
     ]
    }
   ],
   "source": [
    "%%time\n",
    "logger = list()\n",
    "for epoch in tqdm.notebook.tqdm(range(1, nepoch + 1)):\n",
    "    train_loss, train_acc = execution(train_x, train_y, op, criterion, model, batch_size=256)\n",
    "    with torch.no_grad():\n",
    "        valid_loss, valid_acc = execution(valid_x, valid_y, op, criterion, model, batch_size=256, is_train=False)\n",
    "    logger.append({'epoch':epoch, 'train_loss':train_loss, 'train_acc':train_acc, 'valid_loss':valid_loss, 'valid_acc':valid_acc})\n",
    "    if epoch % 5 == 0:\n",
    "        print({'epoch':epoch, 'train_loss':train_loss, 'train_acc':train_acc, 'valid_loss':valid_loss, 'valid_acc':valid_acc})\n",
    "        torch.save({\n",
    "            'epoch': epoch,\n",
    "            'model': model.state_dict(),\n",
    "            'optimizer_state_dict': op.state_dict(),\n",
    "        }, f'./work/checkpoints/checkpoint_{epoch}.pt')"
   ]
  },
  {
   "cell_type": "code",
   "execution_count": 83,
   "metadata": {},
   "outputs": [
    {
     "name": "stdout",
     "output_type": "stream",
     "text": [
      "90.2621722846442\n"
     ]
    }
   ],
   "source": [
    "model_100 = MLP(300, 3, 300, 4, 0.5)\n",
    "checkpoint = torch.load('./work/checkpoints/checkpoint_100.pt')\n",
    "model_100.load_state_dict(checkpoint['model'])\n",
    "with torch.no_grad():\n",
    "    _, test_acc = execution(test_x, test_y, op, criterion, model_100, batch_size=256, is_train=False)\n",
    "    print(test_acc)"
   ]
  },
  {
   "cell_type": "code",
   "execution_count": null,
   "metadata": {},
   "outputs": [],
   "source": []
  }
 ],
 "metadata": {
  "kernelspec": {
   "display_name": "Python 3",
   "language": "python",
   "name": "python3"
  },
  "language_info": {
   "codemirror_mode": {
    "name": "ipython",
    "version": 3
   },
   "file_extension": ".py",
   "mimetype": "text/x-python",
   "name": "python",
   "nbconvert_exporter": "python",
   "pygments_lexer": "ipython3",
   "version": "3.7.4"
  }
 },
 "nbformat": 4,
 "nbformat_minor": 4
}
