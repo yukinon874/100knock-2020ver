{
 "cells": [
  {
   "cell_type": "markdown",
   "metadata": {},
   "source": [
    "# 20. JSONデータの読み込み"
   ]
  },
  {
   "cell_type": "code",
   "execution_count": 2,
   "metadata": {},
   "outputs": [],
   "source": [
    "import json"
   ]
  },
  {
   "cell_type": "code",
   "execution_count": 3,
   "metadata": {
    "scrolled": true
   },
   "outputs": [],
   "source": [
    "with open('./data/jawiki-country.json', encoding = 'UTF-8') as f:\n",
    "    for line in f:\n",
    "        data = json.loads(line)\n",
    "        if data['title'] == 'イギリス':\n",
    "            england_data = data['text']\n",
    "            break"
   ]
  },
  {
   "cell_type": "code",
   "execution_count": 4,
   "metadata": {},
   "outputs": [
    {
     "name": "stdout",
     "output_type": "stream",
     "text": [
      "{{redirect|UK}}\n",
      "{{redirect|英国|春秋時代の諸侯国|英 (春秋)}}\n",
      "{{Otheruses|ヨーロッパの国|長崎県・熊本県の郷土料理|いぎりす}}\n",
      "{{基礎情報 国\n",
      "|略名  =イギリス\n",
      "|日本語国名 = グレートブリテン及び北アイルランド連合王国\n",
      "|公式国名 = {{lang|en|United Kingdom of Great Britain and Northern Ireland}}<ref>英語以外での正式国名:<br />\n",
      "*{{lang|gd|An Rìoghachd Aonaichte na Breatainn Mhòr agus Eirinn mu Thuath}}（[[スコットランド・ゲール語]]）\n",
      "*{{lang|cy|Teyrnas Gyfunol Prydain Fawr a Gogledd Iwerddon}}（[[ウェールズ語]]）\n",
      "*{{lang|ga|Ríocht Aontaithe na Breataine Móire agus Tuaisceart na hÉireann}}（[[アイルランド語]]）\n"
     ]
    }
   ],
   "source": [
    "for data in england_data.split('\\n')[:10]:\n",
    "    print(data)"
   ]
  },
  {
   "cell_type": "markdown",
   "metadata": {},
   "source": [
    "# 21. カテゴリ名を含む行を抽出"
   ]
  },
  {
   "cell_type": "code",
   "execution_count": 5,
   "metadata": {},
   "outputs": [],
   "source": [
    "import re"
   ]
  },
  {
   "cell_type": "code",
   "execution_count": 6,
   "metadata": {},
   "outputs": [
    {
     "data": {
      "text/plain": [
       "['[[Category:イギリス|*]]',\n",
       " '[[Category:イギリス連邦加盟国]]',\n",
       " '[[Category:英連邦王国|*]]',\n",
       " '[[Category:G8加盟国]]',\n",
       " '[[Category:欧州連合加盟国|元]]',\n",
       " '[[Category:海洋国家]]',\n",
       " '[[Category:現存する君主国]]',\n",
       " '[[Category:島国]]',\n",
       " '[[Category:1801年に成立した国家・領域]]']"
      ]
     },
     "execution_count": 6,
     "metadata": {},
     "output_type": "execute_result"
    }
   ],
   "source": [
    "re.findall(r'\\[\\[Category.*\\]\\]', england_data)"
   ]
  },
  {
   "cell_type": "markdown",
   "metadata": {},
   "source": [
    "# 22. カテゴリ名の抽出"
   ]
  },
  {
   "cell_type": "code",
   "execution_count": 7,
   "metadata": {},
   "outputs": [
    {
     "data": {
      "text/plain": [
       "['イギリス|*',\n",
       " 'イギリス連邦加盟国',\n",
       " '英連邦王国|*',\n",
       " 'G8加盟国',\n",
       " '欧州連合加盟国|元',\n",
       " '海洋国家',\n",
       " '現存する君主国',\n",
       " '島国',\n",
       " '1801年に成立した国家・領域']"
      ]
     },
     "execution_count": 7,
     "metadata": {},
     "output_type": "execute_result"
    }
   ],
   "source": [
    "re.findall(r'\\[\\[Category:(.*)?\\]\\]', england_data)"
   ]
  },
  {
   "cell_type": "markdown",
   "metadata": {},
   "source": [
    "# 23. セクション構造"
   ]
  },
  {
   "cell_type": "code",
   "execution_count": 8,
   "metadata": {},
   "outputs": [
    {
     "name": "stdout",
     "output_type": "stream",
     "text": [
      "国名 : 1\n",
      "歴史 : 1\n",
      "地理 : 1\n",
      "主要都市 : 2\n",
      "気候 : 2\n",
      "政治 : 1\n",
      "元首 : 2\n",
      "法 : 2\n",
      "内政 : 2\n",
      "地方行政区分 : 2\n",
      "外交・軍事 : 2\n",
      "経済 : 1\n",
      "鉱業 : 2\n",
      "農業 : 2\n",
      "貿易 : 2\n",
      "不動産 : 2\n",
      "エネルギー政策 : 2\n",
      "通貨 : 2\n",
      "企業 : 2\n",
      "通信 : 3\n",
      "交通 : 1\n",
      "道路 : 2\n",
      "鉄道 : 2\n",
      "海運 : 2\n",
      "航空 : 2\n",
      "科学技術 : 1\n",
      "国民 : 1\n",
      "言語 : 2\n",
      "宗教 : 2\n",
      "婚姻 : 2\n",
      "移住 : 2\n",
      "教育 : 2\n",
      "医療 : 2\n",
      "文化 : 1\n",
      "食文化 : 2\n",
      "文学 : 2\n",
      "哲学 : 2\n",
      "音楽 : 2\n",
      "ポピュラー音楽 : 3\n",
      "映画 : 2\n",
      "コメディ : 2\n",
      "国花 : 2\n",
      "世界遺産 : 2\n",
      "祝祭日 : 2\n",
      "スポーツ : 2\n",
      "サッカー : 3\n",
      "クリケット : 3\n",
      "競馬 : 3\n",
      "モータースポーツ : 3\n",
      "野球 : 3\n",
      "カーリング : 3\n",
      "自転車競技 : 3\n",
      "脚注 : 1\n",
      "関連項目 : 1\n",
      "外部リンク : 1\n"
     ]
    }
   ],
   "source": [
    "res = re.findall(r'==.*==', england_data)\n",
    "for section in res:\n",
    "    level = section.count('=') // 2 - 1\n",
    "    section = section.replace('=', '').strip()\n",
    "    print(f'{section} : {level}') "
   ]
  },
  {
   "cell_type": "markdown",
   "metadata": {},
   "source": [
    "# 24. ファイル参照の抽出"
   ]
  },
  {
   "cell_type": "code",
   "execution_count": 9,
   "metadata": {},
   "outputs": [
    {
     "data": {
      "text/plain": [
       "['Royal Coat of Arms of the United Kingdom.svg',\n",
       " 'Descriptio Prime Tabulae Europae.jpg',\n",
       " \"Lenepveu, Jeanne d'Arc au siège d'Orléans.jpg\",\n",
       " 'London.bankofengland.arp.jpg',\n",
       " 'Battle of Waterloo 1815.PNG',\n",
       " 'Uk topo en.jpg',\n",
       " 'BenNevis2005.jpg',\n",
       " 'Population density UK 2011 census.png',\n",
       " '2019 Greenwich Peninsula & Canary Wharf.jpg',\n",
       " 'Birmingham Skyline from Edgbaston Cricket Ground crop.jpg',\n",
       " 'Leeds CBD at night.jpg',\n",
       " 'Glasgow and the Clyde from the air (geograph 4665720).jpg',\n",
       " 'Palace of Westminster, London - Feb 2007.jpg',\n",
       " 'Scotland Parliament Holyrood.jpg',\n",
       " 'Donald Trump and Theresa May (33998675310) (cropped).jpg',\n",
       " 'Soldiers Trooping the Colour, 16th June 2007.jpg',\n",
       " 'City of London skyline from London City Hall - Oct 2008.jpg',\n",
       " 'Oil platform in the North SeaPros.jpg',\n",
       " 'Eurostar at St Pancras Jan 2008.jpg',\n",
       " 'Heathrow Terminal 5C Iwelumo-1.jpg',\n",
       " 'Airbus A380-841 G-XLEB British Airways (10424102995).jpg',\n",
       " 'UKpop.svg',\n",
       " 'Anglospeak.svg',\n",
       " \"Royal Aberdeen Children's Hospital.jpg\",\n",
       " 'CHANDOS3.jpg',\n",
       " 'The Fabs.JPG',\n",
       " 'Wembley Stadium, illuminated.jpg']"
      ]
     },
     "execution_count": 9,
     "metadata": {},
     "output_type": "execute_result"
    }
   ],
   "source": [
    "re.findall(r'ファイル:(.*?)\\|', england_data)"
   ]
  },
  {
   "cell_type": "markdown",
   "metadata": {},
   "source": [
    "# 25. テンプレートの抽出"
   ]
  },
  {
   "cell_type": "code",
   "execution_count": 306,
   "metadata": {},
   "outputs": [],
   "source": [
    "template = re.search(r'{{基礎情報 国(.*?)}}\\n\\n', england_data, flags = re.DOTALL)\n",
    "template_list = re.split(r'\\n\\|', template.group(1))\n",
    "field_dict = dict()\n",
    "for line in template_list:\n",
    "    if line == '': continue\n",
    "    splited_line = line.split('=', 1)\n",
    "    field_dict[splited_line[0].strip()] = splited_line[1].strip()"
   ]
  },
  {
   "cell_type": "code",
   "execution_count": 329,
   "metadata": {},
   "outputs": [
    {
     "name": "stdout",
     "output_type": "stream",
     "text": [
      "key : 略名\tval : イギリス\n",
      "key : 日本語国名\tval : グレートブリテン及び北アイルランド連合王国\n",
      "key : 公式国名\tval : {{lang|en|United Kingdom of Great Britain and Northern Ireland}}<ref>英語以外での正式国名:<br />\n",
      "*{{lang|gd|An Rìoghachd Aonaichte na Breatainn Mhòr agus Eirinn mu Thuath}}（[[スコットランド・ゲール語]]）\n",
      "*{{lang|cy|Teyrnas Gyfunol Prydain Fawr a Gogledd Iwerddon}}（[[ウェールズ語]]）\n",
      "*{{lang|ga|Ríocht Aontaithe na Breataine Móire agus Tuaisceart na hÉireann}}（[[アイルランド語]]）\n",
      "*{{lang|kw|An Rywvaneth Unys a Vreten Veur hag Iwerdhon Glédh}}（[[コーンウォール語]]）\n",
      "*{{lang|sco|Unitit Kinrick o Great Breetain an Northren Ireland}}（[[スコットランド語]]）\n",
      "**{{lang|sco|Claught Kängrick o Docht Brätain an Norlin Airlann}}、{{lang|sco|Unitet Kängdom o Great Brittain an Norlin Airlann}}（アルスター・スコットランド語）</ref>\n",
      "key : 国旗画像\tval : Flag of the United Kingdom.svg\n",
      "key : 国章画像\tval : [[ファイル:Royal Coat of Arms of the United Kingdom.svg|85px|イギリスの国章]]\n",
      "key : 国章リンク\tval : （[[イギリスの国章|国章]]）\n",
      "key : 標語\tval : {{lang|fr|[[Dieu et mon droit]]}}<br />（[[フランス語]]:[[Dieu et mon droit|神と我が権利]]）\n",
      "key : 国歌\tval : [[女王陛下万歳|{{lang|en|God Save the Queen}}]]{{en icon}}<br />神よ女王を護り賜え<br />{{center|[[ファイル:United States Navy Band - God Save the Queen.ogg]]}}\n",
      "key : 地図画像\tval : Europe-UK.svg\n",
      "key : 位置画像\tval : United Kingdom (+overseas territories) in the World (+Antarctica claims).svg\n",
      "key : 公用語\tval : [[英語]]\n",
      "key : 首都\tval : [[ロンドン]]（事実上）\n",
      "key : 最大都市\tval : ロンドン\n",
      "key : 元首等肩書\tval : [[イギリスの君主|女王]]\n",
      "key : 元首等氏名\tval : [[エリザベス2世]]\n",
      "key : 首相等肩書\tval : [[イギリスの首相|首相]]\n",
      "key : 首相等氏名\tval : [[ボリス・ジョンソン]]\n",
      "key : 他元首等肩書1\tval : [[貴族院 (イギリス)|貴族院議長]]\n",
      "key : 他元首等氏名1\tval : [[:en:Norman Fowler, Baron Fowler|ノーマン・ファウラー]]\n",
      "key : 他元首等肩書2\tval : [[庶民院 (イギリス)|庶民院議長]]\n",
      "key : 他元首等氏名2\tval : {{仮リンク|リンゼイ・ホイル|en|Lindsay Hoyle}}\n",
      "key : 他元首等肩書3\tval : [[連合王国最高裁判所|最高裁判所長官]]\n",
      "key : 他元首等氏名3\tval : [[:en:Brenda Hale, Baroness Hale of Richmond|ブレンダ・ヘイル]]\n",
      "key : 面積順位\tval : 76\n",
      "key : 面積大きさ\tval : 1 E11\n",
      "key : 面積値\tval : 244,820\n",
      "key : 水面積率\tval : 1.3%\n",
      "key : 人口統計年\tval : 2018\n",
      "key : 人口順位\tval : 22\n",
      "key : 人口大きさ\tval : 1 E7\n",
      "key : 人口値\tval : 6643万5600<ref>{{Cite web|url=https://www.ons.gov.uk/peoplepopulationandcommunity/populationandmigration/populationestimates|title=Population estimates - Office for National Statistics|accessdate=2019-06-26|date=2019-06-26}}</ref>\n",
      "key : 人口密度値\tval : 271\n",
      "key : GDP統計年元\tval : 2012\n",
      "key : GDP値元\tval : 1兆5478億<ref name=\"imf-statistics-gdp\">[http://www.imf.org/external/pubs/ft/weo/2012/02/weodata/weorept.aspx?pr.x=70&pr.y=13&sy=2010&ey=2012&scsm=1&ssd=1&sort=country&ds=.&br=1&c=112&s=NGDP%2CNGDPD%2CPPPGDP%2CPPPPC&grp=0&a=IMF>Data and Statistics>World Economic Outlook Databases>By Countrise>United Kingdom]</ref>\n",
      "key : GDP統計年MER\tval : 2012\n",
      "key : GDP順位MER\tval : 6\n",
      "key : GDP値MER\tval : 2兆4337億<ref name=\"imf-statistics-gdp\" />\n",
      "key : GDP統計年\tval : 2012\n",
      "key : GDP順位\tval : 6\n",
      "key : GDP値\tval : 2兆3162億<ref name=\"imf-statistics-gdp\" />\n",
      "key : GDP/人\tval : 36,727<ref name=\"imf-statistics-gdp\" />\n",
      "key : 建国形態\tval : 建国\n",
      "key : 確立形態1\tval : [[イングランド王国]]／[[スコットランド王国]]<br />（両国とも[[合同法 (1707年)|1707年合同法]]まで）\n",
      "key : 確立年月日1\tval : 927年／843年\n",
      "key : 確立形態2\tval : [[グレートブリテン王国]]成立<br />（1707年合同法）\n",
      "key : 確立年月日2\tval : 1707年{{0}}5月{{0}}1日\n",
      "key : 確立形態3\tval : [[グレートブリテン及びアイルランド連合王国]]成立<br />（[[合同法 (1800年)|1800年合同法]]）\n",
      "key : 確立年月日3\tval : 1801年{{0}}1月{{0}}1日\n",
      "key : 確立形態4\tval : 現在の国号「グレートブリテン及び北アイルランド連合王国」に変更\n",
      "key : 確立年月日4\tval : 1927年{{0}}4月12日\n",
      "key : 通貨\tval : [[スターリング・ポンド|UKポンド]] (£)\n",
      "key : 通貨コード\tval : GBP\n",
      "key : 時間帯\tval : ±0\n",
      "key : 夏時間\tval : +1\n",
      "key : ISO 3166-1\tval : GB / GBR\n",
      "key : ccTLD\tval : [[.uk]] / [[.gb]]<ref>使用は.ukに比べ圧倒的少数。</ref>\n",
      "key : 国際電話番号\tval : 44\n",
      "key : 注記\tval : <references/>\n"
     ]
    }
   ],
   "source": [
    "for key, val in field_dict.items():\n",
    "    print(f'key : {key}\\tval : {val}')"
   ]
  },
  {
   "cell_type": "markdown",
   "metadata": {},
   "source": [
    "# 26. 強調マークアップの除去"
   ]
  },
  {
   "cell_type": "code",
   "execution_count": 331,
   "metadata": {},
   "outputs": [],
   "source": [
    "for (key, val) in field_dict.items():\n",
    "    val = re.sub('(?P<single>\\'{2,5})(.*?)(?P=single)', r'\\2', val)\n",
    "    field_dict[key] = val"
   ]
  },
  {
   "cell_type": "code",
   "execution_count": 332,
   "metadata": {},
   "outputs": [
    {
     "name": "stdout",
     "output_type": "stream",
     "text": [
      "key : 略名\tval : イギリス\n",
      "key : 日本語国名\tval : グレートブリテン及び北アイルランド連合王国\n",
      "key : 公式国名\tval : {{lang|en|United Kingdom of Great Britain and Northern Ireland}}<ref>英語以外での正式国名:<br />\n",
      "*{{lang|gd|An Rìoghachd Aonaichte na Breatainn Mhòr agus Eirinn mu Thuath}}（[[スコットランド・ゲール語]]）\n",
      "*{{lang|cy|Teyrnas Gyfunol Prydain Fawr a Gogledd Iwerddon}}（[[ウェールズ語]]）\n",
      "*{{lang|ga|Ríocht Aontaithe na Breataine Móire agus Tuaisceart na hÉireann}}（[[アイルランド語]]）\n",
      "*{{lang|kw|An Rywvaneth Unys a Vreten Veur hag Iwerdhon Glédh}}（[[コーンウォール語]]）\n",
      "*{{lang|sco|Unitit Kinrick o Great Breetain an Northren Ireland}}（[[スコットランド語]]）\n",
      "**{{lang|sco|Claught Kängrick o Docht Brätain an Norlin Airlann}}、{{lang|sco|Unitet Kängdom o Great Brittain an Norlin Airlann}}（アルスター・スコットランド語）</ref>\n",
      "key : 国旗画像\tval : Flag of the United Kingdom.svg\n",
      "key : 国章画像\tval : [[ファイル:Royal Coat of Arms of the United Kingdom.svg|85px|イギリスの国章]]\n",
      "key : 国章リンク\tval : （[[イギリスの国章|国章]]）\n",
      "key : 標語\tval : {{lang|fr|[[Dieu et mon droit]]}}<br />（[[フランス語]]:[[Dieu et mon droit|神と我が権利]]）\n",
      "key : 国歌\tval : [[女王陛下万歳|{{lang|en|God Save the Queen}}]]{{en icon}}<br />神よ女王を護り賜え<br />{{center|[[ファイル:United States Navy Band - God Save the Queen.ogg]]}}\n",
      "key : 地図画像\tval : Europe-UK.svg\n",
      "key : 位置画像\tval : United Kingdom (+overseas territories) in the World (+Antarctica claims).svg\n",
      "key : 公用語\tval : [[英語]]\n",
      "key : 首都\tval : [[ロンドン]]（事実上）\n",
      "key : 最大都市\tval : ロンドン\n",
      "key : 元首等肩書\tval : [[イギリスの君主|女王]]\n",
      "key : 元首等氏名\tval : [[エリザベス2世]]\n",
      "key : 首相等肩書\tval : [[イギリスの首相|首相]]\n",
      "key : 首相等氏名\tval : [[ボリス・ジョンソン]]\n",
      "key : 他元首等肩書1\tval : [[貴族院 (イギリス)|貴族院議長]]\n",
      "key : 他元首等氏名1\tval : [[:en:Norman Fowler, Baron Fowler|ノーマン・ファウラー]]\n",
      "key : 他元首等肩書2\tval : [[庶民院 (イギリス)|庶民院議長]]\n",
      "key : 他元首等氏名2\tval : {{仮リンク|リンゼイ・ホイル|en|Lindsay Hoyle}}\n",
      "key : 他元首等肩書3\tval : [[連合王国最高裁判所|最高裁判所長官]]\n",
      "key : 他元首等氏名3\tval : [[:en:Brenda Hale, Baroness Hale of Richmond|ブレンダ・ヘイル]]\n",
      "key : 面積順位\tval : 76\n",
      "key : 面積大きさ\tval : 1 E11\n",
      "key : 面積値\tval : 244,820\n",
      "key : 水面積率\tval : 1.3%\n",
      "key : 人口統計年\tval : 2018\n",
      "key : 人口順位\tval : 22\n",
      "key : 人口大きさ\tval : 1 E7\n",
      "key : 人口値\tval : 6643万5600<ref>{{Cite web|url=https://www.ons.gov.uk/peoplepopulationandcommunity/populationandmigration/populationestimates|title=Population estimates - Office for National Statistics|accessdate=2019-06-26|date=2019-06-26}}</ref>\n",
      "key : 人口密度値\tval : 271\n",
      "key : GDP統計年元\tval : 2012\n",
      "key : GDP値元\tval : 1兆5478億<ref name=\"imf-statistics-gdp\">[http://www.imf.org/external/pubs/ft/weo/2012/02/weodata/weorept.aspx?pr.x=70&pr.y=13&sy=2010&ey=2012&scsm=1&ssd=1&sort=country&ds=.&br=1&c=112&s=NGDP%2CNGDPD%2CPPPGDP%2CPPPPC&grp=0&a=IMF>Data and Statistics>World Economic Outlook Databases>By Countrise>United Kingdom]</ref>\n",
      "key : GDP統計年MER\tval : 2012\n",
      "key : GDP順位MER\tval : 6\n",
      "key : GDP値MER\tval : 2兆4337億<ref name=\"imf-statistics-gdp\" />\n",
      "key : GDP統計年\tval : 2012\n",
      "key : GDP順位\tval : 6\n",
      "key : GDP値\tval : 2兆3162億<ref name=\"imf-statistics-gdp\" />\n",
      "key : GDP/人\tval : 36,727<ref name=\"imf-statistics-gdp\" />\n",
      "key : 建国形態\tval : 建国\n",
      "key : 確立形態1\tval : [[イングランド王国]]／[[スコットランド王国]]<br />（両国とも[[合同法 (1707年)|1707年合同法]]まで）\n",
      "key : 確立年月日1\tval : 927年／843年\n",
      "key : 確立形態2\tval : [[グレートブリテン王国]]成立<br />（1707年合同法）\n",
      "key : 確立年月日2\tval : 1707年{{0}}5月{{0}}1日\n",
      "key : 確立形態3\tval : [[グレートブリテン及びアイルランド連合王国]]成立<br />（[[合同法 (1800年)|1800年合同法]]）\n",
      "key : 確立年月日3\tval : 1801年{{0}}1月{{0}}1日\n",
      "key : 確立形態4\tval : 現在の国号「グレートブリテン及び北アイルランド連合王国」に変更\n",
      "key : 確立年月日4\tval : 1927年{{0}}4月12日\n",
      "key : 通貨\tval : [[スターリング・ポンド|UKポンド]] (£)\n",
      "key : 通貨コード\tval : GBP\n",
      "key : 時間帯\tval : ±0\n",
      "key : 夏時間\tval : +1\n",
      "key : ISO 3166-1\tval : GB / GBR\n",
      "key : ccTLD\tval : [[.uk]] / [[.gb]]<ref>使用は.ukに比べ圧倒的少数。</ref>\n",
      "key : 国際電話番号\tval : 44\n",
      "key : 注記\tval : <references/>\n"
     ]
    }
   ],
   "source": [
    "for (key, val) in field_dict.items():\n",
    "    print(f'key : {key}\\tval : {val}')"
   ]
  },
  {
   "cell_type": "markdown",
   "metadata": {},
   "source": [
    "# 27. 内部リンクの除去"
   ]
  },
  {
   "cell_type": "code",
   "execution_count": 333,
   "metadata": {},
   "outputs": [],
   "source": [
    "replaced = field_dict.copy()\n",
    "for (key, val) in replaced.items():\n",
    "    val = re.sub(r'\\[\\[(?!ファイル:|File:|Category:)(?:[^\\|{}\\[\\]]*?\\|)*(.*?)\\]\\]', r'\\1', val)\n",
    "    replaced[key] = val"
   ]
  },
  {
   "cell_type": "code",
   "execution_count": 334,
   "metadata": {},
   "outputs": [
    {
     "name": "stdout",
     "output_type": "stream",
     "text": [
      "略名 : イギリス\n",
      "日本語国名 : グレートブリテン及び北アイルランド連合王国\n",
      "公式国名 : {{lang|en|United Kingdom of Great Britain and Northern Ireland}}<ref>英語以外での正式国名:<br />\n",
      "*{{lang|gd|An Rìoghachd Aonaichte na Breatainn Mhòr agus Eirinn mu Thuath}}（スコットランド・ゲール語）\n",
      "*{{lang|cy|Teyrnas Gyfunol Prydain Fawr a Gogledd Iwerddon}}（ウェールズ語）\n",
      "*{{lang|ga|Ríocht Aontaithe na Breataine Móire agus Tuaisceart na hÉireann}}（アイルランド語）\n",
      "*{{lang|kw|An Rywvaneth Unys a Vreten Veur hag Iwerdhon Glédh}}（コーンウォール語）\n",
      "*{{lang|sco|Unitit Kinrick o Great Breetain an Northren Ireland}}（スコットランド語）\n",
      "**{{lang|sco|Claught Kängrick o Docht Brätain an Norlin Airlann}}、{{lang|sco|Unitet Kängdom o Great Brittain an Norlin Airlann}}（アルスター・スコットランド語）</ref>\n",
      "国旗画像 : Flag of the United Kingdom.svg\n",
      "国章画像 : [[ファイル:Royal Coat of Arms of the United Kingdom.svg|85px|イギリスの国章]]\n",
      "国章リンク : （国章）\n",
      "標語 : {{lang|fr|Dieu et mon droit}}<br />（フランス語:神と我が権利）\n",
      "国歌 : {{lang|en|God Save the Queen}}{{en icon}}<br />神よ女王を護り賜え<br />{{center|[[ファイル:United States Navy Band - God Save the Queen.ogg]]}}\n",
      "地図画像 : Europe-UK.svg\n",
      "位置画像 : United Kingdom (+overseas territories) in the World (+Antarctica claims).svg\n",
      "公用語 : 英語\n",
      "首都 : ロンドン（事実上）\n",
      "最大都市 : ロンドン\n",
      "元首等肩書 : 女王\n",
      "元首等氏名 : エリザベス2世\n",
      "首相等肩書 : 首相\n",
      "首相等氏名 : ボリス・ジョンソン\n",
      "他元首等肩書1 : 貴族院議長\n",
      "他元首等氏名1 : ノーマン・ファウラー\n",
      "他元首等肩書2 : 庶民院議長\n",
      "他元首等氏名2 : {{仮リンク|リンゼイ・ホイル|en|Lindsay Hoyle}}\n",
      "他元首等肩書3 : 最高裁判所長官\n",
      "他元首等氏名3 : ブレンダ・ヘイル\n",
      "面積順位 : 76\n",
      "面積大きさ : 1 E11\n",
      "面積値 : 244,820\n",
      "水面積率 : 1.3%\n",
      "人口統計年 : 2018\n",
      "人口順位 : 22\n",
      "人口大きさ : 1 E7\n",
      "人口値 : 6643万5600<ref>{{Cite web|url=https://www.ons.gov.uk/peoplepopulationandcommunity/populationandmigration/populationestimates|title=Population estimates - Office for National Statistics|accessdate=2019-06-26|date=2019-06-26}}</ref>\n",
      "人口密度値 : 271\n",
      "GDP統計年元 : 2012\n",
      "GDP値元 : 1兆5478億<ref name=\"imf-statistics-gdp\">[http://www.imf.org/external/pubs/ft/weo/2012/02/weodata/weorept.aspx?pr.x=70&pr.y=13&sy=2010&ey=2012&scsm=1&ssd=1&sort=country&ds=.&br=1&c=112&s=NGDP%2CNGDPD%2CPPPGDP%2CPPPPC&grp=0&a=IMF>Data and Statistics>World Economic Outlook Databases>By Countrise>United Kingdom]</ref>\n",
      "GDP統計年MER : 2012\n",
      "GDP順位MER : 6\n",
      "GDP値MER : 2兆4337億<ref name=\"imf-statistics-gdp\" />\n",
      "GDP統計年 : 2012\n",
      "GDP順位 : 6\n",
      "GDP値 : 2兆3162億<ref name=\"imf-statistics-gdp\" />\n",
      "GDP/人 : 36,727<ref name=\"imf-statistics-gdp\" />\n",
      "建国形態 : 建国\n",
      "確立形態1 : イングランド王国／スコットランド王国<br />（両国とも1707年合同法まで）\n",
      "確立年月日1 : 927年／843年\n",
      "確立形態2 : グレートブリテン王国成立<br />（1707年合同法）\n",
      "確立年月日2 : 1707年{{0}}5月{{0}}1日\n",
      "確立形態3 : グレートブリテン及びアイルランド連合王国成立<br />（1800年合同法）\n",
      "確立年月日3 : 1801年{{0}}1月{{0}}1日\n",
      "確立形態4 : 現在の国号「グレートブリテン及び北アイルランド連合王国」に変更\n",
      "確立年月日4 : 1927年{{0}}4月12日\n",
      "通貨 : UKポンド (£)\n",
      "通貨コード : GBP\n",
      "時間帯 : ±0\n",
      "夏時間 : +1\n",
      "ISO 3166-1 : GB / GBR\n",
      "ccTLD : .uk / .gb<ref>使用は.ukに比べ圧倒的少数。</ref>\n",
      "国際電話番号 : 44\n",
      "注記 : <references/>\n"
     ]
    }
   ],
   "source": [
    "for (key, val) in replaced.items():\n",
    "    print(f'{key} : {val}')"
   ]
  },
  {
   "cell_type": "markdown",
   "metadata": {},
   "source": [
    "# 28. MediaWikiマークアップの除去"
   ]
  },
  {
   "cell_type": "code",
   "execution_count": 335,
   "metadata": {},
   "outputs": [],
   "source": [
    "def delete_meta(field):\n",
    "    ret = field.copy()\n",
    "    for (key, val) in ret.items():\n",
    "        val = re.sub(r'<ref.*?>.*?</ref>','', val, flags = re.DOTALL)\n",
    "        val = re.sub(r'<.*?>','',val, flags = re.DOTALL)\n",
    "        ret[key] = val\n",
    "    return ret\n",
    "\n",
    "def delete_file_and_category(field):\n",
    "    ret = field.copy()\n",
    "    for (key, val) in ret.items():\n",
    "        val = re.sub(r'\\[\\[(?:ファイル:|File:|Category:)(?:[^\\|{}\\[\\]]*?\\|)*(.*?)\\]\\]', r'\\1', val)\n",
    "        ret[key] = val\n",
    "    return ret\n",
    "\n",
    "def delete_bullets(field):\n",
    "    ret = field.copy()\n",
    "    for (key, val) in ret.items():\n",
    "        val = re.sub(r'#REDIRECT', '', val)\n",
    "        val = re.sub(r'^[\\#\\*\\;\\:]+|----', '', val, flags = re.MULTILINE)\n",
    "        ret[key] = val\n",
    "    return ret\n",
    "    \n",
    "def delete_link(field):\n",
    "    ret = field.copy()\n",
    "    for (key, val) in ret.items():\n",
    "        val = re.sub(r'\\[\\[(?!ファイル:|File:|Category:)(?:[^\\|{}\\[\\]]*?\\|)*(.*?)\\]\\]', r'\\1', val)\n",
    "        val = re.sub(r'\\{\\{仮リンク\\|([^\\|]*)(?:\\|[^\\|]*?)*?\\}\\}', r'\\1', val)\n",
    "        val = re.sub(r'\\[https?://[\\w/:%#\\$&\\?\\(\\)~\\.=\\+\\-]+ *?([^\\ ]*?)\\]', r'\\1', val)\n",
    "        val = re.sub(r'https?://[\\w/:%#\\$&\\?\\(\\)~\\.=\\+\\-]+', '', val)\n",
    "        ret[key] = val\n",
    "    return ret\n",
    "\n",
    "def delete_lang(field):\n",
    "    ret = field.copy()\n",
    "    for (key, val) in ret.items():\n",
    "        val = re.sub(r'\\{\\{lang(?:[^\\|{}\\[\\]]*?\\|)*(.*?)\\}\\}', r'\\1', val)\n",
    "        ret[key] = val\n",
    "    return ret\n",
    "\n",
    "def delete_template(field):\n",
    "    ret = field.copy()\n",
    "    for (key, val) in ret.items():\n",
    "        val = re.sub(r'\\{\\{.*?\\}\\}', '', val)\n",
    "        ret[key] = val\n",
    "    return ret"
   ]
  },
  {
   "cell_type": "code",
   "execution_count": 336,
   "metadata": {},
   "outputs": [
    {
     "name": "stdout",
     "output_type": "stream",
     "text": [
      "略名 : イギリス\n",
      "日本語国名 : グレートブリテン及び北アイルランド連合王国\n",
      "公式国名 : United Kingdom of Great Britain and Northern Ireland\n",
      "国旗画像 : Flag of the United Kingdom.svg\n",
      "国章画像 : イギリスの国章\n",
      "国章リンク : （国章）\n",
      "標語 : Dieu et mon droit（フランス語:神と我が権利）\n",
      "国歌 : God Save the Queen神よ女王を護り賜え\n",
      "地図画像 : Europe-UK.svg\n",
      "位置画像 : United Kingdom (+overseas territories) in the World (+Antarctica claims).svg\n",
      "公用語 : 英語\n",
      "首都 : ロンドン（事実上）\n",
      "最大都市 : ロンドン\n",
      "元首等肩書 : 女王\n",
      "元首等氏名 : エリザベス2世\n",
      "首相等肩書 : 首相\n",
      "首相等氏名 : ボリス・ジョンソン\n",
      "他元首等肩書1 : 貴族院議長\n",
      "他元首等氏名1 : ノーマン・ファウラー\n",
      "他元首等肩書2 : 庶民院議長\n",
      "他元首等氏名2 : リンゼイ・ホイル\n",
      "他元首等肩書3 : 最高裁判所長官\n",
      "他元首等氏名3 : ブレンダ・ヘイル\n",
      "面積順位 : 76\n",
      "面積大きさ : 1 E11\n",
      "面積値 : 244,820\n",
      "水面積率 : 1.3%\n",
      "人口統計年 : 2018\n",
      "人口順位 : 22\n",
      "人口大きさ : 1 E7\n",
      "人口値 : 6643万5600\n",
      "人口密度値 : 271\n",
      "GDP統計年元 : 2012\n",
      "GDP値元 : 1兆5478億\n",
      "GDP統計年MER : 2012\n",
      "GDP順位MER : 6\n",
      "GDP値MER : 2兆4337億\n",
      "GDP統計年 : 2012\n",
      "GDP順位 : 6\n",
      "GDP値 : 2兆3162億\n",
      "GDP/人 : 36,727\n",
      "建国形態 : 建国\n",
      "確立形態1 : イングランド王国／スコットランド王国（両国とも1707年合同法まで）\n",
      "確立年月日1 : 927年／843年\n",
      "確立形態2 : グレートブリテン王国成立（1707年合同法）\n",
      "確立年月日2 : 1707年5月1日\n",
      "確立形態3 : グレートブリテン及びアイルランド連合王国成立（1800年合同法）\n",
      "確立年月日3 : 1801年1月1日\n",
      "確立形態4 : 現在の国号「グレートブリテン及び北アイルランド連合王国」に変更\n",
      "確立年月日4 : 1927年4月12日\n",
      "通貨 : UKポンド (£)\n",
      "通貨コード : GBP\n",
      "時間帯 : ±0\n",
      "夏時間 : +1\n",
      "ISO 3166-1 : GB / GBR\n",
      "ccTLD : .uk / .gb\n",
      "国際電話番号 : 44\n",
      "注記 : \n"
     ]
    }
   ],
   "source": [
    "func_list = [delete_link, delete_file_and_category, delete_lang, delete_meta, delete_bullets, delete_template]\n",
    "cpy_dict = field_dict.copy()\n",
    "for func in func_list:\n",
    "    cpy_dict = func(cpy_dict)\n",
    "    \n",
    "for (key, val) in cpy_dict.items():\n",
    "    print(f'{key} : {val}')"
   ]
  },
  {
   "cell_type": "markdown",
   "metadata": {},
   "source": [
    "# 29. 国旗画像のURLを取得する"
   ]
  },
  {
   "cell_type": "code",
   "execution_count": 276,
   "metadata": {},
   "outputs": [],
   "source": [
    "import requests\n",
    "import IPython"
   ]
  },
  {
   "cell_type": "code",
   "execution_count": 277,
   "metadata": {},
   "outputs": [],
   "source": [
    "S = requests.Session()\n",
    "URL = \"https://www.mediawiki.org/w/api.php\""
   ]
  },
  {
   "cell_type": "code",
   "execution_count": 278,
   "metadata": {},
   "outputs": [],
   "source": [
    "PARAMS = {\n",
    "    \"action\": \"query\",\n",
    "    \"format\": \"json\",\n",
    "    \"prop\": \"imageinfo\",\n",
    "    \"titles\": \"File:\" + field_dict[\"国旗画像\"],\n",
    "    \"iiprop\": \"url\"\n",
    "}\n",
    "\n",
    "R = S.get(url=URL, params=PARAMS)\n",
    "data = R.json()\n",
    "im_url = data[\"query\"][\"pages\"][\"-1\"][\"imageinfo\"][0][\"url\"]"
   ]
  },
  {
   "cell_type": "code",
   "execution_count": 279,
   "metadata": {},
   "outputs": [
    {
     "name": "stdout",
     "output_type": "stream",
     "text": [
      "https://upload.wikimedia.org/wikipedia/commons/a/ae/Flag_of_the_United_Kingdom.svg\n"
     ]
    }
   ],
   "source": [
    "print(im_url)"
   ]
  },
  {
   "cell_type": "code",
   "execution_count": 280,
   "metadata": {},
   "outputs": [
    {
     "data": {
      "image/svg+xml": [
       "<svg height=\"600\" viewBox=\"0 0 60 30\" width=\"1200\" xmlns=\"http://www.w3.org/2000/svg\">\n",
       "<clipPath id=\"s\">\n",
       "\t<path d=\"M0,0 v30 h60 v-30 z\"/>\n",
       "</clipPath>\n",
       "<clipPath id=\"t\">\n",
       "\t<path d=\"M30,15 h30 v15 z v15 h-30 z h-30 v-15 z v-15 h30 z\"/>\n",
       "</clipPath>\n",
       "<g clip-path=\"url(#s)\">\n",
       "\t<path d=\"M0,0 v30 h60 v-30 z\" fill=\"#012169\"/>\n",
       "\t<path d=\"M0,0 L60,30 M60,0 L0,30\" stroke=\"#fff\" stroke-width=\"6\"/>\n",
       "\t<path clip-path=\"url(#t)\" d=\"M0,0 L60,30 M60,0 L0,30\" stroke=\"#C8102E\" stroke-width=\"4\"/>\n",
       "\t<path d=\"M30,0 v30 M0,15 h60\" stroke=\"#fff\" stroke-width=\"10\"/>\n",
       "\t<path d=\"M30,0 v30 M0,15 h60\" stroke=\"#C8102E\" stroke-width=\"6\"/>\n",
       "</g>\n",
       "</svg>"
      ],
      "text/plain": [
       "<IPython.core.display.SVG object>"
      ]
     },
     "execution_count": 280,
     "metadata": {},
     "output_type": "execute_result"
    }
   ],
   "source": [
    "IPython.display.SVG(url = im_url)"
   ]
  },
  {
   "cell_type": "code",
   "execution_count": null,
   "metadata": {},
   "outputs": [],
   "source": []
  }
 ],
 "metadata": {
  "kernelspec": {
   "display_name": "Python 3",
   "language": "python",
   "name": "python3"
  },
  "language_info": {
   "codemirror_mode": {
    "name": "ipython",
    "version": 3
   },
   "file_extension": ".py",
   "mimetype": "text/x-python",
   "name": "python",
   "nbconvert_exporter": "python",
   "pygments_lexer": "ipython3",
   "version": "3.7.4"
  }
 },
 "nbformat": 4,
 "nbformat_minor": 4
}
