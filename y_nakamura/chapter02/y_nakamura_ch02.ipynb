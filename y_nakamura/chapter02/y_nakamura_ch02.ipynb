{
 "cells": [
  {
   "cell_type": "markdown",
   "metadata": {},
   "source": [
    "# 10. 行数のカウント"
   ]
  },
  {
   "cell_type": "code",
   "execution_count": 7,
   "metadata": {},
   "outputs": [
    {
     "name": "stdout",
     "output_type": "stream",
     "text": [
      "2780\n"
     ]
    }
   ],
   "source": [
    "print(sum([1 for _ in open('./data/popular-names.txt', mode = 'r')])) #closeされない？"
   ]
  },
  {
   "cell_type": "code",
   "execution_count": 8,
   "metadata": {},
   "outputs": [
    {
     "name": "stdout",
     "output_type": "stream",
     "text": [
      "2780\n"
     ]
    }
   ],
   "source": [
    "with open('./data/popular-names.txt', mode = 'r') as f:\n",
    "    print(sum([1 for _ in f]))"
   ]
  },
  {
   "cell_type": "code",
   "execution_count": 9,
   "metadata": {},
   "outputs": [
    {
     "name": "stdout",
     "output_type": "stream",
     "text": [
      "2780\n"
     ]
    }
   ],
   "source": [
    "from functools import reduce\n",
    "with open('./data/popular-names.txt', mode = 'r') as f:\n",
    "    print(reduce(lambda num_lines, x: num_lines + 1, f, 0))"
   ]
  },
  {
   "cell_type": "code",
   "execution_count": 10,
   "metadata": {},
   "outputs": [
    {
     "name": "stdout",
     "output_type": "stream",
     "text": [
      "2780\n"
     ]
    }
   ],
   "source": [
    "with open('./data/popular-names.txt', mode = 'r') as f:\n",
    "    print(len(f.readlines()))"
   ]
  },
  {
   "cell_type": "code",
   "execution_count": 11,
   "metadata": {},
   "outputs": [
    {
     "name": "stdout",
     "output_type": "stream",
     "text": [
      "    2780 data/popular-names.txt\n"
     ]
    }
   ],
   "source": [
    "!wc -l data/popular-names.txt"
   ]
  },
  {
   "cell_type": "code",
   "execution_count": 12,
   "metadata": {},
   "outputs": [
    {
     "name": "stdout",
     "output_type": "stream",
     "text": [
      "    2780\n"
     ]
    }
   ],
   "source": [
    "!cat data/popular-names.txt | wc -l"
   ]
  },
  {
   "cell_type": "markdown",
   "metadata": {},
   "source": [
    "# 11. タブをスペースに置換"
   ]
  },
  {
   "cell_type": "code",
   "execution_count": null,
   "metadata": {
    "scrolled": true
   },
   "outputs": [],
   "source": [
    "with open('./data/popular-names.txt', mode = 'r') as f:\n",
    "    replaced_data = f.read().replace('\\t', ' ')\n",
    "    print(replaced_data)"
   ]
  },
  {
   "cell_type": "code",
   "execution_count": null,
   "metadata": {
    "scrolled": true
   },
   "outputs": [],
   "source": [
    "!cat data/popular-names.txt | sed s/'\t'/' '/g"
   ]
  },
  {
   "cell_type": "code",
   "execution_count": null,
   "metadata": {
    "scrolled": true
   },
   "outputs": [],
   "source": [
    "!cat data/popular-names.txt | tr '\\t' ' '"
   ]
  },
  {
   "cell_type": "code",
   "execution_count": null,
   "metadata": {
    "scrolled": true
   },
   "outputs": [],
   "source": [
    "!expand -t 1 data/popular-names.txt "
   ]
  },
  {
   "cell_type": "markdown",
   "metadata": {},
   "source": [
    "# 12. 1列目をcol1.txtに，2列目をcol2.txtに保存"
   ]
  },
  {
   "cell_type": "code",
   "execution_count": 17,
   "metadata": {},
   "outputs": [],
   "source": [
    "col1_list = []\n",
    "col2_list = []\n",
    "\n",
    "with open('./data/popular-names.txt') as f:\n",
    "    for line in f:\n",
    "        split_line = line.split('\\t')\n",
    "        col1_list.append(split_line[0])\n",
    "        col2_list.append(split_line[1])\n",
    "        \n",
    "with open('./work/col1.txt', mode = 'w') as col1:\n",
    "    col1.write('\\n'.join(col1_list))\n",
    "    \n",
    "with open('./work/col2.txt', mode = 'w') as col2:\n",
    "    col2.write('\\n'.join(col2_list))"
   ]
  },
  {
   "cell_type": "code",
   "execution_count": null,
   "metadata": {
    "scrolled": true
   },
   "outputs": [],
   "source": [
    "!cat data/popular-names.txt | cut -f 1"
   ]
  },
  {
   "cell_type": "code",
   "execution_count": null,
   "metadata": {
    "scrolled": true
   },
   "outputs": [],
   "source": [
    "!cat data/popular-names.txt | cut -f 2"
   ]
  },
  {
   "cell_type": "markdown",
   "metadata": {},
   "source": [
    "# 13. col1.txtとcol2.txtをマージ"
   ]
  },
  {
   "cell_type": "code",
   "execution_count": 20,
   "metadata": {},
   "outputs": [],
   "source": [
    "with open('./work/col1.txt', mode = 'r') as col1:\n",
    "    col1_list = col1.readlines()\n",
    "\n",
    "with open('./work/col2.txt', mode = 'r') as col2:\n",
    "    col2_list = col2.readlines()\n",
    "\n",
    "with open('./work/13.txt', mode = 'w') as f:\n",
    "    #f.writelines([col1_word.replace('\\n', '\\t') + col2_word for (col1_word, col2_word) in zip(col1_list, col2_list)]) #最後の行に\\nがない(上の方法で書き込んだ場合)\n",
    "    f.writelines([col1_word.strip('\\n') + '\\t' + col2_word for (col1_word, col2_word) in zip(col1_list, col2_list)])"
   ]
  },
  {
   "cell_type": "code",
   "execution_count": null,
   "metadata": {
    "scrolled": true
   },
   "outputs": [],
   "source": [
    "!paste work/col1.txt work/col2.txt"
   ]
  },
  {
   "cell_type": "markdown",
   "metadata": {},
   "source": [
    "# 14. 先頭からN行を出力"
   ]
  },
  {
   "cell_type": "code",
   "execution_count": 22,
   "metadata": {},
   "outputs": [
    {
     "name": "stdout",
     "output_type": "stream",
     "text": [
      "Overwriting ./src/q14.py\n"
     ]
    }
   ],
   "source": [
    "%%file ./src/q14.py\n",
    "import sys\n",
    "\n",
    "n = int(sys.argv[1])\n",
    "with open('./data/popular-names.txt', mode = 'r') as f:\n",
    "    data_list = f.readlines()\n",
    "    for data in data_list[:n]:\n",
    "        print(data.strip())"
   ]
  },
  {
   "cell_type": "code",
   "execution_count": 23,
   "metadata": {},
   "outputs": [
    {
     "name": "stdout",
     "output_type": "stream",
     "text": [
      "Mary\tF\t7065\t1880\n",
      "Anna\tF\t2604\t1880\n",
      "Emma\tF\t2003\t1880\n",
      "Elizabeth\tF\t1939\t1880\n"
     ]
    }
   ],
   "source": [
    "!python ./src/q14.py 4"
   ]
  },
  {
   "cell_type": "code",
   "execution_count": 24,
   "metadata": {},
   "outputs": [
    {
     "name": "stdout",
     "output_type": "stream",
     "text": [
      "Mary\tF\t7065\t1880\n",
      "Anna\tF\t2604\t1880\n",
      "Emma\tF\t2003\t1880\n",
      "Elizabeth\tF\t1939\t1880\n"
     ]
    }
   ],
   "source": [
    "!head -n 4 ./data/popular-names.txt"
   ]
  },
  {
   "cell_type": "markdown",
   "metadata": {},
   "source": [
    "# 15. 末尾のN行を出力"
   ]
  },
  {
   "cell_type": "code",
   "execution_count": 25,
   "metadata": {},
   "outputs": [
    {
     "name": "stdout",
     "output_type": "stream",
     "text": [
      "Overwriting ./src/q15.py\n"
     ]
    }
   ],
   "source": [
    "%%file ./src/q15.py\n",
    "import sys\n",
    "\n",
    "n = int(sys.argv[1])\n",
    "with open('./data/popular-names.txt', mode = 'r') as f:\n",
    "    data_list = f.readlines()\n",
    "    for data in data_list[-n:]:\n",
    "        print(data.strip())"
   ]
  },
  {
   "cell_type": "code",
   "execution_count": 26,
   "metadata": {},
   "outputs": [
    {
     "name": "stdout",
     "output_type": "stream",
     "text": [
      "Elijah\tM\t12886\t2018\n",
      "Lucas\tM\t12585\t2018\n",
      "Mason\tM\t12435\t2018\n",
      "Logan\tM\t12352\t2018\n"
     ]
    }
   ],
   "source": [
    "!python ./src/q15.py 4"
   ]
  },
  {
   "cell_type": "code",
   "execution_count": 27,
   "metadata": {},
   "outputs": [
    {
     "name": "stdout",
     "output_type": "stream",
     "text": [
      "Elijah\tM\t12886\t2018\n",
      "Lucas\tM\t12585\t2018\n",
      "Mason\tM\t12435\t2018\n",
      "Logan\tM\t12352\t2018\n"
     ]
    }
   ],
   "source": [
    "!tail -n 4 data/popular-names.txt"
   ]
  },
  {
   "cell_type": "markdown",
   "metadata": {},
   "source": [
    "# 16. ファイルをN分割する"
   ]
  },
  {
   "cell_type": "code",
   "execution_count": 14,
   "metadata": {},
   "outputs": [
    {
     "name": "stdout",
     "output_type": "stream",
     "text": [
      "Overwriting ./src/q16.py\n"
     ]
    }
   ],
   "source": [
    "%%file ./src/q16.py\n",
    "import sys\n",
    "import math\n",
    "from functools import reduce\n",
    "from itertools import islice\n",
    "\n",
    "file_path = './data/popular-names.txt'\n",
    "\n",
    "def get_file_length(file_path):\n",
    "    with open(file_path, mode = 'r') as f:\n",
    "        return reduce(lambda num_lines, x: num_lines + 1, f, 0)\n",
    "\n",
    "n = int(sys.argv[1])\n",
    "with open(file_path, mode = 'r') as f:\n",
    "    num_line = get_file_length(file_path)\n",
    "    out_num_line = math.ceil(num_line / n)\n",
    "    for file_number in range(n):\n",
    "        with open(f'./work/splitpy/splited_popular-names-{file_number:02}.txt', mode = 'w') as out_file:\n",
    "            for line in islice(f, out_num_line):\n",
    "                out_file.write(line)"
   ]
  },
  {
   "cell_type": "code",
   "execution_count": 15,
   "metadata": {},
   "outputs": [],
   "source": [
    "!python ./src/q16.py 18"
   ]
  },
  {
   "cell_type": "code",
   "execution_count": 18,
   "metadata": {},
   "outputs": [
    {
     "name": "stdout",
     "output_type": "stream",
     "text": [
      "Overwriting ./src/split.sh\n"
     ]
    }
   ],
   "source": [
    "%%file ./src/split.sh\n",
    "#!/bin/zsh\n",
    "\n",
    "file_path=$argv[1]\n",
    "n=$argv[2]\n",
    "\n",
    "num_line=`cat $file_path | wc -l`\n",
    "l_num=$((($num_line + $n - 1) / $n))\n",
    "#file_name=$file_path\"splited_file\"$file_name\"-\"\n",
    "\n",
    "split -l $l_num $file_path ./work/split/splited_popular-names-"
   ]
  },
  {
   "cell_type": "code",
   "execution_count": 19,
   "metadata": {},
   "outputs": [],
   "source": [
    "!zsh ./src/split.sh ./data/popular-names.txt 18"
   ]
  },
  {
   "cell_type": "code",
   "execution_count": 20,
   "metadata": {},
   "outputs": [
    {
     "name": "stdout",
     "output_type": "stream",
     "text": [
      "  155 ./work/split/splited_popular-names-aa\n",
      "  155 ./work/split/splited_popular-names-ab\n",
      "  155 ./work/split/splited_popular-names-ac\n",
      "  155 ./work/split/splited_popular-names-ad\n",
      "  155 ./work/split/splited_popular-names-ae\n",
      "  155 ./work/split/splited_popular-names-af\n",
      "  155 ./work/split/splited_popular-names-ag\n",
      "  155 ./work/split/splited_popular-names-ah\n",
      "  155 ./work/split/splited_popular-names-ai\n",
      "  155 ./work/split/splited_popular-names-aj\n",
      "  155 ./work/split/splited_popular-names-ak\n",
      "  155 ./work/split/splited_popular-names-al\n",
      "  155 ./work/split/splited_popular-names-am\n",
      "  155 ./work/split/splited_popular-names-an\n",
      "  155 ./work/split/splited_popular-names-ao\n",
      "  155 ./work/split/splited_popular-names-ap\n",
      "  155 ./work/split/splited_popular-names-aq\n",
      "  145 ./work/split/splited_popular-names-ar\n",
      " 2780 total\n"
     ]
    }
   ],
   "source": [
    "!wc -l ./work/split/*"
   ]
  },
  {
   "cell_type": "code",
   "execution_count": 21,
   "metadata": {},
   "outputs": [
    {
     "name": "stdout",
     "output_type": "stream",
     "text": [
      "  155 ./work/splitpy/splited_popular-names-00.txt\n",
      "  155 ./work/splitpy/splited_popular-names-01.txt\n",
      "  155 ./work/splitpy/splited_popular-names-02.txt\n",
      "  155 ./work/splitpy/splited_popular-names-03.txt\n",
      "  155 ./work/splitpy/splited_popular-names-04.txt\n",
      "  155 ./work/splitpy/splited_popular-names-05.txt\n",
      "  155 ./work/splitpy/splited_popular-names-06.txt\n",
      "  155 ./work/splitpy/splited_popular-names-07.txt\n",
      "  155 ./work/splitpy/splited_popular-names-08.txt\n",
      "  155 ./work/splitpy/splited_popular-names-09.txt\n",
      "  155 ./work/splitpy/splited_popular-names-10.txt\n",
      "  155 ./work/splitpy/splited_popular-names-11.txt\n",
      "  155 ./work/splitpy/splited_popular-names-12.txt\n",
      "  155 ./work/splitpy/splited_popular-names-13.txt\n",
      "  155 ./work/splitpy/splited_popular-names-14.txt\n",
      "  155 ./work/splitpy/splited_popular-names-15.txt\n",
      "  155 ./work/splitpy/splited_popular-names-16.txt\n",
      "  145 ./work/splitpy/splited_popular-names-17.txt\n",
      " 2780 total\n"
     ]
    }
   ],
   "source": [
    "!wc -l ./work/splitpy/*"
   ]
  },
  {
   "cell_type": "code",
   "execution_count": 22,
   "metadata": {},
   "outputs": [],
   "source": [
    "!split -n 18 data/popular-names.txt work/splitcom/splited_popular-names-"
   ]
  },
  {
   "cell_type": "code",
   "execution_count": 23,
   "metadata": {},
   "outputs": [
    {
     "name": "stdout",
     "output_type": "stream",
     "text": [
      "  164 ./work/splitcom/splited_popular-names-aa\n",
      "  163 ./work/splitcom/splited_popular-names-ab\n",
      "  162 ./work/splitcom/splited_popular-names-ac\n",
      "  162 ./work/splitcom/splited_popular-names-ad\n",
      "  153 ./work/splitcom/splited_popular-names-ae\n",
      "  152 ./work/splitcom/splited_popular-names-af\n",
      "  153 ./work/splitcom/splited_popular-names-ag\n",
      "  154 ./work/splitcom/splited_popular-names-ah\n",
      "  154 ./work/splitcom/splited_popular-names-ai\n",
      "  154 ./work/splitcom/splited_popular-names-aj\n",
      "  156 ./work/splitcom/splited_popular-names-ak\n",
      "  152 ./work/splitcom/splited_popular-names-al\n",
      "  150 ./work/splitcom/splited_popular-names-am\n",
      "  148 ./work/splitcom/splited_popular-names-an\n",
      "  148 ./work/splitcom/splited_popular-names-ao\n",
      "  149 ./work/splitcom/splited_popular-names-ap\n",
      "  150 ./work/splitcom/splited_popular-names-aq\n",
      "  156 ./work/splitcom/splited_popular-names-ar\n",
      " 2780 total\n"
     ]
    }
   ],
   "source": [
    "!wc -l ./work/splitcom/*"
   ]
  },
  {
   "cell_type": "markdown",
   "metadata": {},
   "source": [
    "# 17. １列目の文字列の異なり"
   ]
  },
  {
   "cell_type": "code",
   "execution_count": 30,
   "metadata": {},
   "outputs": [
    {
     "name": "stdout",
     "output_type": "stream",
     "text": [
      "Abigail\n",
      "Aiden\n",
      "Alexander\n",
      "Alexis\n",
      "Alice\n",
      "Amanda\n",
      "Amelia\n",
      "Amy\n",
      "Andrew\n",
      "Angela\n"
     ]
    }
   ],
   "source": [
    "with open('./work/col1.txt', mode = 'r') as in_file:\n",
    "    col1_set = {line.rstrip() for line in in_file}\n",
    "\n",
    "for col1 in sorted(col1_set)[:10]:\n",
    "    print(col1)"
   ]
  },
  {
   "cell_type": "code",
   "execution_count": 1,
   "metadata": {
    "scrolled": true
   },
   "outputs": [
    {
     "name": "stdout",
     "output_type": "stream",
     "text": [
      "Abigail\n",
      "Aiden\n",
      "Alexander\n",
      "Alexis\n",
      "Alice\n",
      "Amanda\n",
      "Amelia\n",
      "Amy\n",
      "Andrew\n",
      "Angela\n"
     ]
    }
   ],
   "source": [
    "!cut -f 1 data/popular-names.txt | sort | uniq | head"
   ]
  },
  {
   "cell_type": "markdown",
   "metadata": {},
   "source": [
    "# 18. 各行を3コラム目の数値の降順にソート"
   ]
  },
  {
   "cell_type": "code",
   "execution_count": 2,
   "metadata": {
    "scrolled": true
   },
   "outputs": [
    {
     "name": "stdout",
     "output_type": "stream",
     "text": [
      "Linda\tF\t99689\t1947\n",
      "Linda\tF\t96211\t1948\n",
      "James\tM\t94757\t1947\n",
      "Michael\tM\t92704\t1957\n",
      "Robert\tM\t91640\t1947\n",
      "Linda\tF\t91016\t1949\n",
      "Michael\tM\t90656\t1956\n",
      "Michael\tM\t90517\t1958\n",
      "James\tM\t88584\t1948\n",
      "Michael\tM\t88528\t1954\n"
     ]
    }
   ],
   "source": [
    "data_list = []\n",
    "with open('./data/popular-names.txt') as in_file:\n",
    "    for line in in_file:\n",
    "        split_line = line.split()\n",
    "        data_list.append(split_line)\n",
    "\n",
    "data_list.sort(key = lambda x: int(x[2]), reverse = True)\n",
    "\n",
    "for data in data_list[:10]:\n",
    "    print('\\t'.join(data).strip())"
   ]
  },
  {
   "cell_type": "code",
   "execution_count": 3,
   "metadata": {
    "scrolled": true
   },
   "outputs": [
    {
     "name": "stdout",
     "output_type": "stream",
     "text": [
      "Linda\tF\t99689\t1947\n",
      "Linda\tF\t96211\t1948\n",
      "James\tM\t94757\t1947\n",
      "Michael\tM\t92704\t1957\n",
      "Robert\tM\t91640\t1947\n",
      "Linda\tF\t91016\t1949\n",
      "Michael\tM\t90656\t1956\n",
      "Michael\tM\t90517\t1958\n",
      "James\tM\t88584\t1948\n",
      "Michael\tM\t88528\t1954\n",
      "sort: write failed: 'standard output': Broken pipe\n",
      "sort: write error\n"
     ]
    }
   ],
   "source": [
    "!sort -n -r -k 3 data/popular-names.txt | head"
   ]
  },
  {
   "cell_type": "markdown",
   "metadata": {},
   "source": [
    "# 19. 各行の1コラム目の文字列の出現頻度を求め，出現頻度の高い順に並べる"
   ]
  },
  {
   "cell_type": "code",
   "execution_count": 31,
   "metadata": {},
   "outputs": [
    {
     "name": "stdout",
     "output_type": "stream",
     "text": [
      "118 James\n",
      "111 William\n",
      "108 John\n",
      "108 Robert\n",
      "92 Mary\n",
      "75 Charles\n",
      "74 Michael\n",
      "73 Elizabeth\n",
      "70 Joseph\n",
      "60 Margaret\n"
     ]
    }
   ],
   "source": [
    "import collections\n",
    "\n",
    "col1_list = []\n",
    "with open('./data/popular-names.txt', mode = 'r') as f:\n",
    "    for line in f:\n",
    "        split_line = line.split()\n",
    "        col1_list.append(split_line[0])\n",
    "        \n",
    "for (word, cnt) in collections.Counter(col1_list).most_common(10):\n",
    "    print(cnt, word)"
   ]
  },
  {
   "cell_type": "code",
   "execution_count": 32,
   "metadata": {},
   "outputs": [
    {
     "name": "stdout",
     "output_type": "stream",
     "text": [
      "    118 James\n",
      "    111 William\n",
      "    108 Robert\n",
      "    108 John\n",
      "     92 Mary\n",
      "     75 Charles\n",
      "     74 Michael\n",
      "     73 Elizabeth\n",
      "     70 Joseph\n",
      "     60 Margaret\n"
     ]
    }
   ],
   "source": [
    "!cat data/popular-names.txt | cut -f 1 | sort | uniq -c | sort -r | head -n 10 "
   ]
  },
  {
   "cell_type": "code",
   "execution_count": null,
   "metadata": {},
   "outputs": [],
   "source": []
  }
 ],
 "metadata": {
  "kernelspec": {
   "display_name": "Python 3",
   "language": "python",
   "name": "python3"
  },
  "language_info": {
   "codemirror_mode": {
    "name": "ipython",
    "version": 3
   },
   "file_extension": ".py",
   "mimetype": "text/x-python",
   "name": "python",
   "nbconvert_exporter": "python",
   "pygments_lexer": "ipython3",
   "version": "3.7.4"
  }
 },
 "nbformat": 4,
 "nbformat_minor": 4
}
