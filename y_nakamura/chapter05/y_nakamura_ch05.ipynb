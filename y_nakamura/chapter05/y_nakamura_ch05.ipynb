{
 "cells": [
  {
   "cell_type": "code",
   "execution_count": 3,
   "metadata": {},
   "outputs": [
    {
     "name": "stdout",
     "output_type": "stream",
     "text": [
      "^C\n"
     ]
    }
   ],
   "source": [
    "!Cabocha -f1 data/neko.txt > work/neko.txt.cabocha"
   ]
  },
  {
   "cell_type": "code",
   "execution_count": 7,
   "metadata": {},
   "outputs": [
    {
     "name": "stdout",
     "output_type": "stream",
     "text": [
      "--2020-07-09 11:07:04--  https://nlp100.github.io/data/ai.ja.zip\n",
      "nlp100.github.io (nlp100.github.io) をDNSに問いあわせています... 185.199.108.153, 185.199.111.153, 185.199.110.153, ...\n",
      "nlp100.github.io (nlp100.github.io)|185.199.108.153|:443 に接続しています... 接続しました。\n",
      "HTTP による接続要求を送信しました、応答を待っています... 200 OK\n",
      "長さ: 17516 (17K) [application/zip]\n",
      "`data/ai.ja.zip.1' に保存中\n",
      "\n",
      "ai.ja.zip.1         100%[===================>]  17.11K  --.-KB/s 時間 0.1s       \n",
      "\n",
      "2020-07-09 11:07:05 (118 KB/s) - `data/ai.ja.zip.1' へ保存完了 [17516/17516]\n",
      "\n"
     ]
    }
   ],
   "source": [
    "!wget https://nlp100.github.io/data/ai.ja.zip -P data/"
   ]
  },
  {
   "cell_type": "code",
   "execution_count": 14,
   "metadata": {},
   "outputs": [
    {
     "name": "stdout",
     "output_type": "stream",
     "text": [
      "Archive:  data/ai.ja.zip\n",
      "  inflating: data/ai.ja.txt          \n",
      "  inflating: data/readme.ai.ja.md    \n"
     ]
    }
   ],
   "source": [
    "!unzip data/ai.ja.zip -d data/"
   ]
  },
  {
   "cell_type": "code",
   "execution_count": null,
   "metadata": {},
   "outputs": [],
   "source": [
    "!pip install ginza"
   ]
  },
  {
   "cell_type": "code",
   "execution_count": null,
   "metadata": {},
   "outputs": [],
   "source": [
    "!pip install spacy"
   ]
  },
  {
   "cell_type": "code",
   "execution_count": 54,
   "metadata": {},
   "outputs": [
    {
     "name": "stdout",
     "output_type": "stream",
     "text": [
      "\u001b[2K\u001b[38;5;2m✔ Loaded compatibility table\u001b[0m\n",
      "\u001b[1m\n",
      "====================== Installed models (spaCy v2.3.1) ======================\u001b[0m\n",
      "\u001b[38;5;4mℹ spaCy installation:\n",
      "/Users/y_nakamura/.pyenv/versions/anaconda3-2019.10/lib/python3.7/site-packages/spacy\u001b[0m\n",
      "\n",
      "No models found in your current environment.\n",
      "\n"
     ]
    }
   ],
   "source": [
    "!python -m spacy validate"
   ]
  },
  {
   "cell_type": "code",
   "execution_count": 59,
   "metadata": {},
   "outputs": [],
   "source": [
    "import spacy\n",
    "nlp = spacy.load('ja_ginza')\n",
    "\n",
    "with open('./data/ai.ja.txt') as in_file:\n",
    "    with open('./data/prepro_ai.ja.txt', mode='w') as out_file:\n",
    "        for line in in_file:\n",
    "            doc = nlp(line.strip())\n",
    "            for sent in doc.sents:\n",
    "                out_file.write(str(sent) + '\\n')"
   ]
  },
  {
   "cell_type": "code",
   "execution_count": 60,
   "metadata": {},
   "outputs": [],
   "source": [
    "!Cabocha -f1 data/prepro_ai.ja.txt > work/ai.ja.txt.cabocha"
   ]
  },
  {
   "cell_type": "markdown",
   "metadata": {},
   "source": [
    "# 40. 係り受け解析結果の読み込み（形態素）"
   ]
  },
  {
   "cell_type": "code",
   "execution_count": 1,
   "metadata": {},
   "outputs": [],
   "source": [
    "class Morph:\n",
    "    def __init__(self, parse_result):\n",
    "        morph = self._txt2morph(parse_result)\n",
    "        self.surface = morph['surface']\n",
    "        self.base = morph['base'] \n",
    "        self.pos = morph['pos'] \n",
    "        self.pos1 = morph['pos1']\n",
    "\n",
    "    def _txt2morph(self, parse_result):\n",
    "        splited_parse_result = parse_result.split('\\t')\n",
    "        splited_parse_result[1] = splited_parse_result[1].split(',')\n",
    "        return {\n",
    "            'surface':splited_parse_result[0],\n",
    "            'base':splited_parse_result[1][6],\n",
    "            'pos':splited_parse_result[1][0],\n",
    "            'pos1':splited_parse_result[1][1]\n",
    "        }\n",
    "    \n",
    "    def get_members_string(self):\n",
    "        return f'surface : {self.surface}\\tbase : {self.base}\\tpos : {self.pos}\\tpos1 : {self.pos1}'"
   ]
  },
  {
   "cell_type": "code",
   "execution_count": 2,
   "metadata": {},
   "outputs": [],
   "source": [
    "def make_morph_sentence():\n",
    "    with open('./work/ai.ja.txt.cabocha', mode = 'r') as f:\n",
    "        sentence = list() \n",
    "        for line in f:\n",
    "            line = line.rstrip()\n",
    "            if line == 'EOS':\n",
    "                if sentence: yield sentence\n",
    "                sentence = list()\n",
    "                continue\n",
    "            if line[0] == '*' and line[1] == ' ': continue\n",
    "            sentence.append(Morph(line))"
   ]
  },
  {
   "cell_type": "code",
   "execution_count": 3,
   "metadata": {},
   "outputs": [],
   "source": [
    "from itertools import islice"
   ]
  },
  {
   "cell_type": "code",
   "execution_count": 4,
   "metadata": {},
   "outputs": [
    {
     "name": "stdout",
     "output_type": "stream",
     "text": [
      "surface : 人工\tbase : 人工\tpos : 名詞\tpos1 : 一般\n",
      "surface : 知能\tbase : 知能\tpos : 名詞\tpos1 : 一般\n",
      "surface : （\tbase : （\tpos : 記号\tpos1 : 括弧開\n",
      "surface : じん\tbase : じん\tpos : 名詞\tpos1 : 一般\n",
      "surface : こうち\tbase : こうち\tpos : 名詞\tpos1 : 一般\n",
      "surface : のう\tbase : のう\tpos : 助詞\tpos1 : 終助詞\n",
      "surface : 、\tbase : 、\tpos : 記号\tpos1 : 読点\n",
      "surface : 、\tbase : 、\tpos : 記号\tpos1 : 読点\n",
      "surface : AI\tbase : *\tpos : 名詞\tpos1 : 一般\n",
      "surface : 〈\tbase : 〈\tpos : 記号\tpos1 : 括弧開\n",
      "surface : エーアイ\tbase : *\tpos : 名詞\tpos1 : 固有名詞\n",
      "surface : 〉\tbase : 〉\tpos : 記号\tpos1 : 括弧閉\n",
      "surface : ）\tbase : ）\tpos : 記号\tpos1 : 括弧閉\n",
      "surface : と\tbase : と\tpos : 助詞\tpos1 : 格助詞\n",
      "surface : は\tbase : は\tpos : 助詞\tpos1 : 係助詞\n",
      "surface : 、\tbase : 、\tpos : 記号\tpos1 : 読点\n",
      "surface : 「\tbase : 「\tpos : 記号\tpos1 : 括弧開\n",
      "surface : 『\tbase : 『\tpos : 記号\tpos1 : 括弧開\n",
      "surface : 計算\tbase : 計算\tpos : 名詞\tpos1 : サ変接続\n",
      "surface : （\tbase : （\tpos : 記号\tpos1 : 括弧開\n",
      "surface : ）\tbase : ）\tpos : 記号\tpos1 : 括弧閉\n",
      "surface : 』\tbase : 』\tpos : 記号\tpos1 : 括弧閉\n",
      "surface : という\tbase : という\tpos : 助詞\tpos1 : 格助詞\n",
      "surface : 概念\tbase : 概念\tpos : 名詞\tpos1 : 一般\n",
      "surface : と\tbase : と\tpos : 助詞\tpos1 : 並立助詞\n",
      "surface : 『\tbase : 『\tpos : 記号\tpos1 : 括弧開\n",
      "surface : コンピュータ\tbase : コンピュータ\tpos : 名詞\tpos1 : 一般\n",
      "surface : （\tbase : （\tpos : 記号\tpos1 : 括弧開\n",
      "surface : ）\tbase : ）\tpos : 記号\tpos1 : 括弧閉\n",
      "surface : 』\tbase : 』\tpos : 記号\tpos1 : 括弧閉\n",
      "surface : という\tbase : という\tpos : 助詞\tpos1 : 格助詞\n",
      "surface : 道具\tbase : 道具\tpos : 名詞\tpos1 : 一般\n",
      "surface : を\tbase : を\tpos : 助詞\tpos1 : 格助詞\n",
      "surface : 用い\tbase : 用いる\tpos : 動詞\tpos1 : 自立\n",
      "surface : て\tbase : て\tpos : 助詞\tpos1 : 接続助詞\n",
      "surface : 『\tbase : 『\tpos : 記号\tpos1 : 括弧開\n",
      "surface : 知能\tbase : 知能\tpos : 名詞\tpos1 : 一般\n",
      "surface : 』\tbase : 』\tpos : 記号\tpos1 : 括弧閉\n",
      "surface : を\tbase : を\tpos : 助詞\tpos1 : 格助詞\n",
      "surface : 研究\tbase : 研究\tpos : 名詞\tpos1 : サ変接続\n",
      "surface : する\tbase : する\tpos : 動詞\tpos1 : 自立\n",
      "surface : 計算\tbase : 計算\tpos : 名詞\tpos1 : サ変接続\n",
      "surface : 機\tbase : 機\tpos : 名詞\tpos1 : 接尾\n",
      "surface : 科学\tbase : 科学\tpos : 名詞\tpos1 : 一般\n",
      "surface : （\tbase : （\tpos : 記号\tpos1 : 括弧開\n",
      "surface : ）\tbase : ）\tpos : 記号\tpos1 : 括弧閉\n",
      "surface : の\tbase : の\tpos : 助詞\tpos1 : 連体化\n",
      "surface : 一\tbase : 一\tpos : 名詞\tpos1 : 数\n",
      "surface : 分野\tbase : 分野\tpos : 名詞\tpos1 : 一般\n",
      "surface : 」\tbase : 」\tpos : 記号\tpos1 : 括弧閉\n",
      "surface : を\tbase : を\tpos : 助詞\tpos1 : 格助詞\n",
      "surface : 指す\tbase : 指す\tpos : 動詞\tpos1 : 自立\n",
      "surface : 語\tbase : 語\tpos : 名詞\tpos1 : 一般\n",
      "surface : 。\tbase : 。\tpos : 記号\tpos1 : 句点\n",
      "\n"
     ]
    }
   ],
   "source": [
    "gen_morph_sentence = make_morph_sentence()\n",
    "for sentence in islice(gen_morph_sentence, 1, 2):\n",
    "    for morph in sentence:\n",
    "        print(morph.get_members_string())\n",
    "    print()"
   ]
  },
  {
   "cell_type": "markdown",
   "metadata": {},
   "source": [
    "# 41. 係り受け解析結果の読み込み（文節・係り受け）"
   ]
  },
  {
   "cell_type": "code",
   "execution_count": 5,
   "metadata": {},
   "outputs": [],
   "source": [
    "from operator import itemgetter\n",
    "from functools import reduce"
   ]
  },
  {
   "cell_type": "code",
   "execution_count": 6,
   "metadata": {},
   "outputs": [],
   "source": [
    "'''\n",
    "Class Chunk\n",
    "文節のクラス\n",
    "---Member---\n",
    "morphs: 形態素のリスト \n",
    "dst: 係り先文節インデックス番号\n",
    "srcs: 係り元文節インデックス番号のリスト\n",
    "'''\n",
    "class Chunk(Morph):\n",
    "    def __init__(self):\n",
    "        self.morphs = list()\n",
    "        self.dst = -1\n",
    "        self.srcs = list()\n",
    "    \n",
    "    def append_morph(self, parse_result):\n",
    "        self.morphs.append(Morph(parse_result))\n",
    "        \n",
    "    def append_srcs(self, src):\n",
    "        self.srcs.append(src)\n",
    "    \n",
    "    def set_dst(self, dst):\n",
    "        self.dst = dst\n",
    "    \n",
    "    def get_members_string(self):\n",
    "        morphs = reduce(lambda a, b: a + '(' + b.get_members_string() + ')\\n', self.morphs, '')\n",
    "        return f'morphs : \\n{morphs}dst : {self.dst}\\tsrcs : {self.srcs}'\n",
    "\n",
    "    def morphs2strip_string(self):\n",
    "        return reduce(lambda a, b: a + (b.surface if b.pos != '記号' else ''), self.morphs, '')\n",
    "    \n",
    "    def morphs2string(self):\n",
    "        return reduce(lambda a, b: a + b.surface, self.morphs, '')\n",
    "    \n",
    "    def check_pos(self, pos):\n",
    "        for morph in self.morphs:\n",
    "            if morph.pos == pos: return True\n",
    "        return False"
   ]
  },
  {
   "cell_type": "code",
   "execution_count": 7,
   "metadata": {},
   "outputs": [],
   "source": [
    "def make_chunk_sentence():\n",
    "    with open('./work/ai.ja.txt.cabocha', mode = 'r') as f:\n",
    "        chunk_dict = dict()\n",
    "        for line in f:\n",
    "            line = line.rstrip()\n",
    "            if line == 'EOS':\n",
    "                sentence = [x[1] for x in sorted(chunk_dict.items(), key = itemgetter(0))]\n",
    "                if sentence: yield sentence\n",
    "                chunk_dict = dict()\n",
    "                continue\n",
    "            if line[0] == '*' and line[1] == ' ':\n",
    "                splited_line = line.split()\n",
    "                idx = int(splited_line[1])\n",
    "                dst = int(splited_line[2][:-1])\n",
    "                if not idx in chunk_dict: chunk_dict[idx] = Chunk()\n",
    "                chunk_dict[idx].set_dst(dst)\n",
    "                if dst != -1 and not dst in chunk_dict: chunk_dict[dst] = Chunk()\n",
    "                if dst != -1: chunk_dict[dst].append_srcs(idx)\n",
    "            else:\n",
    "                chunk_dict[idx].append_morph(line)"
   ]
  },
  {
   "cell_type": "code",
   "execution_count": 8,
   "metadata": {},
   "outputs": [
    {
     "name": "stdout",
     "output_type": "stream",
     "text": [
      "morphs : \n",
      "(surface : 人工\tbase : 人工\tpos : 名詞\tpos1 : 一般)\n",
      "(surface : 知能\tbase : 知能\tpos : 名詞\tpos1 : 一般)\n",
      "dst : 17\tsrcs : []\n",
      "morphs : \n",
      "(surface : （\tbase : （\tpos : 記号\tpos1 : 括弧開)\n",
      "(surface : じん\tbase : じん\tpos : 名詞\tpos1 : 一般)\n",
      "(surface : こうち\tbase : こうち\tpos : 名詞\tpos1 : 一般)\n",
      "(surface : のう\tbase : のう\tpos : 助詞\tpos1 : 終助詞)\n",
      "(surface : 、\tbase : 、\tpos : 記号\tpos1 : 読点)\n",
      "(surface : 、\tbase : 、\tpos : 記号\tpos1 : 読点)\n",
      "dst : 17\tsrcs : []\n",
      "morphs : \n",
      "(surface : AI\tbase : *\tpos : 名詞\tpos1 : 一般)\n",
      "dst : 3\tsrcs : []\n",
      "morphs : \n",
      "(surface : 〈\tbase : 〈\tpos : 記号\tpos1 : 括弧開)\n",
      "(surface : エーアイ\tbase : *\tpos : 名詞\tpos1 : 固有名詞)\n",
      "(surface : 〉\tbase : 〉\tpos : 記号\tpos1 : 括弧閉)\n",
      "(surface : ）\tbase : ）\tpos : 記号\tpos1 : 括弧閉)\n",
      "(surface : と\tbase : と\tpos : 助詞\tpos1 : 格助詞)\n",
      "(surface : は\tbase : は\tpos : 助詞\tpos1 : 係助詞)\n",
      "(surface : 、\tbase : 、\tpos : 記号\tpos1 : 読点)\n",
      "dst : 17\tsrcs : [2]\n",
      "morphs : \n",
      "(surface : 「\tbase : 「\tpos : 記号\tpos1 : 括弧開)\n",
      "(surface : 『\tbase : 『\tpos : 記号\tpos1 : 括弧開)\n",
      "(surface : 計算\tbase : 計算\tpos : 名詞\tpos1 : サ変接続)\n",
      "dst : 5\tsrcs : []\n",
      "morphs : \n",
      "(surface : （\tbase : （\tpos : 記号\tpos1 : 括弧開)\n",
      "(surface : ）\tbase : ）\tpos : 記号\tpos1 : 括弧閉)\n",
      "(surface : 』\tbase : 』\tpos : 記号\tpos1 : 括弧閉)\n",
      "(surface : という\tbase : という\tpos : 助詞\tpos1 : 格助詞)\n",
      "dst : 9\tsrcs : [4]\n",
      "morphs : \n",
      "(surface : 概念\tbase : 概念\tpos : 名詞\tpos1 : 一般)\n",
      "(surface : と\tbase : と\tpos : 助詞\tpos1 : 並立助詞)\n",
      "dst : 9\tsrcs : []\n",
      "morphs : \n",
      "(surface : 『\tbase : 『\tpos : 記号\tpos1 : 括弧開)\n",
      "(surface : コンピュータ\tbase : コンピュータ\tpos : 名詞\tpos1 : 一般)\n",
      "dst : 8\tsrcs : []\n",
      "morphs : \n",
      "(surface : （\tbase : （\tpos : 記号\tpos1 : 括弧開)\n",
      "(surface : ）\tbase : ）\tpos : 記号\tpos1 : 括弧閉)\n",
      "(surface : 』\tbase : 』\tpos : 記号\tpos1 : 括弧閉)\n",
      "(surface : という\tbase : という\tpos : 助詞\tpos1 : 格助詞)\n",
      "dst : 9\tsrcs : [7]\n",
      "morphs : \n",
      "(surface : 道具\tbase : 道具\tpos : 名詞\tpos1 : 一般)\n",
      "(surface : を\tbase : を\tpos : 助詞\tpos1 : 格助詞)\n",
      "dst : 10\tsrcs : [5, 6, 8]\n",
      "morphs : \n",
      "(surface : 用い\tbase : 用いる\tpos : 動詞\tpos1 : 自立)\n",
      "(surface : て\tbase : て\tpos : 助詞\tpos1 : 接続助詞)\n",
      "dst : 12\tsrcs : [9]\n",
      "morphs : \n",
      "(surface : 『\tbase : 『\tpos : 記号\tpos1 : 括弧開)\n",
      "(surface : 知能\tbase : 知能\tpos : 名詞\tpos1 : 一般)\n",
      "(surface : 』\tbase : 』\tpos : 記号\tpos1 : 括弧閉)\n",
      "(surface : を\tbase : を\tpos : 助詞\tpos1 : 格助詞)\n",
      "dst : 12\tsrcs : []\n",
      "morphs : \n",
      "(surface : 研究\tbase : 研究\tpos : 名詞\tpos1 : サ変接続)\n",
      "(surface : する\tbase : する\tpos : 動詞\tpos1 : 自立)\n",
      "dst : 13\tsrcs : [10, 11]\n",
      "morphs : \n",
      "(surface : 計算\tbase : 計算\tpos : 名詞\tpos1 : サ変接続)\n",
      "(surface : 機\tbase : 機\tpos : 名詞\tpos1 : 接尾)\n",
      "(surface : 科学\tbase : 科学\tpos : 名詞\tpos1 : 一般)\n",
      "dst : 14\tsrcs : [12]\n",
      "morphs : \n",
      "(surface : （\tbase : （\tpos : 記号\tpos1 : 括弧開)\n",
      "(surface : ）\tbase : ）\tpos : 記号\tpos1 : 括弧閉)\n",
      "(surface : の\tbase : の\tpos : 助詞\tpos1 : 連体化)\n",
      "dst : 15\tsrcs : [13]\n",
      "morphs : \n",
      "(surface : 一\tbase : 一\tpos : 名詞\tpos1 : 数)\n",
      "(surface : 分野\tbase : 分野\tpos : 名詞\tpos1 : 一般)\n",
      "(surface : 」\tbase : 」\tpos : 記号\tpos1 : 括弧閉)\n",
      "(surface : を\tbase : を\tpos : 助詞\tpos1 : 格助詞)\n",
      "dst : 16\tsrcs : [14]\n",
      "morphs : \n",
      "(surface : 指す\tbase : 指す\tpos : 動詞\tpos1 : 自立)\n",
      "dst : 17\tsrcs : [15]\n",
      "morphs : \n",
      "(surface : 語\tbase : 語\tpos : 名詞\tpos1 : 一般)\n",
      "(surface : 。\tbase : 。\tpos : 記号\tpos1 : 句点)\n",
      "dst : -1\tsrcs : [0, 1, 3, 16]\n",
      "\n"
     ]
    }
   ],
   "source": [
    "gen_chunk_sentence = make_chunk_sentence()\n",
    "for sentence in islice(gen_chunk_sentence, 1, 2):\n",
    "    for chunk in sentence:\n",
    "        print(chunk.get_members_string())\n",
    "    print()"
   ]
  },
  {
   "cell_type": "markdown",
   "metadata": {},
   "source": [
    "# 42. 係り元と係り先の文節の表示"
   ]
  },
  {
   "cell_type": "code",
   "execution_count": 9,
   "metadata": {},
   "outputs": [
    {
     "name": "stdout",
     "output_type": "stream",
     "text": [
      "人工知能\t語\n",
      "じんこうちのう\t語\n",
      "AI\tエーアイとは\n",
      "エーアイとは\t語\n",
      "計算\tという\n",
      "という\t道具を\n",
      "概念と\t道具を\n",
      "コンピュータ\tという\n",
      "という\t道具を\n",
      "道具を\t用いて\n",
      "用いて\t研究する\n",
      "知能を\t研究する\n",
      "研究する\t計算機科学\n",
      "計算機科学\tの\n",
      "の\t一分野を\n",
      "一分野を\t指す\n",
      "指す\t語\n",
      "\n"
     ]
    }
   ],
   "source": [
    "gen_sentence = make_chunk_sentence()\n",
    "for sentence in islice(gen_sentence, 1, 2):\n",
    "    for chunk in sentence:\n",
    "        if chunk.dst != -1: print(f'{chunk.morphs2strip_string()}\\t{sentence[chunk.dst].morphs2strip_string()}')\n",
    "    print()"
   ]
  },
  {
   "cell_type": "markdown",
   "metadata": {},
   "source": [
    "# 43. 名詞を含む文節が動詞を含む文節に係るものを抽出"
   ]
  },
  {
   "cell_type": "code",
   "execution_count": 10,
   "metadata": {},
   "outputs": [],
   "source": [
    "noun_to_verb = list()\n",
    "for sentence in make_chunk_sentence():\n",
    "    for chunk in sentence:\n",
    "        if chunk.dst == -1: continue\n",
    "        if chunk.check_pos('名詞') and sentence[chunk.dst].check_pos('動詞'):\n",
    "            noun_to_verb.append((chunk.morphs2strip_string(), sentence[chunk.dst].morphs2strip_string()))"
   ]
  },
  {
   "cell_type": "code",
   "execution_count": 11,
   "metadata": {},
   "outputs": [
    {
     "name": "stdout",
     "output_type": "stream",
     "text": [
      "道具を\t用いて\n",
      "知能を\t研究する\n",
      "一分野を\t指す\n",
      "知的行動を\t代わって\n",
      "人間に\t代わって\n",
      "コンピューターに\t行わせる\n",
      "研究分野とも\tされる\n",
      "解説で\t述べている\n",
      "佐藤理史は\t述べている\n",
      "次のように\t述べている\n"
     ]
    }
   ],
   "source": [
    "for idx in range(10):\n",
    "    print('\\t'.join(noun_to_verb[idx]))"
   ]
  },
  {
   "cell_type": "markdown",
   "metadata": {},
   "source": [
    "# 44. 係り受け木の可視化"
   ]
  },
  {
   "cell_type": "code",
   "execution_count": 12,
   "metadata": {},
   "outputs": [],
   "source": [
    "import pydot\n",
    "from IPython.display import Image, display"
   ]
  },
  {
   "cell_type": "code",
   "execution_count": 13,
   "metadata": {},
   "outputs": [],
   "source": [
    "graph = pydot.Dot(graph_type = 'digraph')\n",
    "for sentence in islice(make_chunk_sentence(), 1, 2):\n",
    "    for idx, chunk in enumerate(sentence):\n",
    "        if chunk.dst == -1: continue\n",
    "        id1 = idx\n",
    "        id2 = chunk.dst\n",
    "        label1 = chunk.morphs2strip_string()\n",
    "        label2 = sentence[id2].morphs2strip_string()\n",
    "        graph.add_node(pydot.Node(id1, label=label1))\n",
    "        graph.add_node(pydot.Node(id2, label=label2))\n",
    "        graph.add_edge(pydot.Edge(id1, id2))"
   ]
  },
  {
   "cell_type": "code",
   "execution_count": 14,
   "metadata": {},
   "outputs": [
    {
     "data": {
      "image/png": "[encoded data removed]",
      "text/plain": [
       "<IPython.core.display.Image object>"
      ]
     },
     "metadata": {},
     "output_type": "display_data"
    }
   ],
   "source": [
    "plt = Image(graph.create_png())\n",
    "display(plt)"
   ]
  },
  {
   "cell_type": "markdown",
   "metadata": {},
   "source": [
    "# 45. 動詞の格パターンの抽出"
   ]
  },
  {
   "cell_type": "code",
   "execution_count": 15,
   "metadata": {},
   "outputs": [],
   "source": [
    "with open('./work/case_info.txt', mode = 'w') as out_file:\n",
    "    for sentence in make_chunk_sentence():\n",
    "        for chunk in sentence:\n",
    "            verb = ''\n",
    "            for morph in chunk.morphs:\n",
    "                if morph.pos == '動詞':\n",
    "                    verb = morph.base\n",
    "                    break\n",
    "            if verb:\n",
    "                particle_list = list()\n",
    "                for src in chunk.srcs:\n",
    "                    src_chunk = sentence[src]\n",
    "                    \n",
    "                    #TODO:動詞に係る助詞を全て抽出に変更する\n",
    "                    if src_chunk.morphs[-1].pos == '記号' and len(src_chunk.morphs) > 1: morph = src_chunk.morphs[-2]\n",
    "                    else: morph = src_chunk.morphs[-1]\n",
    "                        \n",
    "                    if morph.pos == '助詞':\n",
    "                        particle_list.append(morph.base)\n",
    "                if particle_list:\n",
    "                    out_file.write(verb + '\\t' + ' '.join(sorted(particle_list)) + '\\n')"
   ]
  },
  {
   "cell_type": "markdown",
   "metadata": {},
   "source": [
    "一文節内に複数の助詞がある場合どうすんnen(文節の最後に助詞が来ているもののみを抽出)"
   ]
  },
  {
   "cell_type": "code",
   "execution_count": 16,
   "metadata": {},
   "outputs": [
    {
     "name": "stdout",
     "output_type": "stream",
     "text": [
      "     54 する\tを\n",
      "     19 する\tと\n",
      "     18 する\tが\n",
      "     16 する\tに\n",
      "     12 する\tは を\n",
      "     11 よる\tに\n",
      "     10 する\tに を\n",
      "      9 する\tと は\n",
      "      9 する\tで を\n",
      "      8 行う\tを\n"
     ]
    }
   ],
   "source": [
    "!cat ./work/case_info.txt | sort | uniq -c | sort -r | head -n 10 "
   ]
  },
  {
   "cell_type": "code",
   "execution_count": 17,
   "metadata": {},
   "outputs": [
    {
     "name": "stdout",
     "output_type": "stream",
     "text": [
      "      8 行う\tを\n",
      "      4 なる\tに は\n",
      "      3 なる\tが と\n",
      "      2 行う\tは を\n",
      "      2 与える\tが に\n",
      "      2 なる\tは も\n",
      "      2 なる\tに\n",
      "      2 なる\tと\n",
      "      1 行う\tは を をめぐって\n",
      "      1 行う\tは は は\n",
      "      1 行う\tに を を\n",
      "      1 行う\tに まで を\n",
      "      1 行う\tに により を\n",
      "      1 行う\tに\n",
      "      1 行う\tで を\n",
      "      1 行う\tで は まで を\n",
      "      1 行う\tで に を\n",
      "      1 行う\tて に を\n",
      "      1 行う\tて に\n",
      "      1 行う\tが は\n",
      "      1 行う\tが に は\n",
      "      1 行う\tが で は\n",
      "      1 行う\tから\n",
      "      1 与える\tに は を\n",
      "      1 なる\tは は\n",
      "      1 なる\tとして に は\n",
      "      1 なる\tと など は\n",
      "      1 なる\tで は\n",
      "      1 なる\tで に は\n",
      "      1 なる\tが にとって は\n",
      "      1 なる\tが に は\n",
      "      1 なる\tが に\n",
      "      1 なる\tが で と に は は\n",
      "      1 なる\tが が と\n",
      "      1 なる\tから で と\n",
      "      1 なる\tから が て と は ば\n"
     ]
    }
   ],
   "source": [
    "!grep -E \"^行う|^なる|^与える\" ./work/case_info.txt | sort | uniq -c | sort -r "
   ]
  },
  {
   "cell_type": "code",
   "execution_count": 18,
   "metadata": {},
   "outputs": [
    {
     "name": "stdout",
     "output_type": "stream",
     "text": [
      "      8 行う\tを\n",
      "      4 なる\tに は\n",
      "      3 なる\tが と\n",
      "      2 行う\tは を\n",
      "      2 与える\tが に\n",
      "      2 なる\tは も\n",
      "      2 なる\tに\n",
      "      2 なる\tと\n",
      "      1 行う\tは を をめぐって\n",
      "      1 行う\tは は は\n",
      "      1 行う\tに を を\n",
      "      1 行う\tに まで を\n",
      "      1 行う\tに により を\n",
      "      1 行う\tに\n",
      "      1 行う\tで を\n",
      "      1 行う\tで は まで を\n",
      "      1 行う\tで に を\n",
      "      1 行う\tて に を\n",
      "      1 行う\tて に\n",
      "      1 行う\tが は\n",
      "      1 行う\tが に は\n",
      "      1 行う\tが で は\n",
      "      1 行う\tから\n",
      "      1 与える\tに は を\n",
      "      1 なる\tは は\n",
      "      1 なる\tとして に は\n",
      "      1 なる\tと など は\n",
      "      1 なる\tで は\n",
      "      1 なる\tで に は\n",
      "      1 なる\tが にとって は\n",
      "      1 なる\tが に は\n",
      "      1 なる\tが に\n",
      "      1 なる\tが で と に は は\n",
      "      1 なる\tが が と\n",
      "      1 なる\tから で と\n",
      "      1 なる\tから が て と は ば\n"
     ]
    }
   ],
   "source": [
    "!awk '{if(match($1, \"^行う|^なる|^与える\")){print $0}}' ./work/case_info.txt | sort | uniq -c | sort -r "
   ]
  },
  {
   "cell_type": "markdown",
   "metadata": {},
   "source": [
    "# 46. 動詞の格フレーム情報の抽出"
   ]
  },
  {
   "cell_type": "code",
   "execution_count": 19,
   "metadata": {},
   "outputs": [],
   "source": [
    "with open('./work/case_frame_info.txt', mode='w') as out_file:\n",
    "    for sentence in make_chunk_sentence():\n",
    "        for chunk in sentence:\n",
    "            verb = ''\n",
    "            for morph in chunk.morphs:\n",
    "                if morph.pos == '動詞':\n",
    "                    verb = morph.base\n",
    "                    break\n",
    "            if verb:\n",
    "                particle_clause_list = list()\n",
    "                for src in chunk.srcs:\n",
    "                    src_chunk = sentence[src]\n",
    "                    \n",
    "                    #記号を除いた後の末尾が助詞の場合\n",
    "                    morph = None \n",
    "                    for src_morph in src_chunk.morphs[::-1]:\n",
    "                        if src_morph.pos == '記号':\n",
    "                            continue\n",
    "                        else:\n",
    "                            if src_morph.pos == '助詞':\n",
    "                                morph = src_morph\n",
    "                            else:\n",
    "                                break\n",
    "                        \n",
    "                    if morph and morph.pos == '助詞':\n",
    "                        particle_clause_list.append((morph.base, sentence[src].morphs2string()))\n",
    "                        \n",
    "                sorted_particle_clause_list = sorted(particle_clause_list)\n",
    "                particle_list = [x[0] for x in sorted_particle_clause_list]\n",
    "                clause_list = [x[1] for x in sorted_particle_clause_list] \n",
    "                out_file.write(verb + '\\t' + ' '.join(particle_list) + '\\t' + ' '.join(clause_list) + '\\n')"
   ]
  },
  {
   "cell_type": "code",
   "execution_count": 20,
   "metadata": {},
   "outputs": [
    {
     "name": "stdout",
     "output_type": "stream",
     "text": [
      "用いる\tを\t道具を\n",
      "する\tて を\t用いて 『知能』を\n",
      "指す\tを\t一分野」を\n",
      "代わる\tに を\t人間に 知的行動を\n",
      "行う\tて に\t代わって コンピューターに\n",
      "する\tと\t研究分野」とも\n",
      "述べる\tで に は\t解説で、 次のように 佐藤理史は\n",
      "する\tで を\tコンピュータ上で 知的能力を\n",
      "する\tを\t推論・判断を\n",
      "する\tを\t画像データを\n"
     ]
    }
   ],
   "source": [
    "!cat work/case_frame_info.txt | head"
   ]
  },
  {
   "cell_type": "markdown",
   "metadata": {},
   "source": [
    "助詞でソート"
   ]
  },
  {
   "cell_type": "markdown",
   "metadata": {},
   "source": [
    "# 47. 機能動詞構文のマイニング"
   ]
  },
  {
   "cell_type": "code",
   "execution_count": 21,
   "metadata": {},
   "outputs": [],
   "source": [
    "with open('./work/case_frame_util_info.txt', mode='w') as out_file:\n",
    "    for sentence in make_chunk_sentence():\n",
    "        for idx, chunk in enumerate(sentence):\n",
    "            \n",
    "            #ここ直すかも\n",
    "            if len(chunk.morphs) == 2:\n",
    "                morphs = chunk.morphs \n",
    "                if morphs[0].pos == '名詞' and morphs[0].pos1 == 'サ変接続' and morphs[1].surface == 'を' and morphs[1].pos == '助詞':\n",
    "                    if chunk.dst != -1 and sentence[chunk.dst].check_pos('動詞'): #係り先に動詞が含まれる\n",
    "                        verb = ''\n",
    "                        for morph in sentence[chunk.dst].morphs: #最左の動詞\n",
    "                            if morph.pos == '動詞':\n",
    "                                verb = morph.base\n",
    "                                break\n",
    "            \n",
    "            \n",
    "                        particle_clause_list = list()\n",
    "                        for src in sentence[chunk.dst].srcs:\n",
    "                            if src == idx: continue\n",
    "                            src_chunk = sentence[src]\n",
    "                            \n",
    "                            #記号を除いた後の末尾が助詞の場合\n",
    "                            morph = None \n",
    "                            for src_morph in src_chunk.morphs[::-1]:\n",
    "                                if src_morph.pos == '記号':\n",
    "                                    continue\n",
    "                                else:\n",
    "                                    if src_morph.pos == '助詞':\n",
    "                                        morph = src_morph\n",
    "                                    else:\n",
    "                                        break\n",
    "                                \n",
    "                            if morph and morph.pos == '助詞':\n",
    "                                particle_clause_list.append((morph.base, sentence[src].morphs2string()))\n",
    "                        sorted_particle_clause_list = sorted(particle_clause_list)\n",
    "                        particle_list = [x[0] for x in sorted_particle_clause_list]\n",
    "                        clause_list = [x[1] for x in sorted_particle_clause_list] \n",
    "                        out_file.write(chunk.morphs2string() + verb + '\\t' + ' '.join(particle_list) + '\\t' + ' '.join(clause_list) + '\\n')"
   ]
  },
  {
   "cell_type": "code",
   "execution_count": 22,
   "metadata": {},
   "outputs": [
    {
     "name": "stdout",
     "output_type": "stream",
     "text": [
      "記述をする\tと\t主体と\n",
      "注目を集める\tが\t「サポートベクターマシン」が\n",
      "経験を行う\tに を\t元に 学習を\n",
      "学習を行う\tに を\t元に 経験を\n",
      "流行を超える\t\t\n",
      "学習を繰り返す\t\t\n",
      "進化を見せる\tて において は\t加えて、 生成技術において （敵対的生成ネットワーク）は、\n",
      "開発を行う\tは\tエイダ・ラブレスは\n",
      "テストをする\t\t\n",
      "処理を行う\t\t\n",
      "意味をする\tに\tデータに\n",
      "研究を進める\tて\t費やして\n",
      "命令をする\tで\t機構で\n",
      "運転をする\tに\t元に\n",
      "特許をする\tが まで\t日本が 2018年までに\n",
      "研究をする\t\t\n",
      "運転をする\tて に\t基づいて、 柔軟に\n",
      "注目を集める\tから は\tことから、 ファジィは\n",
      "成功を受ける\t\t\n",
      "制御をする\tから\t少なさから、\n",
      "進歩を担う\t\t\n",
      "研究を続ける\tが て\tジェフ・ホーキンスが、 向けて\n",
      "注目を集める\tに\t急速に\n",
      "普及を受ける\t\t\n",
      "投資を行う\tで に\t民間企業主導で 全世界的に\n",
      "探索を行う\tで\t無報酬で\n",
      "推論をする\tて\t経て\n",
      "研究を行う\tは\tGoogleは、\n",
      "実験をする\t\t\n",
      "投資をする\tは まで\t韓国は、 2022年までに\n",
      "反乱を起こす\tて に対して\t於いて、 人間に対して\n",
      "弾圧を併せ持つ\t\t\n",
      "監視を行う\tに まで\t人工知能に 歩行者まで\n",
      "差別を認める\t\t\n",
      "研究をする\t\t\n",
      "展開を変える\t\t\n",
      "戦争をする\t\t\n",
      "判断を介す\tから\t観点から\n",
      "禁止を求める\tが に\tヒューマン・ライツ・ウォッチが、 4月には\n",
      "運用をめぐる\t\t\n",
      "記録をする\t\t\n",
      "試験を行う\t\t\n",
      "追及を受ける\tで で と とともに\t公聴会では、 整合性で 拒否すると 「」とともに、\n",
      "解任をする\tは\tGoogle社員らは\n",
      "解散をする\tが で は\t倫理委員会が 理由で、 Googleは\n",
      "実現をする\t\t\n",
      "話をする\tは ば\t哲学者は よれば、\n",
      "勘違いをする\t\t\n",
      "議論を行う\tで は まで\t対談で 須藤は 「これまで\n"
     ]
    }
   ],
   "source": [
    "!cat ./work/case_frame_util_info.txt"
   ]
  },
  {
   "cell_type": "code",
   "execution_count": 23,
   "metadata": {},
   "outputs": [
    {
     "name": "stdout",
     "output_type": "stream",
     "text": [
      "      3 注目を集める\n",
      "      2 運転をする\n",
      "      2 研究をする\n",
      "      1 開発を行う\n",
      "      1 運用をめぐる\n",
      "      1 進歩を担う\n",
      "      1 進化を見せる\n",
      "      1 追及を受ける\n",
      "      1 議論を行う\n",
      "      1 話をする\n"
     ]
    }
   ],
   "source": [
    "!cat ./work/case_frame_util_info.txt | cut -f 1 | sort | uniq -c | sort -r | head -n 10 "
   ]
  },
  {
   "cell_type": "code",
   "execution_count": 24,
   "metadata": {},
   "outputs": [
    {
     "name": "stdout",
     "output_type": "stream",
     "text": [
      "      2 研究をする\t\n",
      "      1 開発を行う\tは\n",
      "      1 運転をする\tに\n",
      "      1 運転をする\tて に\n",
      "      1 運用をめぐる\t\n",
      "      1 進歩を担う\t\n",
      "      1 進化を見せる\tて において は\n",
      "      1 追及を受ける\tで で と とともに\n",
      "      1 議論を行う\tで は まで\n",
      "      1 話をする\tは ば\n"
     ]
    }
   ],
   "source": [
    "!cat ./work/case_frame_util_info.txt | cut -f1,2 | sort | uniq -c | sort -r | head -n 10 "
   ]
  },
  {
   "cell_type": "markdown",
   "metadata": {},
   "source": [
    "# 48. 名詞から根へのパスの抽出"
   ]
  },
  {
   "cell_type": "code",
   "execution_count": 25,
   "metadata": {},
   "outputs": [],
   "source": [
    "def rec(chunk, sentence, noun_path_idx):\n",
    "    noun_path_idx.append(chunk.dst)\n",
    "    if chunk.dst == -1: return\n",
    "    rec(sentence[chunk.dst], sentence, noun_path_idx)\n",
    "\n",
    "    \n",
    "def noun_path_idx2noun_path(noun_path_idx, sentence):\n",
    "    return [sentence[idx].morphs2string() for idx in noun_path_idx if idx != -1]"
   ]
  },
  {
   "cell_type": "code",
   "execution_count": 26,
   "metadata": {},
   "outputs": [],
   "source": [
    "noun_path_list = list()\n",
    "for sentence in islice(make_chunk_sentence(), 100):\n",
    "    for idx, chunk in enumerate(sentence):\n",
    "        if chunk.check_pos('名詞'):\n",
    "            noun_path_idx = [idx]\n",
    "            rec(chunk, sentence, noun_path_idx)\n",
    "            noun_path_list.append(noun_path_idx2noun_path(noun_path_idx, sentence))"
   ]
  },
  {
   "cell_type": "code",
   "execution_count": 43,
   "metadata": {},
   "outputs": [
    {
     "name": "stdout",
     "output_type": "stream",
     "text": [
      "人工知能\n",
      "人工知能 -> 語。\n",
      "（じんこうちのう、、 -> 語。\n",
      "AI -> 〈エーアイ〉）とは、 -> 語。\n",
      "〈エーアイ〉）とは、 -> 語。\n",
      "「『計算 -> （）』という -> 道具を -> 用いて -> 研究する -> 計算機科学 -> （）の -> 一分野」を -> 指す -> 語。\n",
      "概念と -> 道具を -> 用いて -> 研究する -> 計算機科学 -> （）の -> 一分野」を -> 指す -> 語。\n",
      "『コンピュータ -> （）』という -> 道具を -> 用いて -> 研究する -> 計算機科学 -> （）の -> 一分野」を -> 指す -> 語。\n",
      "道具を -> 用いて -> 研究する -> 計算機科学 -> （）の -> 一分野」を -> 指す -> 語。\n",
      "『知能』を -> 研究する -> 計算機科学 -> （）の -> 一分野」を -> 指す -> 語。\n"
     ]
    }
   ],
   "source": [
    "for idx in range(10):\n",
    "    noun_path = noun_path_list[idx]\n",
    "    print(' -> '.join(noun_path))"
   ]
  },
  {
   "cell_type": "markdown",
   "metadata": {},
   "source": [
    "# 49. 名詞間の係り受けパスの抽出"
   ]
  },
  {
   "cell_type": "code",
   "execution_count": 40,
   "metadata": {},
   "outputs": [],
   "source": [
    "def mask(chunk, mask_char):\n",
    "    masked_string = ''\n",
    "    noun_continue = False\n",
    "    masked = False\n",
    "    for morph in chunk.morphs:\n",
    "        if morph.pos == '名詞':\n",
    "            #名詞句はまとめてマスク\n",
    "            if not masked:\n",
    "                masked_string += mask_char\n",
    "                masked = True\n",
    "                noun_continue = True\n",
    "            else:\n",
    "                if noun_continue: continue\n",
    "                else: masked_string += morph.surface\n",
    "        else:\n",
    "            noun_continue = False\n",
    "            masked_string += morph.surface\n",
    "    return masked_string"
   ]
  },
  {
   "cell_type": "code",
   "execution_count": 41,
   "metadata": {},
   "outputs": [],
   "source": [
    "noun_to_noun_path_list = list()\n",
    "for sentence in make_chunk_sentence():\n",
    "    for x_idx, x_chunk in enumerate(sentence):\n",
    "        if not x_chunk.check_pos('名詞'): continue\n",
    "        for y_idx, y_chunk in enumerate(sentence[x_idx + 1:]):\n",
    "            y_idx += x_idx + 1\n",
    "            if not y_chunk.check_pos('名詞'): continue\n",
    "            x_noun_path_idx = [x_idx]\n",
    "            rec(x_chunk, sentence, x_noun_path_idx)\n",
    "            y_noun_path_idx = [y_idx]\n",
    "            rec(y_chunk, sentence, y_noun_path_idx)\n",
    "            while x_noun_path_idx and y_noun_path_idx and x_noun_path_idx[-1] == y_noun_path_idx[-1]:\n",
    "                x_noun = x_noun_path_idx.pop(-1)\n",
    "                y_noun = y_noun_path_idx.pop(-1)\n",
    "            if y_noun_path_idx:\n",
    "                out_str = ''\n",
    "                x_noun_path = noun_path_idx2noun_path(x_noun_path_idx, sentence)\n",
    "                x_noun_path[0] = mask(x_chunk, 'X')\n",
    "                out_str += ' -> '.join(x_noun_path) + ' | '\n",
    "                y_noun_path = noun_path_idx2noun_path(y_noun_path_idx, sentence)\n",
    "                y_noun_path[0] = mask(y_chunk, 'Y')\n",
    "                out_str += ' -> '.join(y_noun_path) + ' | '\n",
    "                out_str += sentence[x_noun].morphs2string()\n",
    "                noun_to_noun_path_list.append(out_str)\n",
    "            else:\n",
    "                out_str = ''\n",
    "                x_noun_path = noun_path_idx2noun_path(x_noun_path_idx, sentence)\n",
    "                x_noun_path[0] = mask(x_chunk, 'X')\n",
    "                x_noun_path.append(mask(y_chunk, 'Y'))\n",
    "                out_str += ' -> '.join(x_noun_path)\n",
    "                noun_to_noun_path_list.append(out_str)"
   ]
  },
  {
   "cell_type": "code",
   "execution_count": 42,
   "metadata": {},
   "outputs": [
    {
     "name": "stdout",
     "output_type": "stream",
     "text": [
      "X | （Yのう、、 | 語。\n",
      "X | Y -> 〈エーアイ〉）とは、 | 語。\n",
      "X | 〈Y〉）とは、 | 語。\n",
      "X | 「『Y -> （）』という -> 道具を -> 用いて -> 研究する -> 計算機科学 -> （）の -> 一分野」を -> 指す | 語。\n",
      "X | Yと -> 道具を -> 用いて -> 研究する -> 計算機科学 -> （）の -> 一分野」を -> 指す | 語。\n",
      "X | 『Y -> （）』という -> 道具を -> 用いて -> 研究する -> 計算機科学 -> （）の -> 一分野」を -> 指す | 語。\n",
      "X | Yを -> 用いて -> 研究する -> 計算機科学 -> （）の -> 一分野」を -> 指す | 語。\n",
      "X | 『Y』を -> 研究する -> 計算機科学 -> （）の -> 一分野」を -> 指す | 語。\n",
      "X | Yする -> 計算機科学 -> （）の -> 一分野」を -> 指す | 語。\n",
      "X | Y -> （）の -> 一分野」を -> 指す | 語。\n",
      "X | Y」を -> 指す | 語。\n",
      "X -> Y。\n",
      "（Xのう、、 | Y -> 〈エーアイ〉）とは、 | 語。\n",
      "（Xのう、、 | 〈Y〉）とは、 | 語。\n",
      "（Xのう、、 | 「『Y -> （）』という -> 道具を -> 用いて -> 研究する -> 計算機科学 -> （）の -> 一分野」を -> 指す | 語。\n",
      "（Xのう、、 | Yと -> 道具を -> 用いて -> 研究する -> 計算機科学 -> （）の -> 一分野」を -> 指す | 語。\n",
      "（Xのう、、 | 『Y -> （）』という -> 道具を -> 用いて -> 研究する -> 計算機科学 -> （）の -> 一分野」を -> 指す | 語。\n",
      "（Xのう、、 | Yを -> 用いて -> 研究する -> 計算機科学 -> （）の -> 一分野」を -> 指す | 語。\n",
      "（Xのう、、 | 『Y』を -> 研究する -> 計算機科学 -> （）の -> 一分野」を -> 指す | 語。\n",
      "（Xのう、、 | Yする -> 計算機科学 -> （）の -> 一分野」を -> 指す | 語。\n",
      "（Xのう、、 | Y -> （）の -> 一分野」を -> 指す | 語。\n",
      "（Xのう、、 | Y」を -> 指す | 語。\n",
      "（Xのう、、 -> Y。\n",
      "X -> 〈Y〉）とは、\n",
      "X -> 〈エーアイ〉）とは、 | 「『Y -> （）』という -> 道具を -> 用いて -> 研究する -> 計算機科学 -> （）の -> 一分野」を -> 指す | 語。\n",
      "X -> 〈エーアイ〉）とは、 | Yと -> 道具を -> 用いて -> 研究する -> 計算機科学 -> （）の -> 一分野」を -> 指す | 語。\n",
      "X -> 〈エーアイ〉）とは、 | 『Y -> （）』という -> 道具を -> 用いて -> 研究する -> 計算機科学 -> （）の -> 一分野」を -> 指す | 語。\n",
      "X -> 〈エーアイ〉）とは、 | Yを -> 用いて -> 研究する -> 計算機科学 -> （）の -> 一分野」を -> 指す | 語。\n",
      "X -> 〈エーアイ〉）とは、 | 『Y』を -> 研究する -> 計算機科学 -> （）の -> 一分野」を -> 指す | 語。\n",
      "X -> 〈エーアイ〉）とは、 | Yする -> 計算機科学 -> （）の -> 一分野」を -> 指す | 語。\n"
     ]
    }
   ],
   "source": [
    "for noun_to_noun_path in noun_to_noun_path_list[:30]:\n",
    "    print(noun_to_noun_path)"
   ]
  },
  {
   "cell_type": "markdown",
   "metadata": {},
   "source": [
    "逆方向に係らないからi < jでおけ   "
   ]
  },
  {
   "cell_type": "code",
   "execution_count": null,
   "metadata": {},
   "outputs": [],
   "source": []
  }
 ],
 "metadata": {
  "kernelspec": {
   "display_name": "Python 3",
   "language": "python",
   "name": "python3"
  },
  "language_info": {
   "codemirror_mode": {
    "name": "ipython",
    "version": 3
   },
   "file_extension": ".py",
   "mimetype": "text/x-python",
   "name": "python",
   "nbconvert_exporter": "python",
   "pygments_lexer": "ipython3",
   "version": "3.7.4"
  }
 },
 "nbformat": 4,
 "nbformat_minor": 4
}
