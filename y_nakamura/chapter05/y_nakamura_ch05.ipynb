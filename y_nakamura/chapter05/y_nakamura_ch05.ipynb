{
 "cells": [
  {
   "cell_type": "code",
   "execution_count": 3,
   "metadata": {},
   "outputs": [],
   "source": [
    "!Cabocha -f1 data/neko.txt > work/neko.txt.cabocha"
   ]
  },
  {
   "cell_type": "markdown",
   "metadata": {},
   "source": [
    "# 40. 係り受け解析結果の読み込み（形態素）"
   ]
  },
  {
   "cell_type": "code",
   "execution_count": 3,
   "metadata": {},
   "outputs": [],
   "source": [
    "class Morph:\n",
    "    def __init__(self, parse_result):\n",
    "        morph = self._txt2morph(parse_result)\n",
    "        self.surface = morph['surface']\n",
    "        self.base = morph['base'] \n",
    "        self.pos = morph['pos'] \n",
    "        self.pos1 = morph['pos1']\n",
    "\n",
    "    def _txt2morph(self, parse_result):\n",
    "        splited_parse_result = parse_result.split('\\t')\n",
    "        splited_parse_result[1] = splited_parse_result[1].split(',')\n",
    "        return {\n",
    "            'surface':splited_parse_result[0],\n",
    "            'base':splited_parse_result[1][6],\n",
    "            'pos':splited_parse_result[1][0],\n",
    "            'pos1':splited_parse_result[1][1]\n",
    "        }\n",
    "    \n",
    "    def get_members_string(self):\n",
    "        return f'surface : {self.surface}, base : {self.base}, pos : {self.pos}, pos1 : {self.pos1}'\n",
    "\n",
    "\n",
    "sentence_list = list() \n",
    "with open('./work/neko.txt.cabocha', mode = 'r') as f:\n",
    "    sentence = list() \n",
    "    for line in f:\n",
    "        line = line.rstrip()\n",
    "        if line == 'EOS':\n",
    "            if sentence: sentence_list.append(sentence)\n",
    "            sentence = list()\n",
    "            continue\n",
    "        if line[0] == '*' and line[1] == ' ': continue\n",
    "        sentence.append(Morph(line))"
   ]
  },
  {
   "cell_type": "code",
   "execution_count": 4,
   "metadata": {},
   "outputs": [
    {
     "name": "stdout",
     "output_type": "stream",
     "text": [
      "surface : 名前, base : 名前, pos : 名詞, pos1 : 一般\n",
      "surface : は, base : は, pos : 助詞, pos1 : 係助詞\n",
      "surface : まだ, base : まだ, pos : 副詞, pos1 : 助詞類接続\n",
      "surface : 無い, base : 無い, pos : 形容詞, pos1 : 自立\n",
      "surface : 。, base : 。, pos : 記号, pos1 : 句点\n"
     ]
    }
   ],
   "source": [
    "for morph in sentence_list[2]:\n",
    "    print(morph.get_members_string())"
   ]
  },
  {
   "cell_type": "markdown",
   "metadata": {},
   "source": [
    "# 41. 係り受け解析結果の読み込み（文節・係り受け）"
   ]
  },
  {
   "cell_type": "code",
   "execution_count": 32,
   "metadata": {},
   "outputs": [],
   "source": [
    "from operator import itemgetter\n",
    "from functools import reduce"
   ]
  },
  {
   "cell_type": "code",
   "execution_count": 100,
   "metadata": {},
   "outputs": [],
   "source": [
    "'''\n",
    "Class Chunk\n",
    "文節のクラス\n",
    "---Member---\n",
    "morphs: 形態素のリスト \n",
    "dst: 係り先文節インデックス番号\n",
    "srcs: 係り元文節インデックス番号のリスト\n",
    "'''\n",
    "class Chunk(Morph):\n",
    "    def __init__(self):\n",
    "        self.morphs = list()\n",
    "        self.dst = -1\n",
    "        self.srcs = list()\n",
    "    \n",
    "    def append_morph(self, parse_result):\n",
    "        self.morphs.append(Morph(parse_result))\n",
    "        \n",
    "    def append_srcs(self, src):\n",
    "        self.srcs.append(src)\n",
    "    \n",
    "    def set_dst(self, dst):\n",
    "        self.dst = dst\n",
    "    \n",
    "    def get_members_string(self):\n",
    "        morphs = reduce(lambda a, b: a + '(' + b.get_members_string() + ')\\n', self.morphs, '')\n",
    "        return f'morphs : {morphs}, dst : {self.dst}, srcs : {self.srcs}'\n",
    "\n",
    "    def morphs2string(self):\n",
    "        return reduce(lambda a, b: a + (b.surface if b.pos != '記号' else ''), self.morphs, '')\n",
    "    \n",
    "    def check_pos(self, pos):\n",
    "        for morph in self.morphs:\n",
    "            if morph.pos == pos: return True\n",
    "        return False"
   ]
  },
  {
   "cell_type": "code",
   "execution_count": 101,
   "metadata": {},
   "outputs": [],
   "source": [
    "sentence_list = list() #そのうちiterに変える\n",
    "with open('./work/neko.txt.cabocha', mode = 'r') as f:\n",
    "    chunk_dict = dict()\n",
    "    for line in f:\n",
    "        line = line.rstrip()\n",
    "        if line == 'EOS':\n",
    "            sentence = [x[1] for x in sorted(chunk_dict.items(), key = itemgetter(0))]\n",
    "            if sentence: sentence_list.append(sentence)\n",
    "            chunk_dict = dict()\n",
    "            continue\n",
    "        if line[0] == '*' and line[1] == ' ':\n",
    "            splited_line = line.split()\n",
    "            idx = int(splited_line[1])\n",
    "            src = int(splited_line[2][:-1])\n",
    "            if not idx in chunk_dict: chunk_dict[idx] = Chunk()\n",
    "            if idx != -1: chunk_dict[idx].set_dst(src)\n",
    "            if src != -1 and not src in chunk_dict: chunk_dict[src] = Chunk()\n",
    "            if src != -1: chunk_dict[src].append_srcs(idx)\n",
    "        else:\n",
    "            chunk_dict[idx].append_morph(line)"
   ]
  },
  {
   "cell_type": "code",
   "execution_count": 102,
   "metadata": {},
   "outputs": [
    {
     "name": "stdout",
     "output_type": "stream",
     "text": [
      "morphs : (surface : この, base : この, pos : 連体詞, pos1 : *)\n",
      ", dst : 1, srcs : []\n",
      "morphs : (surface : 書生, base : 書生, pos : 名詞, pos1 : 一般)\n",
      "(surface : という, base : という, pos : 助詞, pos1 : 格助詞)\n",
      "(surface : の, base : の, pos : 名詞, pos1 : 非自立)\n",
      "(surface : は, base : は, pos : 助詞, pos1 : 係助詞)\n",
      ", dst : 7, srcs : [0]\n",
      "morphs : (surface : 時々, base : 時々, pos : 副詞, pos1 : 一般)\n",
      ", dst : 4, srcs : []\n",
      "morphs : (surface : 我々, base : 我々, pos : 名詞, pos1 : 代名詞)\n",
      "(surface : を, base : を, pos : 助詞, pos1 : 格助詞)\n",
      ", dst : 4, srcs : []\n",
      "morphs : (surface : 捕え, base : 捕える, pos : 動詞, pos1 : 自立)\n",
      "(surface : て, base : て, pos : 助詞, pos1 : 接続助詞)\n",
      ", dst : 5, srcs : [2, 3]\n",
      "morphs : (surface : 煮, base : 煮る, pos : 動詞, pos1 : 自立)\n",
      "(surface : て, base : て, pos : 助詞, pos1 : 接続助詞)\n",
      ", dst : 6, srcs : [4]\n",
      "morphs : (surface : 食う, base : 食う, pos : 動詞, pos1 : 自立)\n",
      "(surface : という, base : という, pos : 助詞, pos1 : 格助詞)\n",
      ", dst : 7, srcs : [5]\n",
      "morphs : (surface : 話, base : 話, pos : 名詞, pos1 : サ変接続)\n",
      "(surface : で, base : だ, pos : 助動詞, pos1 : *)\n",
      "(surface : ある, base : ある, pos : 助動詞, pos1 : *)\n",
      "(surface : 。, base : 。, pos : 記号, pos1 : 句点)\n",
      ", dst : -1, srcs : [1, 6]\n"
     ]
    }
   ],
   "source": [
    "for chunk in sentence_list[7]:\n",
    "    print(chunk.get_members_string())"
   ]
  },
  {
   "cell_type": "markdown",
   "metadata": {},
   "source": [
    "# 42. 係り元と係り先の文節の表示"
   ]
  },
  {
   "cell_type": "code",
   "execution_count": 103,
   "metadata": {},
   "outputs": [
    {
     "name": "stdout",
     "output_type": "stream",
     "text": [
      "この\t書生というのは\n",
      "書生というのは\t話である\n",
      "時々\t捕えて\n",
      "我々を\t捕えて\n",
      "捕えて\t煮て\n",
      "煮て\t食うという\n",
      "食うという\t話である\n"
     ]
    }
   ],
   "source": [
    "for chunk in sentence_list[7]:\n",
    "    if chunk.dst != -1: print(f'{chunk.morphs2string()}\\t{sentence_list[7][chunk.dst].morphs2string()}')"
   ]
  },
  {
   "cell_type": "markdown",
   "metadata": {},
   "source": [
    "# 43. 名詞を含む文節が動詞を含む文節に係るものを抽出"
   ]
  },
  {
   "cell_type": "code",
   "execution_count": 107,
   "metadata": {},
   "outputs": [],
   "source": [
    "noun_to_verb = list()\n",
    "for sentence in sentence_list:\n",
    "    for chunk in sentence:\n",
    "        if chunk.dst == -1: continue\n",
    "        if chunk.check_pos('名詞') and sentence[chunk.dst].check_pos('動詞'):\n",
    "            noun_to_verb.append((chunk.morphs2string(), sentence[chunk.dst].morphs2string()))"
   ]
  },
  {
   "cell_type": "code",
   "execution_count": 108,
   "metadata": {},
   "outputs": [
    {
     "name": "stdout",
     "output_type": "stream",
     "text": [
      "('どこで', '生れたか')\n",
      "('見当が', 'つかぬ')\n",
      "('所で', '泣いて')\n",
      "('ニャーニャー', '泣いて')\n",
      "('いた事だけは', '記憶している')\n"
     ]
    }
   ],
   "source": [
    "for idx in range(5):\n",
    "    print(noun_to_verb[idx])"
   ]
  },
  {
   "cell_type": "markdown",
   "metadata": {},
   "source": [
    "# 44. 係り受け木の可視化"
   ]
  },
  {
   "cell_type": "code",
   "execution_count": 121,
   "metadata": {},
   "outputs": [],
   "source": [
    "import pydot\n",
    "import matplotlib.pyplot as plt\n",
    "import matplotlib.image as mpimg\n",
    "from IPython.display import Image, display"
   ]
  },
  {
   "cell_type": "code",
   "execution_count": 112,
   "metadata": {},
   "outputs": [],
   "source": [
    "graph = pydot.Dot(graph_type = 'digraph')\n",
    "for idx, chunk in enumerate(sentence_list[7]):\n",
    "    if chunk.dst == -1: continue\n",
    "    id1 = idx\n",
    "    id2 = chunk.dst\n",
    "    label1 = chunk.morphs2string()\n",
    "    label2 = sentence_list[7][id2].morphs2string()\n",
    "    graph.add_node(pydot.Node(id1, label=label1))\n",
    "    graph.add_node(pydot.Node(id2, label=label2))\n",
    "    graph.add_edge(pydot.Edge(id1, id2))"
   ]
  },
  {
   "cell_type": "code",
   "execution_count": 122,
   "metadata": {},
   "outputs": [
    {
     "data": {
      "image/png": "[encoded data removed]",
      "text/plain": [
       "<IPython.core.display.Image object>"
      ]
     },
     "metadata": {},
     "output_type": "display_data"
    }
   ],
   "source": [
    "plt = Image(graph.create_png())\n",
    "display(plt)\n",
    "#graph.write_png('./work/result.png')"
   ]
  },
  {
   "cell_type": "markdown",
   "metadata": {},
   "source": [
    "# 45. 動詞の格パターンの抽出"
   ]
  },
  {
   "cell_type": "markdown",
   "metadata": {},
   "source": [
    "# 46. 動詞の格フレーム情報の抽出"
   ]
  },
  {
   "cell_type": "markdown",
   "metadata": {},
   "source": [
    "# 47. 機能動詞構文のマイニング"
   ]
  },
  {
   "cell_type": "markdown",
   "metadata": {},
   "source": [
    "# 48. 名詞から根へのパスの抽出"
   ]
  },
  {
   "cell_type": "markdown",
   "metadata": {},
   "source": [
    "# 49. 名詞間の係り受けパスの抽出"
   ]
  },
  {
   "cell_type": "code",
   "execution_count": null,
   "metadata": {},
   "outputs": [],
   "source": []
  }
 ],
 "metadata": {
  "kernelspec": {
   "display_name": "Python 3",
   "language": "python",
   "name": "python3"
  },
  "language_info": {
   "codemirror_mode": {
    "name": "ipython",
    "version": 3
   },
   "file_extension": ".py",
   "mimetype": "text/x-python",
   "name": "python",
   "nbconvert_exporter": "python",
   "pygments_lexer": "ipython3",
   "version": "3.7.4"
  }
 },
 "nbformat": 4,
 "nbformat_minor": 4
}
