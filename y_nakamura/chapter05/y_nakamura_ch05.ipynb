{
 "cells": [
  {
   "cell_type": "code",
   "execution_count": 3,
   "metadata": {},
   "outputs": [],
   "source": [
    "!Cabocha -f1 data/neko.txt > work/neko.txt.cabocha"
   ]
  },
  {
   "cell_type": "markdown",
   "metadata": {},
   "source": [
    "# 40. 係り受け解析結果の読み込み（形態素）"
   ]
  },
  {
   "cell_type": "code",
   "execution_count": 89,
   "metadata": {},
   "outputs": [],
   "source": [
    "class Morph:\n",
    "    def __init__(self, parse_result):\n",
    "        morph = self._txt2morph(parse_result)\n",
    "        self.surface = morph['surface']\n",
    "        self.base = morph['base'] \n",
    "        self.pos = morph['pos'] \n",
    "        self.pos1 = morph['pos1']\n",
    "\n",
    "    def _txt2morph(self, parse_result):\n",
    "        splited_parse_result = parse_result.split('\\t')\n",
    "        splited_parse_result[1] = splited_parse_result[1].split(',')\n",
    "        return {\n",
    "            'surface':splited_parse_result[0],\n",
    "            'base':splited_parse_result[1][6],\n",
    "            'pos':splited_parse_result[1][0],\n",
    "            'pos1':splited_parse_result[1][1]\n",
    "        }\n",
    "    \n",
    "    def get_members_string(self):\n",
    "        return f'surface : {self.surface}\\tbase : {self.base}\\tpos : {self.pos}\\tpos1 : {self.pos1}'"
   ]
  },
  {
   "cell_type": "code",
   "execution_count": 90,
   "metadata": {},
   "outputs": [],
   "source": [
    "def make_morph_sentence():\n",
    "    with open('./work/neko.txt.cabocha', mode = 'r') as f:\n",
    "        sentence = list() \n",
    "        for line in f:\n",
    "            line = line.rstrip()\n",
    "            if line == 'EOS':\n",
    "                if sentence: yield sentence\n",
    "                sentence = list()\n",
    "                continue\n",
    "            if line[0] == '*' and line[1] == ' ': continue\n",
    "            sentence.append(Morph(line))"
   ]
  },
  {
   "cell_type": "code",
   "execution_count": 91,
   "metadata": {},
   "outputs": [],
   "source": [
    "from itertools import islice"
   ]
  },
  {
   "cell_type": "code",
   "execution_count": 92,
   "metadata": {},
   "outputs": [
    {
     "name": "stdout",
     "output_type": "stream",
     "text": [
      "surface : 一\tbase : 一\tpos : 名詞\tpos1 : 数\n",
      "\n",
      "surface : 　\tbase : 　\tpos : 記号\tpos1 : 空白\n",
      "surface : 吾輩\tbase : 吾輩\tpos : 名詞\tpos1 : 代名詞\n",
      "surface : は\tbase : は\tpos : 助詞\tpos1 : 係助詞\n",
      "surface : 猫\tbase : 猫\tpos : 名詞\tpos1 : 一般\n",
      "surface : で\tbase : だ\tpos : 助動詞\tpos1 : *\n",
      "surface : ある\tbase : ある\tpos : 助動詞\tpos1 : *\n",
      "surface : 。\tbase : 。\tpos : 記号\tpos1 : 句点\n",
      "\n"
     ]
    }
   ],
   "source": [
    "gen_morph_sentence = make_morph_sentence()\n",
    "for sentence in islice(gen_morph_sentence, 2):\n",
    "    for morph in sentence:\n",
    "        print(morph.get_members_string())\n",
    "    print()"
   ]
  },
  {
   "cell_type": "markdown",
   "metadata": {},
   "source": [
    "# 41. 係り受け解析結果の読み込み（文節・係り受け）"
   ]
  },
  {
   "cell_type": "code",
   "execution_count": 93,
   "metadata": {},
   "outputs": [],
   "source": [
    "from operator import itemgetter\n",
    "from functools import reduce"
   ]
  },
  {
   "cell_type": "code",
   "execution_count": 94,
   "metadata": {},
   "outputs": [],
   "source": [
    "'''\n",
    "Class Chunk\n",
    "文節のクラス\n",
    "---Member---\n",
    "morphs: 形態素のリスト \n",
    "dst: 係り先文節インデックス番号\n",
    "srcs: 係り元文節インデックス番号のリスト\n",
    "'''\n",
    "class Chunk(Morph):\n",
    "    def __init__(self):\n",
    "        self.morphs = list()\n",
    "        self.dst = -1\n",
    "        self.srcs = list()\n",
    "    \n",
    "    def append_morph(self, parse_result):\n",
    "        self.morphs.append(Morph(parse_result))\n",
    "        \n",
    "    def append_srcs(self, src):\n",
    "        self.srcs.append(src)\n",
    "    \n",
    "    def set_dst(self, dst):\n",
    "        self.dst = dst\n",
    "    \n",
    "    def get_members_string(self):\n",
    "        morphs = reduce(lambda a, b: a + '(' + b.get_members_string() + ')\\n', self.morphs, '')\n",
    "        return f'morphs : \\n{morphs}dst : {self.dst}\\tsrcs : {self.srcs}'\n",
    "\n",
    "    def morphs2string(self):\n",
    "        return reduce(lambda a, b: a + (b.surface if b.pos != '記号' else ''), self.morphs, '')\n",
    "    \n",
    "    def check_pos(self, pos):\n",
    "        for morph in self.morphs:\n",
    "            if morph.pos == pos: return True\n",
    "        return False"
   ]
  },
  {
   "cell_type": "code",
   "execution_count": 95,
   "metadata": {},
   "outputs": [],
   "source": [
    "def make_chunk_sentence():\n",
    "    with open('./work/neko.txt.cabocha', mode = 'r') as f:\n",
    "        chunk_dict = dict()\n",
    "        for line in f:\n",
    "            line = line.rstrip()\n",
    "            if line == 'EOS':\n",
    "                sentence = [x[1] for x in sorted(chunk_dict.items(), key = itemgetter(0))]\n",
    "                if sentence: yield sentence\n",
    "                chunk_dict = dict()\n",
    "                continue\n",
    "            if line[0] == '*' and line[1] == ' ':\n",
    "                splited_line = line.split()\n",
    "                idx = int(splited_line[1])\n",
    "                src = int(splited_line[2][:-1])\n",
    "                if not idx in chunk_dict: chunk_dict[idx] = Chunk()\n",
    "                if idx != -1: chunk_dict[idx].set_dst(src)\n",
    "                if src != -1 and not src in chunk_dict: chunk_dict[src] = Chunk()\n",
    "                if src != -1: chunk_dict[src].append_srcs(idx)\n",
    "            else:\n",
    "                chunk_dict[idx].append_morph(line)"
   ]
  },
  {
   "cell_type": "code",
   "execution_count": 96,
   "metadata": {},
   "outputs": [
    {
     "name": "stdout",
     "output_type": "stream",
     "text": [
      "morphs : \n",
      "(surface : 一\tbase : 一\tpos : 名詞\tpos1 : 数)\n",
      "dst : -1\tsrcs : []\n",
      "\n",
      "morphs : \n",
      "(surface : 　\tbase : 　\tpos : 記号\tpos1 : 空白)\n",
      "dst : 2\tsrcs : []\n",
      "morphs : \n",
      "(surface : 吾輩\tbase : 吾輩\tpos : 名詞\tpos1 : 代名詞)\n",
      "(surface : は\tbase : は\tpos : 助詞\tpos1 : 係助詞)\n",
      "dst : 2\tsrcs : []\n",
      "morphs : \n",
      "(surface : 猫\tbase : 猫\tpos : 名詞\tpos1 : 一般)\n",
      "(surface : で\tbase : だ\tpos : 助動詞\tpos1 : *)\n",
      "(surface : ある\tbase : ある\tpos : 助動詞\tpos1 : *)\n",
      "(surface : 。\tbase : 。\tpos : 記号\tpos1 : 句点)\n",
      "dst : -1\tsrcs : [0, 1]\n",
      "\n"
     ]
    }
   ],
   "source": [
    "gen_chunk_sentence = make_chunk_sentence()\n",
    "for sentence in islice(gen_chunk_sentence, 2):\n",
    "    for chunk in sentence:\n",
    "        print(chunk.get_members_string())\n",
    "    print()"
   ]
  },
  {
   "cell_type": "markdown",
   "metadata": {},
   "source": [
    "# 42. 係り元と係り先の文節の表示"
   ]
  },
  {
   "cell_type": "code",
   "execution_count": 97,
   "metadata": {},
   "outputs": [
    {
     "name": "stdout",
     "output_type": "stream",
     "text": [
      "\n",
      "\t猫である\n",
      "吾輩は\t猫である\n",
      "\n",
      "名前は\t無い\n",
      "まだ\t無い\n",
      "\n",
      "どこで\t生れたか\n",
      "生れたか\tつかぬ\n",
      "とんと\tつかぬ\n",
      "見当が\tつかぬ\n",
      "\n",
      "何でも\t薄暗い\n",
      "薄暗い\t所で\n",
      "じめじめした\t所で\n",
      "所で\t泣いて\n",
      "ニャーニャー\t泣いて\n",
      "泣いて\t記憶している\n",
      "いた事だけは\t記憶している\n",
      "\n",
      "吾輩は\t見た\n",
      "ここで\t始めて\n",
      "始めて\t人間という\n",
      "人間という\tものを\n",
      "ものを\t見た\n",
      "\n",
      "しかも\t種族であったそうだ\n",
      "あとで\t聞くと\n",
      "聞くと\t種族であったそうだ\n",
      "それは\t種族であったそうだ\n",
      "書生という\t人間中で\n",
      "人間中で\t種族であったそうだ\n",
      "一番\t獰悪な\n",
      "獰悪な\t種族であったそうだ\n",
      "\n"
     ]
    }
   ],
   "source": [
    "gen_sentence = make_chunk_sentence()\n",
    "for sentence in islice(gen_sentence, 7):\n",
    "    for chunk in sentence:\n",
    "        if chunk.dst != -1: print(f'{chunk.morphs2string()}\\t{sentence[chunk.dst].morphs2string()}')\n",
    "    print()"
   ]
  },
  {
   "cell_type": "markdown",
   "metadata": {},
   "source": [
    "# 43. 名詞を含む文節が動詞を含む文節に係るものを抽出"
   ]
  },
  {
   "cell_type": "code",
   "execution_count": 98,
   "metadata": {},
   "outputs": [],
   "source": [
    "noun_to_verb = list()\n",
    "for sentence in make_chunk_sentence():\n",
    "    for chunk in sentence:\n",
    "        if chunk.dst == -1: continue\n",
    "        if chunk.check_pos('名詞') and sentence[chunk.dst].check_pos('動詞'):\n",
    "            noun_to_verb.append((chunk.morphs2string(), sentence[chunk.dst].morphs2string()))"
   ]
  },
  {
   "cell_type": "code",
   "execution_count": 99,
   "metadata": {},
   "outputs": [
    {
     "name": "stdout",
     "output_type": "stream",
     "text": [
      "('どこで', '生れたか')\n",
      "('見当が', 'つかぬ')\n",
      "('所で', '泣いて')\n",
      "('ニャーニャー', '泣いて')\n",
      "('いた事だけは', '記憶している')\n"
     ]
    }
   ],
   "source": [
    "for idx in range(5):\n",
    "    print(noun_to_verb[idx])"
   ]
  },
  {
   "cell_type": "markdown",
   "metadata": {},
   "source": [
    "# 44. 係り受け木の可視化"
   ]
  },
  {
   "cell_type": "code",
   "execution_count": 100,
   "metadata": {},
   "outputs": [],
   "source": [
    "import pydot\n",
    "from IPython.display import Image, display"
   ]
  },
  {
   "cell_type": "code",
   "execution_count": 101,
   "metadata": {},
   "outputs": [],
   "source": [
    "graph = pydot.Dot(graph_type = 'digraph')\n",
    "for sentence in islice(make_chunk_sentence(), 5, 6):\n",
    "    for idx, chunk in enumerate(sentence):\n",
    "        if chunk.dst == -1: continue\n",
    "        id1 = idx\n",
    "        id2 = chunk.dst\n",
    "        label1 = chunk.morphs2string()\n",
    "        label2 = sentence[id2].morphs2string()\n",
    "        graph.add_node(pydot.Node(id1, label=label1))\n",
    "        graph.add_node(pydot.Node(id2, label=label2))\n",
    "        graph.add_edge(pydot.Edge(id1, id2))"
   ]
  },
  {
   "cell_type": "code",
   "execution_count": 102,
   "metadata": {},
   "outputs": [
    {
     "data": {
      "image/png": "[encoded data removed]",
      "text/plain": [
       "<IPython.core.display.Image object>"
      ]
     },
     "metadata": {},
     "output_type": "display_data"
    }
   ],
   "source": [
    "plt = Image(graph.create_png())\n",
    "display(plt)\n",
    "#graph.write_png('./work/result.png')"
   ]
  },
  {
   "cell_type": "markdown",
   "metadata": {},
   "source": [
    "# 45. 動詞の格パターンの抽出"
   ]
  },
  {
   "cell_type": "code",
   "execution_count": 103,
   "metadata": {},
   "outputs": [],
   "source": [
    "with open('./work/case_info.txt', mode = 'w') as out_file:\n",
    "    for sentence in make_chunk_sentence():\n",
    "        for chunk in sentence:\n",
    "            verb = ''\n",
    "            for morph in chunk.morphs:\n",
    "                if morph.pos == '動詞':\n",
    "                    verb = morph.base\n",
    "                    break\n",
    "            if verb:\n",
    "                particle_list = list()\n",
    "                for src in chunk.srcs:\n",
    "                    src_chunk = sentence[src]\n",
    "                    if src_chunk.morphs[-1].pos == '記号' and len(src_chunk.morphs) > 1: morph = src_chunk.morphs[-2]\n",
    "                    else: morph = src_chunk.morphs[-1]\n",
    "                    if morph.pos == '助詞':\n",
    "                        particle_list.append(morph.base)\n",
    "                if particle_list:\n",
    "                    out_file.write(verb + '\\t' + ' '.join(sorted(particle_list)) + '\\n')"
   ]
  },
  {
   "cell_type": "markdown",
   "metadata": {},
   "source": [
    "一文節内に複数の助詞がある場合どうすんnen(文節の最後に助詞が来ているもののみを抽出)"
   ]
  },
  {
   "cell_type": "code",
   "execution_count": 104,
   "metadata": {},
   "outputs": [
    {
     "name": "stdout",
     "output_type": "stream",
     "text": [
      "    704 云う\tと\n",
      "    463 する\tを\n",
      "    336 思う\tと\n",
      "    205 ある\tが\n",
      "    203 なる\tに\n",
      "    193 する\tに\n",
      "    180 見る\tて\n",
      "    160 する\tと\n",
      "    118 する\tが\n",
      "    114 する\tに を\n",
      "sort: write failed: 'standard output': Broken pipe\n",
      "sort: write error\n"
     ]
    }
   ],
   "source": [
    "!cat ./work/case_info.txt | sort | uniq -c | sort -r | head -n 10 "
   ]
  },
  {
   "cell_type": "code",
   "execution_count": 105,
   "metadata": {},
   "outputs": [
    {
     "name": "stdout",
     "output_type": "stream",
     "text": [
      "    463 する\tを\n",
      "    193 する\tに\n",
      "    180 見る\tて\n",
      "    160 する\tと\n",
      "    118 する\tが\n",
      "    114 する\tに を\n",
      "    100 見る\tを\n",
      "     90 する\tは\n",
      "     89 する\tて を\n",
      "     61 する\tが を\n"
     ]
    }
   ],
   "source": [
    "!grep -E \"^する|^見る|^与える\" ./work/case_info.txt | sort | uniq -c | sort -r | head -n 10 "
   ]
  },
  {
   "cell_type": "code",
   "execution_count": 106,
   "metadata": {},
   "outputs": [
    {
     "name": "stdout",
     "output_type": "stream",
     "text": [
      "    463 する\tを\n",
      "    193 する\tに\n",
      "    180 見る\tて\n",
      "    160 する\tと\n",
      "    118 する\tが\n",
      "    114 する\tに を\n",
      "    100 見る\tを\n",
      "     90 する\tは\n",
      "     89 する\tて を\n",
      "     61 する\tが を\n"
     ]
    }
   ],
   "source": [
    "!awk '{if(match($1, \"^する|^見る|^与える\")){print $0}}' ./work/case_info.txt | sort | uniq -c | sort -r | head -n 10"
   ]
  },
  {
   "cell_type": "markdown",
   "metadata": {},
   "source": [
    "# 46. 動詞の格フレーム情報の抽出"
   ]
  },
  {
   "cell_type": "code",
   "execution_count": 107,
   "metadata": {},
   "outputs": [],
   "source": [
    "with open('./work/case_frame_info.txt', mode = 'w') as out_file:\n",
    "    for sentence in make_chunk_sentence():\n",
    "        for chunk in sentence:\n",
    "            verb = ''\n",
    "            for morph in chunk.morphs:\n",
    "                if morph.pos == '動詞':\n",
    "                    verb = morph.base\n",
    "                    break\n",
    "            if verb:\n",
    "                particle_clause_list = list()\n",
    "                for src in chunk.srcs:\n",
    "                    src_chunk = sentence[src]\n",
    "                    #最後の場所が助詞の場合のみ抽出(記号があった場合めんどくさ)\n",
    "                    if src_chunk.morphs[-1].pos == '記号' and len(src_chunk.morphs) > 1: morph = src_chunk.morphs[-2]\n",
    "                    else: morph = src_chunk.morphs[-1]\n",
    "                    if morph.pos == '助詞':\n",
    "                        particle_clause_list.append((morph.base, sentence[src].morphs2string()))\n",
    "                if particle_clause_list:\n",
    "                    sorted_particle_clause_list = sorted(particle_clause_list)\n",
    "                    particle_list = [x[0] for x in sorted_particle_clause_list]\n",
    "                    clause_list = [x[1] for x in sorted_particle_clause_list] \n",
    "                    out_file.write(verb + '\\t' + ' '.join(particle_list) + '\\t' + ' '.join(clause_list) + '\\n')"
   ]
  },
  {
   "cell_type": "markdown",
   "metadata": {},
   "source": [
    "助詞と同じ基準ってなんやねん(助詞でソート)"
   ]
  },
  {
   "cell_type": "markdown",
   "metadata": {},
   "source": [
    "# 47. 機能動詞構文のマイニング"
   ]
  },
  {
   "cell_type": "code",
   "execution_count": 108,
   "metadata": {},
   "outputs": [],
   "source": [
    "with open('./work/case_frame_util_info.txt', mode = 'w') as out_file:\n",
    "    for sentence in make_chunk_sentence():\n",
    "        for idx, chunk in enumerate(sentence):\n",
    "            if len(chunk.morphs) == 2:\n",
    "                morphs = chunk.morphs \n",
    "                if morphs[0].pos == '名詞' and morphs[0].pos1 == 'サ変接続' and morphs[1].surface == 'を' and morphs[1].pos == '助詞':\n",
    "                    if chunk.dst != -1 and sentence[chunk.dst].check_pos('動詞'):\n",
    "                        verb = ''\n",
    "                        for morph in sentence[chunk.dst].morphs:\n",
    "                            if morph.pos == '動詞':\n",
    "                                verb = morph.base\n",
    "                                break\n",
    "                        particle_clause_list = list()\n",
    "                        for src in sentence[chunk.dst].srcs:\n",
    "                            if src == idx: continue\n",
    "                            src_chunk = sentence[src]\n",
    "                            if src_chunk.morphs[-1].pos == '記号' and len(src_chunk.morphs) > 1: morph = src_chunk.morphs[-2]\n",
    "                            else: morph = src_chunk.morphs[-1]\n",
    "                            if morph.pos == '助詞':\n",
    "                                particle_clause_list.append((morph.base, sentence[src].morphs2string()))\n",
    "                        if particle_clause_list:\n",
    "                            sorted_particle_clause_list = sorted(particle_clause_list)\n",
    "                            particle_list = [x[0] for x in sorted_particle_clause_list]\n",
    "                            clause_list = [x[1] for x in sorted_particle_clause_list] \n",
    "                            out_file.write(chunk.morphs2string() + verb + '\\t' + ' '.join(particle_list) + '\\t' + ' '.join(clause_list) + '\\n')"
   ]
  },
  {
   "cell_type": "code",
   "execution_count": 109,
   "metadata": {},
   "outputs": [
    {
     "name": "stdout",
     "output_type": "stream",
     "text": [
      "     25 返事をする\n",
      "     19 挨拶をする\n",
      "     11 話をする\n",
      "      8 質問をする\n",
      "      7 喧嘩をする\n",
      "      6 真似をする\n",
      "      5 質問をかける\n",
      "      5 相談をする\n",
      "      5 昼寝をする\n",
      "      4 演説をする\n"
     ]
    }
   ],
   "source": [
    "!cat ./work/case_frame_util_info.txt | cut -f 1 | sort | uniq -c | sort -r | head -n 10 "
   ]
  },
  {
   "cell_type": "code",
   "execution_count": 110,
   "metadata": {},
   "outputs": [
    {
     "name": "stdout",
     "output_type": "stream",
     "text": [
      "      6 返事をする\tと\n",
      "      4 挨拶をする\tから\n",
      "      4 返事をする\tと は\n",
      "      4 挨拶をする\tと\n",
      "      3 質問をかける\tと は\n",
      "      3 喧嘩をする\tと\n",
      "      2 同情を表する\tて と は\n",
      "      2 往来をあるく\tて\n",
      "      2 返事をする\tから と\n",
      "      2 挨拶をする\tと も\n"
     ]
    }
   ],
   "source": [
    "!cat ./work/case_frame_util_info.txt | cut -f1,2 | sort | uniq -c | sort -r | head -n 10 "
   ]
  },
  {
   "cell_type": "markdown",
   "metadata": {},
   "source": [
    "# 48. 名詞から根へのパスの抽出"
   ]
  },
  {
   "cell_type": "code",
   "execution_count": 111,
   "metadata": {},
   "outputs": [],
   "source": [
    "def rec(chunk, sentence, noun_path_idx):\n",
    "    noun_path_idx.append(chunk.dst)\n",
    "    if chunk.dst == -1: return\n",
    "    rec(sentence[chunk.dst], sentence, noun_path_idx)\n",
    "\n",
    "    \n",
    "def noun_path_idx2noun_path(noun_path_idx, sentence):\n",
    "    return [sentence[idx].morphs2string() for idx in noun_path_idx if idx != -1]"
   ]
  },
  {
   "cell_type": "code",
   "execution_count": 112,
   "metadata": {},
   "outputs": [],
   "source": [
    "noun_path_list = list()\n",
    "for sentence in islice(make_chunk_sentence(), 10):\n",
    "    for idx, chunk in enumerate(sentence):\n",
    "        if chunk.check_pos('名詞'):\n",
    "            noun_path_idx = [idx]\n",
    "            rec(chunk, sentence, noun_path_idx)\n",
    "            noun_path_list.append(noun_path_idx2noun_path(noun_path_idx, sentence))"
   ]
  },
  {
   "cell_type": "code",
   "execution_count": 113,
   "metadata": {},
   "outputs": [
    {
     "name": "stdout",
     "output_type": "stream",
     "text": [
      "一\n",
      "吾輩は -> 猫である\n",
      "猫である\n",
      "名前は -> 無い\n",
      "どこで -> 生れたか -> つかぬ\n",
      "見当が -> つかぬ\n",
      "何でも -> 薄暗い -> 所で -> 泣いて -> 記憶している\n",
      "所で -> 泣いて -> 記憶している\n",
      "ニャーニャー -> 泣いて -> 記憶している\n",
      "いた事だけは -> 記憶している\n",
      "記憶している\n",
      "吾輩は -> 見た\n",
      "ここで -> 始めて -> 人間という -> ものを -> 見た\n",
      "人間という -> ものを -> 見た\n",
      "ものを -> 見た\n",
      "あとで -> 聞くと -> 種族であったそうだ\n",
      "それは -> 種族であったそうだ\n",
      "書生という -> 人間中で -> 種族であったそうだ\n",
      "人間中で -> 種族であったそうだ\n",
      "一番 -> 獰悪な -> 種族であったそうだ\n"
     ]
    }
   ],
   "source": [
    "for idx in range(20):\n",
    "    noun_path = noun_path_list[idx]\n",
    "    print(' -> '.join(noun_path))"
   ]
  },
  {
   "cell_type": "markdown",
   "metadata": {},
   "source": [
    "# 49. 名詞間の係り受けパスの抽出"
   ]
  },
  {
   "cell_type": "code",
   "execution_count": 114,
   "metadata": {},
   "outputs": [],
   "source": [
    "def mask(chunk, mask_char):\n",
    "    masked_string = ''\n",
    "    for morph in chunk.morphs:\n",
    "        if morph.pos == '名詞':\n",
    "            masked_string += mask_char\n",
    "        else:\n",
    "            if morph.pos == '記号': continue\n",
    "            masked_string += morph.surface\n",
    "    return masked_string"
   ]
  },
  {
   "cell_type": "code",
   "execution_count": 115,
   "metadata": {},
   "outputs": [],
   "source": [
    "noun_to_noun_path_list = list()\n",
    "for sentence in make_chunk_sentence():\n",
    "    for x_idx, x_chunk in enumerate(sentence):\n",
    "        if not x_chunk.check_pos('名詞'): continue\n",
    "        for y_idx, y_chunk in enumerate(sentence[x_idx + 1:]):\n",
    "            y_idx += x_idx + 1\n",
    "            if not y_chunk.check_pos('名詞'): continue\n",
    "            x_noun_path_idx = [x_idx]\n",
    "            rec(x_chunk, sentence, x_noun_path_idx)\n",
    "            y_noun_path_idx = [y_idx]\n",
    "            rec(y_chunk, sentence, y_noun_path_idx)\n",
    "            while x_noun_path_idx and y_noun_path_idx and x_noun_path_idx[-1] == y_noun_path_idx[-1]:\n",
    "                x_noun = x_noun_path_idx.pop(-1)\n",
    "                y_noun = y_noun_path_idx.pop(-1)\n",
    "            if y_noun_path_idx:\n",
    "                out_str = ''\n",
    "                x_noun_path = noun_path_idx2noun_path(x_noun_path_idx, sentence)\n",
    "                x_noun_path[0] = mask(x_chunk, 'X')\n",
    "                out_str += ' -> '.join(x_noun_path) + ' | '\n",
    "                y_noun_path = noun_path_idx2noun_path(y_noun_path_idx, sentence)\n",
    "                y_noun_path[0] = mask(y_chunk, 'Y')\n",
    "                out_str += ' -> '.join(y_noun_path) + ' | '\n",
    "                out_str += sentence[x_noun].morphs2string()\n",
    "                noun_to_noun_path_list.append(out_str)\n",
    "            else:\n",
    "                out_str = ''\n",
    "                x_noun_path = noun_path_idx2noun_path(x_noun_path_idx, sentence)\n",
    "                x_noun_path[0] = mask(x_chunk, 'X')\n",
    "                x_noun_path.append(mask(y_chunk, 'Y'))\n",
    "                out_str += ' -> '.join(x_noun_path)\n",
    "                noun_to_noun_path_list.append(out_str)"
   ]
  },
  {
   "cell_type": "code",
   "execution_count": 116,
   "metadata": {},
   "outputs": [
    {
     "name": "stdout",
     "output_type": "stream",
     "text": [
      "Xは -> Yである\n",
      "Xで -> 生れたか | Yが | つかぬ\n",
      "Xでも -> 薄暗い -> Yで\n",
      "Xでも -> 薄暗い -> 所で | Y | 泣いて\n",
      "Xでも -> 薄暗い -> 所で -> 泣いて | Yだけは | 記憶している\n",
      "Xでも -> 薄暗い -> 所で -> 泣いて -> Yしている\n",
      "Xで | Y | 泣いて\n",
      "Xで -> 泣いて | Yだけは | 記憶している\n",
      "Xで -> 泣いて -> Yしている\n",
      "X -> 泣いて | Yだけは | 記憶している\n",
      "X -> 泣いて -> Yしている\n",
      "Xだけは -> Yしている\n",
      "Xは | Yで -> 始めて -> 人間という -> ものを | 見た\n",
      "Xは | Yという -> ものを | 見た\n",
      "Xは | Yを | 見た\n",
      "Xで -> 始めて -> Yという\n",
      "Xで -> 始めて -> 人間という -> Yを\n",
      "Xという -> Yを\n",
      "Xで -> 聞くと | Yは | 種族であったそうだ\n",
      "Xで -> 聞くと | Yという -> 人間中で | 種族であったそうだ\n",
      "Xで -> 聞くと | YYで | 種族であったそうだ\n",
      "Xで -> 聞くと | Y -> 獰悪な | 種族であったそうだ\n",
      "Xで -> 聞くと | Yな | 種族であったそうだ\n",
      "Xで -> 聞くと -> YであったYだ\n",
      "Xは | Yという -> 人間中で | 種族であったそうだ\n",
      "Xは | YYで | 種族であったそうだ\n",
      "Xは | Y -> 獰悪な | 種族であったそうだ\n",
      "Xは | Yな | 種族であったそうだ\n",
      "Xは -> YであったYだ\n",
      "Xという -> YYで\n"
     ]
    }
   ],
   "source": [
    "for idx in range(30):\n",
    "    print(noun_to_noun_path_list[idx])"
   ]
  },
  {
   "cell_type": "markdown",
   "metadata": {},
   "source": [
    "逆方向に係らないからi < jでおけ   \n",
    "名詞句が複数ある場合のマスクどうすんnen"
   ]
  },
  {
   "cell_type": "code",
   "execution_count": null,
   "metadata": {},
   "outputs": [],
   "source": []
  }
 ],
 "metadata": {
  "kernelspec": {
   "display_name": "Python 3",
   "language": "python",
   "name": "python3"
  },
  "language_info": {
   "codemirror_mode": {
    "name": "ipython",
    "version": 3
   },
   "file_extension": ".py",
   "mimetype": "text/x-python",
   "name": "python",
   "nbconvert_exporter": "python",
   "pygments_lexer": "ipython3",
   "version": "3.7.4"
  }
 },
 "nbformat": 4,
 "nbformat_minor": 4
}
