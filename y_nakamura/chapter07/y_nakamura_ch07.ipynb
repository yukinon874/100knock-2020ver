{
 "cells": [
  {
   "cell_type": "markdown",
   "metadata": {},
   "source": [
    "# 60. 単語ベクトルの読み込みと表示"
   ]
  },
  {
   "cell_type": "code",
   "execution_count": 1,
   "metadata": {},
   "outputs": [
    {
     "name": "stderr",
     "output_type": "stream",
     "text": [
      "unable to import 'smart_open.gcs', disabling that module\n"
     ]
    }
   ],
   "source": [
    "import gensim"
   ]
  },
  {
   "cell_type": "code",
   "execution_count": 2,
   "metadata": {},
   "outputs": [],
   "source": [
    "model = gensim.models.KeyedVectors.load_word2vec_format('./data/GoogleNews-vectors-negative300.bin', binary=True)"
   ]
  },
  {
   "cell_type": "code",
   "execution_count": 3,
   "metadata": {
    "scrolled": true
   },
   "outputs": [
    {
     "data": {
      "text/plain": [
       "array([-3.61328125e-02, -4.83398438e-02,  2.35351562e-01,  1.74804688e-01,\n",
       "       -1.46484375e-01, -7.42187500e-02, -1.01562500e-01, -7.71484375e-02,\n",
       "        1.09375000e-01, -5.71289062e-02, -1.48437500e-01, -6.00585938e-02,\n",
       "        1.74804688e-01, -7.71484375e-02,  2.58789062e-02, -7.66601562e-02,\n",
       "       -3.80859375e-02,  1.35742188e-01,  3.75976562e-02, -4.19921875e-02,\n",
       "       -3.56445312e-02,  5.34667969e-02,  3.68118286e-04, -1.66992188e-01,\n",
       "       -1.17187500e-01,  1.41601562e-01, -1.69921875e-01, -6.49414062e-02,\n",
       "       -1.66992188e-01,  1.00585938e-01,  1.15722656e-01, -2.18750000e-01,\n",
       "       -9.86328125e-02, -2.56347656e-02,  1.23046875e-01, -3.54003906e-02,\n",
       "       -1.58203125e-01, -1.60156250e-01,  2.94189453e-02,  8.15429688e-02,\n",
       "        6.88476562e-02,  1.87500000e-01,  6.49414062e-02,  1.15234375e-01,\n",
       "       -2.27050781e-02,  3.32031250e-01, -3.27148438e-02,  1.77734375e-01,\n",
       "       -2.08007812e-01,  4.54101562e-02, -1.23901367e-02,  1.19628906e-01,\n",
       "        7.44628906e-03, -9.03320312e-03,  1.14257812e-01,  1.69921875e-01,\n",
       "       -2.38281250e-01, -2.79541016e-02, -1.21093750e-01,  2.47802734e-02,\n",
       "        7.71484375e-02, -2.81982422e-02, -4.71191406e-02,  1.78222656e-02,\n",
       "       -1.23046875e-01, -5.32226562e-02,  2.68554688e-02, -3.11279297e-02,\n",
       "       -5.59082031e-02, -5.00488281e-02, -3.73535156e-02,  1.25976562e-01,\n",
       "        5.61523438e-02,  1.51367188e-01,  4.29687500e-02, -2.08007812e-01,\n",
       "       -4.78515625e-02,  2.78320312e-02,  1.81640625e-01,  2.20703125e-01,\n",
       "       -3.61328125e-02, -8.39843750e-02, -3.69548798e-05, -9.52148438e-02,\n",
       "       -1.25000000e-01, -1.95312500e-01, -1.50390625e-01, -4.15039062e-02,\n",
       "        1.31835938e-01,  1.17675781e-01,  1.91650391e-02,  5.51757812e-02,\n",
       "       -9.42382812e-02, -1.08886719e-01,  7.32421875e-02, -1.15234375e-01,\n",
       "        8.93554688e-02, -1.40625000e-01,  1.45507812e-01,  4.49218750e-02,\n",
       "       -1.10473633e-02, -1.62353516e-02,  4.05883789e-03,  3.75976562e-02,\n",
       "       -6.98242188e-02, -5.46875000e-02,  2.17285156e-02, -9.47265625e-02,\n",
       "        4.24804688e-02,  1.81884766e-02, -1.73339844e-02,  4.63867188e-02,\n",
       "       -1.42578125e-01,  1.99218750e-01,  1.10839844e-01,  2.58789062e-02,\n",
       "       -7.08007812e-02, -5.54199219e-02,  3.45703125e-01,  1.61132812e-01,\n",
       "       -2.44140625e-01, -2.59765625e-01, -9.71679688e-02,  8.00781250e-02,\n",
       "       -8.78906250e-02, -7.22656250e-02,  1.42578125e-01, -8.54492188e-02,\n",
       "       -3.18359375e-01,  8.30078125e-02,  6.34765625e-02,  1.64062500e-01,\n",
       "       -1.92382812e-01, -1.17675781e-01, -5.41992188e-02, -1.56250000e-01,\n",
       "       -1.21582031e-01, -4.95605469e-02,  1.20117188e-01, -3.83300781e-02,\n",
       "        5.51757812e-02, -8.97216797e-03,  4.32128906e-02,  6.93359375e-02,\n",
       "        8.93554688e-02,  2.53906250e-01,  1.65039062e-01,  1.64062500e-01,\n",
       "       -1.41601562e-01,  4.58984375e-02,  1.97265625e-01, -8.98437500e-02,\n",
       "        3.90625000e-02, -1.51367188e-01, -8.60595703e-03, -1.17675781e-01,\n",
       "       -1.97265625e-01, -1.12792969e-01,  1.29882812e-01,  1.96289062e-01,\n",
       "        1.56402588e-03,  3.93066406e-02,  2.17773438e-01, -1.43554688e-01,\n",
       "        6.03027344e-02, -1.35742188e-01,  1.16210938e-01, -1.59912109e-02,\n",
       "        2.79296875e-01,  1.46484375e-01, -1.19628906e-01,  1.76757812e-01,\n",
       "        1.28906250e-01, -1.49414062e-01,  6.93359375e-02, -1.72851562e-01,\n",
       "        9.22851562e-02,  1.33056641e-02, -2.00195312e-01, -9.76562500e-02,\n",
       "       -1.65039062e-01, -2.46093750e-01, -2.35595703e-02, -2.11914062e-01,\n",
       "        1.84570312e-01, -1.85546875e-02,  2.16796875e-01,  5.05371094e-02,\n",
       "        2.02636719e-02,  4.25781250e-01,  1.28906250e-01, -2.77099609e-02,\n",
       "        1.29882812e-01, -1.15722656e-01, -2.05078125e-02,  1.49414062e-01,\n",
       "        7.81250000e-03, -2.05078125e-01, -8.05664062e-02, -2.67578125e-01,\n",
       "       -2.29492188e-02, -8.20312500e-02,  8.64257812e-02,  7.61718750e-02,\n",
       "       -3.66210938e-02,  5.22460938e-02, -1.22070312e-01, -1.44042969e-02,\n",
       "       -2.69531250e-01,  8.44726562e-02, -2.52685547e-02, -2.96630859e-02,\n",
       "       -1.68945312e-01,  1.93359375e-01, -1.08398438e-01,  1.94091797e-02,\n",
       "       -1.80664062e-01,  1.93359375e-01, -7.08007812e-02,  5.85937500e-02,\n",
       "       -1.01562500e-01, -1.31835938e-01,  7.51953125e-02, -7.66601562e-02,\n",
       "        3.37219238e-03, -8.59375000e-02,  1.25000000e-01,  2.92968750e-02,\n",
       "        1.70898438e-01, -9.37500000e-02, -1.09375000e-01, -2.50244141e-02,\n",
       "        2.11914062e-01, -4.44335938e-02,  6.12792969e-02,  2.62451172e-02,\n",
       "       -1.77734375e-01,  1.23046875e-01, -7.42187500e-02, -1.67968750e-01,\n",
       "       -1.08886719e-01, -9.04083252e-04, -7.37304688e-02,  5.49316406e-02,\n",
       "        6.03027344e-02,  8.39843750e-02,  9.17968750e-02, -1.32812500e-01,\n",
       "        1.22070312e-01, -8.78906250e-03,  1.19140625e-01, -1.94335938e-01,\n",
       "       -6.64062500e-02, -2.07031250e-01,  7.37304688e-02,  8.93554688e-02,\n",
       "        1.81884766e-02, -1.20605469e-01, -2.61230469e-02,  2.67333984e-02,\n",
       "        7.76367188e-02, -8.30078125e-02,  6.78710938e-02, -3.54003906e-02,\n",
       "        3.10546875e-01, -2.42919922e-02, -1.41601562e-01, -2.08007812e-01,\n",
       "       -4.57763672e-03, -6.54296875e-02, -4.95605469e-02,  2.22656250e-01,\n",
       "        1.53320312e-01, -1.38671875e-01, -5.24902344e-02,  4.24804688e-02,\n",
       "       -2.38281250e-01,  1.56250000e-01,  5.83648682e-04, -1.20605469e-01,\n",
       "       -9.22851562e-02, -4.44335938e-02,  3.61328125e-02, -1.86767578e-02,\n",
       "       -8.25195312e-02, -8.25195312e-02, -4.05273438e-02,  1.19018555e-02,\n",
       "        1.69921875e-01, -2.80761719e-02,  3.03649902e-03,  9.32617188e-02,\n",
       "       -8.49609375e-02,  1.57470703e-02,  7.03125000e-02,  1.62353516e-02,\n",
       "       -2.27050781e-02,  3.51562500e-02,  2.47070312e-01, -2.67333984e-02],\n",
       "      dtype=float32)"
      ]
     },
     "execution_count": 3,
     "metadata": {},
     "output_type": "execute_result"
    }
   ],
   "source": [
    "model['United_States']"
   ]
  },
  {
   "cell_type": "markdown",
   "metadata": {},
   "source": [
    "# 61. 単語の類似度"
   ]
  },
  {
   "cell_type": "code",
   "execution_count": 4,
   "metadata": {},
   "outputs": [
    {
     "data": {
      "text/plain": [
       "0.73107743"
      ]
     },
     "execution_count": 4,
     "metadata": {},
     "output_type": "execute_result"
    }
   ],
   "source": [
    "model.similarity('United_States', 'U.S.')"
   ]
  },
  {
   "cell_type": "markdown",
   "metadata": {},
   "source": [
    "# 62. 類似度の高い単語10件"
   ]
  },
  {
   "cell_type": "code",
   "execution_count": 5,
   "metadata": {},
   "outputs": [
    {
     "data": {
      "text/plain": [
       "[('Unites_States', 0.7877248525619507),\n",
       " ('Untied_States', 0.7541370391845703),\n",
       " ('United_Sates', 0.74007248878479),\n",
       " ('U.S.', 0.7310774326324463),\n",
       " ('theUnited_States', 0.6404393911361694),\n",
       " ('America', 0.6178410053253174),\n",
       " ('UnitedStates', 0.6167312264442444),\n",
       " ('Europe', 0.6132988929748535),\n",
       " ('countries', 0.6044804453849792),\n",
       " ('Canada', 0.6019070148468018)]"
      ]
     },
     "execution_count": 5,
     "metadata": {},
     "output_type": "execute_result"
    }
   ],
   "source": [
    "model.most_similar('United_States')"
   ]
  },
  {
   "cell_type": "markdown",
   "metadata": {},
   "source": [
    "# 63. 加法構成性によるアナロジー"
   ]
  },
  {
   "cell_type": "code",
   "execution_count": 6,
   "metadata": {},
   "outputs": [
    {
     "data": {
      "text/plain": [
       "[('Greece', 0.6898480653762817),\n",
       " ('Aristeidis_Grigoriadis', 0.5606849193572998),\n",
       " ('Ioannis_Drymonakos', 0.555290937423706),\n",
       " ('Greeks', 0.5450686812400818),\n",
       " ('Ioannis_Christou', 0.5400862693786621),\n",
       " ('Hrysopiyi_Devetzi', 0.5248445272445679),\n",
       " ('Heraklio', 0.5207759141921997),\n",
       " ('Athens_Greece', 0.516880989074707),\n",
       " ('Lithuania', 0.5166865587234497),\n",
       " ('Iraklion', 0.5146791338920593)]"
      ]
     },
     "execution_count": 6,
     "metadata": {},
     "output_type": "execute_result"
    }
   ],
   "source": [
    "model.most_similar(positive=['Spain', 'Athens'], negative=['Madrid'])"
   ]
  },
  {
   "cell_type": "markdown",
   "metadata": {},
   "source": [
    "# 64. アナロジーデータでの実験"
   ]
  },
  {
   "cell_type": "code",
   "execution_count": 51,
   "metadata": {},
   "outputs": [
    {
     "name": "stdout",
     "output_type": "stream",
     "text": [
      ": capital-common-countries\n",
      "Athens Greece Baghdad Iraq\n",
      "Athens Greece Bangkok Thailand\n",
      "Athens Greece Beijing China\n",
      "Athens Greece Berlin Germany\n",
      "Athens Greece Bern Switzerland\n",
      "Athens Greece Cairo Egypt\n",
      "Athens Greece Canberra Australia\n",
      "Athens Greece Hanoi Vietnam\n",
      "Athens Greece Havana Cuba\n",
      "cat: write error: Broken pipe\n"
     ]
    }
   ],
   "source": [
    "!cat data/questions-words-original.txt | head"
   ]
  },
  {
   "cell_type": "code",
   "execution_count": 54,
   "metadata": {},
   "outputs": [],
   "source": [
    "with open('./data/questions-words-original.txt', mode='r') as in_file:\n",
    "    with open('./work/questions-words.txt', mode='w') as out_file:\n",
    "        for data in in_file:\n",
    "            if data[0] != ':':\n",
    "                data = data.rstrip('\\n')\n",
    "                splited_data = data.split()\n",
    "                most_similar_result = model.most_similar(positive=[splited_data[1], splited_data[2]], negative=[splited_data[0]], topn=1)\n",
    "                data = ' '.join([data, most_similar_result[0][0], str(most_similar_result[0][1])]) + '\\n'\n",
    "            out_file.write(data)"
   ]
  },
  {
   "cell_type": "code",
   "execution_count": 1,
   "metadata": {},
   "outputs": [
    {
     "name": "stdout",
     "output_type": "stream",
     "text": [
      ": capital-common-countries\n",
      "Athens Greece Baghdad Iraq Iraqi 0.6351871490478516\n",
      "Athens Greece Bangkok Thailand Thailand 0.7137669324874878\n",
      "Athens Greece Beijing China China 0.7235777974128723\n",
      "Athens Greece Berlin Germany Germany 0.6734622716903687\n",
      "Athens Greece Bern Switzerland Switzerland 0.4919748306274414\n",
      "Athens Greece Cairo Egypt Egypt 0.7527809739112854\n",
      "Athens Greece Canberra Australia Australia 0.583732545375824\n",
      "Athens Greece Hanoi Vietnam Viet_Nam 0.6276341676712036\n",
      "Athens Greece Havana Cuba Cuba 0.6460991501808167\n",
      "cat: write error: Broken pipe\n"
     ]
    }
   ],
   "source": [
    "!cat work/questions-words.txt | head"
   ]
  },
  {
   "cell_type": "markdown",
   "metadata": {},
   "source": [
    "# 65. アナロジータスクでの正解率"
   ]
  },
  {
   "cell_type": "code",
   "execution_count": 56,
   "metadata": {},
   "outputs": [
    {
     "name": "stdout",
     "output_type": "stream",
     "text": [
      "correct answer rate(semantic analogy) : 0.7308602999210734\n",
      "correct answer rate(syntactic_analogy): 0.7400468384074942\n"
     ]
    }
   ],
   "source": [
    "from itertools import islice\n",
    "\n",
    "def calc_correct_answer_rate(data_iter):\n",
    "    num_correct = 0\n",
    "    num_data = 0\n",
    "    for data in data_iter:\n",
    "        if data[0] == ':': continue\n",
    "        splited_data = data.split() \n",
    "        if splited_data[3] == splited_data[4]: num_correct += 1\n",
    "        num_data += 1\n",
    "    return num_correct / num_data\n",
    "    \n",
    "\n",
    "with open('./work/questions-words.txt', mode='r') as in_file:\n",
    "    semantic_analogy_size = 8874\n",
    "    semantic_analogy_iter = islice(in_file, semantic_analogy_size)\n",
    "    correct_answer_rate_semantic_analogy = calc_correct_answer_rate(semantic_analogy_iter)\n",
    "    print(f'correct answer rate(semantic analogy) : {correct_answer_rate_semantic_analogy}')\n",
    "    syntactic_analogy_size = 10684\n",
    "    syntactic_analogy_iter = islice(in_file, syntactic_analogy_size)\n",
    "    correct_answer_rate_syntactic_analogy = calc_correct_answer_rate(syntactic_analogy_iter)\n",
    "    print(f'correct answer rate(syntactic_analogy): {correct_answer_rate_syntactic_analogy}') "
   ]
  },
  {
   "cell_type": "markdown",
   "metadata": {},
   "source": [
    "# 66. WordSimilarity-353での評価"
   ]
  },
  {
   "cell_type": "code",
   "execution_count": 57,
   "metadata": {},
   "outputs": [],
   "source": [
    "import pandas as pd\n",
    "import pprint\n",
    "from scipy.stats import spearmanr"
   ]
  },
  {
   "cell_type": "code",
   "execution_count": 58,
   "metadata": {},
   "outputs": [],
   "source": [
    "col_names = ['Word1', 'Word2', 'Human']\n",
    "df = pd.read_csv(\"./data/wordsim353/combined.csv\", encoding=\"UTF-8\", names=col_names)\n",
    "row_size, _ = df.shape\n",
    "data_list = [{} for _ in range(row_size - 1)]\n",
    "for data_name in col_names:\n",
    "    for idx, frame in enumerate(df[1:][data_name]):\n",
    "        data_list[idx][data_name] = frame"
   ]
  },
  {
   "cell_type": "code",
   "execution_count": 59,
   "metadata": {},
   "outputs": [],
   "source": [
    "similarity = list()\n",
    "human_score = list()\n",
    "for idx, data in enumerate(data_list):\n",
    "    word1 = data['Word1']\n",
    "    word2 = data['Word2']\n",
    "    similarity.append([word1, word2, model.similarity(word1, word2), idx])\n",
    "    human_score.append([word1, word2, data['Human'], idx])\n",
    "sorted_similarity = sorted(similarity, reverse=True, key=lambda x: x[2])\n",
    "sorted_human_score = sorted(human_score, reverse=True, key=lambda x: x[2])"
   ]
  },
  {
   "cell_type": "code",
   "execution_count": 60,
   "metadata": {},
   "outputs": [
    {
     "name": "stdout",
     "output_type": "stream",
     "text": [
      "[['tiger', 'tiger', 1.0, 2],\n",
      " ['Harvard', 'Yale', 0.7817695, 209],\n",
      " ['man', 'woman', 0.76640123, 306],\n",
      " ['football', 'soccer', 0.73135483, 42],\n",
      " ['mile', 'kilometer', 0.7258478, 170],\n",
      " ['vodka', 'brandy', 0.6881493, 59],\n",
      " ['journey', 'voyage', 0.68308526, 68],\n",
      " ['football', 'basketball', 0.66824687, 43],\n",
      " ['type', 'kind', 0.66664124, 236],\n",
      " ['championship', 'tournament', 0.66553164, 296]]\n",
      "[['fuck', 'sex', '9.44', 40],\n",
      " ['journey', 'voyage', '9.29', 68],\n",
      " ['midday', 'noon', '9.29', 73],\n",
      " ['dollar', 'buck', '9.22', 266],\n",
      " ['money', 'cash', '9.15', 31],\n",
      " ['coast', 'shore', '9.10', 70],\n",
      " ['money', 'cash', '9.08', 97],\n",
      " ['money', 'currency', '9.04', 98],\n",
      " ['football', 'soccer', '9.03', 42],\n",
      " ['magician', 'wizard', '9.02', 72]]\n"
     ]
    }
   ],
   "source": [
    "pprint.pprint(sorted_similarity[:10])\n",
    "pprint.pprint(sorted_human_score[:10])"
   ]
  },
  {
   "cell_type": "code",
   "execution_count": 61,
   "metadata": {},
   "outputs": [],
   "source": [
    "rank_similarity = [0] * len(sorted_similarity)\n",
    "for rank, data in enumerate(sorted_similarity):\n",
    "    rank_similarity[data[3]] = rank + 1\n",
    "    \n",
    "rank_human_score = [0] * len(sorted_human_score)\n",
    "for rank, data in enumerate(sorted_human_score):\n",
    "    rank_human_score[data[3]] = rank + 1\n",
    "\n",
    "correlation, pvalue = spearmanr(rank_similarity, rank_human_score)"
   ]
  },
  {
   "cell_type": "code",
   "execution_count": 62,
   "metadata": {},
   "outputs": [
    {
     "name": "stdout",
     "output_type": "stream",
     "text": [
      "0.6848782939104398 3.449094093160346e-50\n"
     ]
    }
   ],
   "source": [
    "print(correlation, pvalue)"
   ]
  },
  {
   "cell_type": "markdown",
   "metadata": {},
   "source": [
    "# 67. k-meansクラスタリング"
   ]
  },
  {
   "cell_type": "code",
   "execution_count": 68,
   "metadata": {},
   "outputs": [],
   "source": [
    "!cut -f 1 < ./data/country-data-wiki.txt > ./work/country-names.txt"
   ]
  },
  {
   "cell_type": "code",
   "execution_count": 80,
   "metadata": {},
   "outputs": [],
   "source": [
    "country_list = list()\n",
    "country_vec = list()\n",
    "with open('./work/country-names.txt', mode='r') as in_file:\n",
    "    for data in in_file:\n",
    "        data = data.strip()\n",
    "        data = data.replace(' ', '_')\n",
    "        try:\n",
    "            country_vec.append(model[data])\n",
    "            country_list.append(data)\n",
    "        except KeyError:\n",
    "            pass"
   ]
  },
  {
   "cell_type": "code",
   "execution_count": 81,
   "metadata": {},
   "outputs": [
    {
     "name": "stdout",
     "output_type": "stream",
     "text": [
      "197\n"
     ]
    }
   ],
   "source": [
    "print(len(country_list))"
   ]
  },
  {
   "cell_type": "code",
   "execution_count": 82,
   "metadata": {},
   "outputs": [],
   "source": [
    "import numpy as np\n",
    "from sklearn.cluster import KMeans"
   ]
  },
  {
   "cell_type": "code",
   "execution_count": 83,
   "metadata": {
    "scrolled": true
   },
   "outputs": [
    {
     "name": "stdout",
     "output_type": "stream",
     "text": [
      "Afghanistan 0\n",
      "Åland_Islands 2\n",
      "Albania 2\n",
      "Algeria 3\n",
      "Andorra 2\n",
      "Angola 3\n",
      "Anguilla 1\n",
      "Antarctica 1\n",
      "Argentina 2\n",
      "Armenia 2\n",
      "Aruba 1\n",
      "Australia 0\n",
      "Austria 2\n",
      "Azerbaijan 2\n",
      "Bahamas 1\n",
      "Bahrain 0\n",
      "Bangladesh 0\n",
      "Barbados 1\n",
      "Belarus 2\n",
      "Belgium 2\n",
      "Belize 1\n",
      "Benin 3\n",
      "Bermuda 1\n",
      "Bhutan 0\n",
      "Botswana 3\n",
      "Bouvet_Island 1\n",
      "Brazil 1\n",
      "Brunei_Darussalam 0\n",
      "Bulgaria 2\n",
      "Burkina_Faso 3\n",
      "Burundi 3\n",
      "Cabo_Verde 1\n",
      "Cambodia 0\n",
      "Cameroon 3\n",
      "Canada 1\n",
      "Cayman_Islands 1\n",
      "Chad 1\n",
      "Chile 1\n",
      "China 0\n",
      "Colombia 1\n",
      "Comoros 3\n",
      "Congo 3\n",
      "Cook_Islands 4\n",
      "Costa_Rica 1\n",
      "Croatia 2\n",
      "Cuba 1\n",
      "Curaçao 1\n",
      "Cyprus 2\n",
      "Czechia 2\n",
      "Denmark 2\n",
      "Djibouti 3\n",
      "Dominica 1\n",
      "Dominican_Republic 1\n",
      "Ecuador 1\n",
      "Egypt 0\n",
      "El_Salvador 1\n",
      "Equatorial_Guinea 3\n",
      "Eritrea 3\n",
      "Estonia 2\n",
      "Ethiopia 3\n",
      "Faroe_Islands 2\n",
      "Fiji 4\n",
      "Finland 2\n",
      "France 2\n",
      "French_Guiana 1\n",
      "French_Polynesia 4\n",
      "Gabon 3\n",
      "Gambia 3\n",
      "Georgia 2\n",
      "Germany 2\n",
      "Ghana 3\n",
      "Gibraltar 1\n",
      "Greece 2\n",
      "Greenland 1\n",
      "Grenada 1\n",
      "Guadeloupe 1\n",
      "Guam 4\n",
      "Guatemala 1\n",
      "Guernsey 1\n",
      "Guinea 3\n",
      "Guyana 1\n",
      "Haiti 1\n",
      "Holy_See 2\n",
      "Honduras 1\n",
      "Hong_Kong 0\n",
      "Hungary 2\n",
      "Iceland 2\n",
      "India 0\n",
      "Indonesia 0\n",
      "Iraq 0\n",
      "Ireland 2\n",
      "Israel 0\n",
      "Italy 2\n",
      "Jamaica 1\n",
      "Japan 0\n",
      "Jersey 1\n",
      "Jordan 0\n",
      "Kazakhstan 2\n",
      "Kenya 3\n",
      "Kiribati 4\n",
      "Kuwait 0\n",
      "Kyrgyzstan 0\n",
      "Latvia 2\n",
      "Lebanon 0\n",
      "Lesotho 3\n",
      "Liberia 3\n",
      "Libya 3\n",
      "Liechtenstein 2\n",
      "Lithuania 2\n",
      "Luxembourg 2\n",
      "Macao 0\n",
      "Madagascar 3\n",
      "Malawi 3\n",
      "Malaysia 0\n",
      "Maldives 4\n",
      "Mali 3\n",
      "Malta 2\n",
      "Marshall_Islands 4\n",
      "Martinique 1\n",
      "Mauritania 3\n",
      "Mauritius 1\n",
      "Mayotte 1\n",
      "Mexico 1\n",
      "Monaco 2\n",
      "Mongolia 0\n",
      "Montenegro 2\n",
      "Montserrat 1\n",
      "Morocco 0\n",
      "Mozambique 3\n",
      "Myanmar 0\n",
      "Namibia 3\n",
      "Nauru 4\n",
      "Nepal 0\n",
      "Netherlands 2\n",
      "New_Zealand 4\n",
      "Nicaragua 1\n",
      "Niger 3\n",
      "Nigeria 3\n",
      "Niue 4\n",
      "Northern_Mariana_Islands 4\n",
      "Norway 2\n",
      "Oman 0\n",
      "Pakistan 0\n",
      "Palau 4\n",
      "Panama 1\n",
      "Paraguay 2\n",
      "Peru 1\n",
      "Philippines 0\n",
      "Pitcairn 1\n",
      "Poland 2\n",
      "Portugal 2\n",
      "Puerto_Rico 1\n",
      "Qatar 0\n",
      "Réunion 1\n",
      "Romania 2\n",
      "Rwanda 3\n",
      "Saint_Barthélemy 1\n",
      "Saint_Lucia 1\n",
      "Samoa 4\n",
      "San_Marino 2\n",
      "Saudi_Arabia 0\n",
      "Senegal 3\n",
      "Serbia 2\n",
      "Seychelles 4\n",
      "Sierra_Leone 3\n",
      "Singapore 0\n",
      "Slovakia 2\n",
      "Slovenia 2\n",
      "Solomon_Islands 4\n",
      "Somalia 3\n",
      "South_Africa 3\n",
      "Spain 2\n",
      "Sri_Lanka 0\n",
      "Sudan 3\n",
      "Suriname 1\n",
      "Sweden 2\n",
      "Switzerland 2\n",
      "Tajikistan 0\n",
      "Thailand 0\n",
      "Togo 3\n",
      "Tokelau 4\n",
      "Tonga 4\n",
      "Tunisia 3\n",
      "Turkey 2\n",
      "Turkmenistan 0\n",
      "Tuvalu 4\n",
      "Uganda 3\n",
      "Ukraine 2\n",
      "United_Arab_Emirates 0\n",
      "Uruguay 2\n",
      "Uzbekistan 0\n",
      "Vanuatu 4\n",
      "Viet_Nam 0\n",
      "Western_Sahara 3\n",
      "Yemen 0\n",
      "Zambia 3\n",
      "Zimbabwe 3\n"
     ]
    }
   ],
   "source": [
    "result_pred = KMeans(n_clusters = 5).fit_predict(country_vec)\n",
    "for (country, pred) in zip(country_list, result_pred):\n",
    "    print(country, pred)"
   ]
  },
  {
   "cell_type": "code",
   "execution_count": null,
   "metadata": {},
   "outputs": [],
   "source": [
    "import numpy as np\n",
    "from sklearn.base import BaseEstimator, ClusterMixin\n",
    "from random import randint\n",
    "\n",
    "class myKMeans(BaseEstimator, ClusterMixin):\n",
    "\n",
    "    def __init__(self, n_clusters=2, max_iter=10, random_state=False, init='random',\n",
    "               algorithm = 'full', n_init=10, n_jobs=1, tol=1e-4, verbose=False):\n",
    "        self.n_clusters = n_clusters\n",
    "        self.max_iter = max_iter\n",
    "        self.random_state = random_state\n",
    "        self.init = init #実装してない\n",
    "        self.algorithm = algorithm #実装してない\n",
    "        self.n_init = n_init\n",
    "        self.tol = tol\n",
    "        self.n_jobs = n_jobs #実装してない\n",
    "        self.verbose = verbose #実装してない\n",
    "\n",
    "    def fit(self, X, y=None):\n",
    "        self.inertia_ = np.inf\n",
    "        for iter in range(self.n_init):\n",
    "            if self.random_state==False:\n",
    "                np.random.seed(seed=1)\n",
    "            cluster_centers = None\n",
    "            n_iter = None\n",
    "            inertia = np.inf\n",
    "            #初期化はラベルをランダムで振り分ける(実装によっては重心を要素の中から決める方法もある)\n",
    "            now_pred = np.random.randint(0, self.n_clusters, len(X))\n",
    "            for _ in range(self.max_iter):\n",
    "                cluster_centers = np.array([X[now_pred == i].mean(axis=0)\n",
    "                    for i in range(self.n_clusters)])\n",
    "                new_pred = np.array([\n",
    "                    np.array([\n",
    "                        self.distance_(p, centroid)\n",
    "                            for centroid in cluster_centers\n",
    "                    ]).argmin()\n",
    "                    for p in X\n",
    "                ])\n",
    "                new_inertia = np.sum(\n",
    "                    np.array([\n",
    "                        np.array([\n",
    "                            self.distance_(p, centroid)\n",
    "                                for centroid in cluster_centers\n",
    "                            ]).min()\n",
    "                        for p in X\n",
    "                    ])\n",
    "                )\n",
    "\n",
    "                if abs(new_inertia - inertia) < self.tol:\n",
    "                    n_iter = _\n",
    "                    break\n",
    "                inertia = new_inertia\n",
    "                now_pred = new_pred\n",
    "\n",
    "            if self.inertia_ > inertia:\n",
    "                self.n_iter_ = n_iter\n",
    "                self.inertia_ = inertia\n",
    "                self.labels_ = now_pred\n",
    "                self.cluster_centers_ = cluster_centers\n",
    "        return self.labels_\n",
    "\n",
    "    def distance_(self, a, b):\n",
    "        return np.sum((a - b) ** 2)"
   ]
  },
  {
   "cell_type": "code",
   "execution_count": null,
   "metadata": {},
   "outputs": [],
   "source": [
    "my_kmeans = myKMeans(n_clusters = 5)\n",
    "my_result_pred = my_kmeans.fit_predict(np.array(country_vec))"
   ]
  },
  {
   "cell_type": "markdown",
   "metadata": {},
   "source": [
    "# 68. Ward法によるクラスタリング"
   ]
  },
  {
   "cell_type": "code",
   "execution_count": 84,
   "metadata": {},
   "outputs": [],
   "source": [
    "%matplotlib inline\n",
    "from matplotlib import pyplot as plt\n",
    "from scipy.cluster.hierarchy import dendrogram, linkage"
   ]
  },
  {
   "cell_type": "code",
   "execution_count": 85,
   "metadata": {},
   "outputs": [],
   "source": [
    "Z = linkage(country_vec, method='ward', metric='euclidean')"
   ]
  },
  {
   "cell_type": "code",
   "execution_count": 86,
   "metadata": {},
   "outputs": [
    {
     "data": {
      "image/png": "[encoded data removed]",
      "text/plain": [
       "<Figure size 432x288 with 1 Axes>"
      ]
     },
     "metadata": {
      "needs_background": "light"
     },
     "output_type": "display_data"
    }
   ],
   "source": [
    "plt.figure()\n",
    "dendrogram(Z, labels = country_list)\n",
    "plt.show()"
   ]
  },
  {
   "cell_type": "markdown",
   "metadata": {},
   "source": [
    "# 69. t-SNEによる可視化"
   ]
  },
  {
   "cell_type": "code",
   "execution_count": 88,
   "metadata": {},
   "outputs": [],
   "source": [
    "from sklearn.manifold import TSNE"
   ]
  },
  {
   "cell_type": "code",
   "execution_count": 90,
   "metadata": {},
   "outputs": [
    {
     "data": {
      "text/plain": [
       "(197, 2)"
      ]
     },
     "execution_count": 90,
     "metadata": {},
     "output_type": "execute_result"
    }
   ],
   "source": [
    "X_embedded = TSNE(n_components=2).fit_transform(country_vec)\n",
    "X_embedded.shape"
   ]
  },
  {
   "cell_type": "code",
   "execution_count": 91,
   "metadata": {},
   "outputs": [
    {
     "data": {
      "image/png": "[encoded data removed]",
      "text/plain": [
       "<Figure size 432x288 with 2 Axes>"
      ]
     },
     "metadata": {
      "needs_background": "light"
     },
     "output_type": "display_data"
    }
   ],
   "source": [
    "plt.figure()\n",
    "plt.scatter(X_embedded[:, 0], X_embedded[:, 1], c = result_pred)\n",
    "plt.colorbar()\n",
    "plt.show()"
   ]
  },
  {
   "cell_type": "code",
   "execution_count": null,
   "metadata": {},
   "outputs": [],
   "source": []
  }
 ],
 "metadata": {
  "kernelspec": {
   "display_name": "Python 3",
   "language": "python",
   "name": "python3"
  },
  "language_info": {
   "codemirror_mode": {
    "name": "ipython",
    "version": 3
   },
   "file_extension": ".py",
   "mimetype": "text/x-python",
   "name": "python",
   "nbconvert_exporter": "python",
   "pygments_lexer": "ipython3",
   "version": "3.7.4"
  }
 },
 "nbformat": 4,
 "nbformat_minor": 4
}
