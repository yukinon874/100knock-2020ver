{
 "cells": [
  {
   "cell_type": "markdown",
   "metadata": {},
   "source": [
    "# 50. データの入手・整形"
   ]
  },
  {
   "cell_type": "code",
   "execution_count": 1,
   "metadata": {},
   "outputs": [],
   "source": [
    "import pandas as pd\n",
    "from random import shuffle"
   ]
  },
  {
   "cell_type": "code",
   "execution_count": 2,
   "metadata": {},
   "outputs": [],
   "source": [
    "data_list = list()\n",
    "with open('./data/NewsAggregatorDataset/newsCorpora.csv', mode = 'r') as f:\n",
    "    for line in f:\n",
    "        splited_line = line.split('\\t')\n",
    "        if splited_line[3] in ['Reuters', 'Huffington Post', 'Businessweek', 'Contactmusic.com', 'Daily Mail']:\n",
    "            data_list.append([splited_line[1], splited_line[4]])\n",
    "\n",
    "row_size = len(data_list)\n",
    "shuffle(data_list)\n",
    "\n",
    "train_size = row_size // 10 * 8\n",
    "valid_size = row_size // 10\n",
    "test_size = row_size // 10\n",
    "\n",
    "path = './work/'\n",
    "file_names = ['train.txt', 'valid.txt', 'test.txt']\n",
    "data_names = ['train_data', 'valid_data', 'test_data']\n",
    "\n",
    "file_data = dict()\n",
    "train_data = data_list[:train_size]\n",
    "valid_data = data_list[train_size:train_size + valid_size]\n",
    "test_data = data_list[-test_size:]\n",
    "\n",
    "file_data['train_data'] = train_data\n",
    "file_data['valid_data'] = valid_data \n",
    "file_data['test_data'] = test_data\n",
    "\n",
    "for idx, file_name in enumerate(file_names):\n",
    "    with open(path + file_name, mode = 'w') as f:\n",
    "        for data in file_data[data_names[idx]]:\n",
    "            f.write('\\t'.join([data[0], data[1]]) + '\\n')"
   ]
  },
  {
   "cell_type": "code",
   "execution_count": 3,
   "metadata": {},
   "outputs": [
    {
     "name": "stdout",
     "output_type": "stream",
     "text": [
      "  1335  15310  89062 ./work/test.txt\n",
      " 10680 122275 713114 ./work/train.txt\n",
      "  1335  15314  89675 ./work/valid.txt\n",
      " 13350 152899 891851 total\n"
     ]
    }
   ],
   "source": [
    "!wc ./work/*.txt"
   ]
  },
  {
   "cell_type": "markdown",
   "metadata": {},
   "source": [
    "# 51. 特徴量抽出"
   ]
  },
  {
   "cell_type": "markdown",
   "metadata": {},
   "source": [
    "0 : ビジネス  \n",
    "1 : 科学技術  \n",
    "2 : エンターテイメント  \n",
    "3 : 健康  "
   ]
  },
  {
   "cell_type": "code",
   "execution_count": 4,
   "metadata": {},
   "outputs": [],
   "source": [
    "def save_file_npy(dir_name, file_name, x):\n",
    "    np.save(f'{dir_name}{file_name}', x)\n",
    "        \n",
    "def load_file_npy(dir_name, file_name):\n",
    "    return np.load(f'{dir_name}{file_name}').astype(np.float32)\n",
    "\n",
    "def chr2num(y):\n",
    "    converter = dict()\n",
    "    converter['b'] = 0\n",
    "    converter['t'] = 1\n",
    "    converter['e'] = 2\n",
    "    converter['m'] = 3\n",
    "    return np.asarray([converter[article_type] for article_type in y])"
   ]
  },
  {
   "cell_type": "code",
   "execution_count": 5,
   "metadata": {},
   "outputs": [],
   "source": [
    "from sklearn.feature_extraction.text import TfidfVectorizer, CountVectorizer\n",
    "import numpy as np"
   ]
  },
  {
   "cell_type": "code",
   "execution_count": 6,
   "metadata": {},
   "outputs": [],
   "source": [
    "vectorizer = TfidfVectorizer()\n",
    "train_tfidf = vectorizer.fit_transform(list(map(lambda x: x[0], train_data)))"
   ]
  },
  {
   "cell_type": "code",
   "execution_count": 7,
   "metadata": {},
   "outputs": [
    {
     "name": "stdout",
     "output_type": "stream",
     "text": [
      "Vocabulary size: 12745\n"
     ]
    }
   ],
   "source": [
    "print('Vocabulary size: {}'.format(train_tfidf.shape[1]))"
   ]
  },
  {
   "cell_type": "code",
   "execution_count": 8,
   "metadata": {},
   "outputs": [
    {
     "data": {
      "text/html": [
       "<div>\n",
       "<style scoped>\n",
       "    .dataframe tbody tr th:only-of-type {\n",
       "        vertical-align: middle;\n",
       "    }\n",
       "\n",
       "    .dataframe tbody tr th {\n",
       "        vertical-align: top;\n",
       "    }\n",
       "\n",
       "    .dataframe thead th {\n",
       "        text-align: right;\n",
       "    }\n",
       "</style>\n",
       "<table border=\"1\" class=\"dataframe\">\n",
       "  <thead>\n",
       "    <tr style=\"text-align: right;\">\n",
       "      <th></th>\n",
       "      <th>00</th>\n",
       "      <th>07</th>\n",
       "      <th>08</th>\n",
       "      <th>09</th>\n",
       "      <th>0ff</th>\n",
       "      <th>0ut</th>\n",
       "      <th>10</th>\n",
       "      <th>100</th>\n",
       "      <th>1000</th>\n",
       "      <th>10000</th>\n",
       "      <th>...</th>\n",
       "      <th>zombie</th>\n",
       "      <th>zombies</th>\n",
       "      <th>zone</th>\n",
       "      <th>zuckerberg</th>\n",
       "      <th>zynga</th>\n",
       "      <th>zâ</th>\n",
       "      <th>œf</th>\n",
       "      <th>œlousyâ</th>\n",
       "      <th>œpiece</th>\n",
       "      <th>œwaist</th>\n",
       "    </tr>\n",
       "  </thead>\n",
       "  <tbody>\n",
       "    <tr>\n",
       "      <td>0</td>\n",
       "      <td>0.0</td>\n",
       "      <td>0.0</td>\n",
       "      <td>0.0</td>\n",
       "      <td>0.0</td>\n",
       "      <td>0.0</td>\n",
       "      <td>0.0</td>\n",
       "      <td>0.0</td>\n",
       "      <td>0.0</td>\n",
       "      <td>0.0</td>\n",
       "      <td>0.0</td>\n",
       "      <td>...</td>\n",
       "      <td>0.0</td>\n",
       "      <td>0.0</td>\n",
       "      <td>0.0</td>\n",
       "      <td>0.0</td>\n",
       "      <td>0.0</td>\n",
       "      <td>0.0</td>\n",
       "      <td>0.0</td>\n",
       "      <td>0.0</td>\n",
       "      <td>0.0</td>\n",
       "      <td>0.0</td>\n",
       "    </tr>\n",
       "    <tr>\n",
       "      <td>1</td>\n",
       "      <td>0.0</td>\n",
       "      <td>0.0</td>\n",
       "      <td>0.0</td>\n",
       "      <td>0.0</td>\n",
       "      <td>0.0</td>\n",
       "      <td>0.0</td>\n",
       "      <td>0.0</td>\n",
       "      <td>0.0</td>\n",
       "      <td>0.0</td>\n",
       "      <td>0.0</td>\n",
       "      <td>...</td>\n",
       "      <td>0.0</td>\n",
       "      <td>0.0</td>\n",
       "      <td>0.0</td>\n",
       "      <td>0.0</td>\n",
       "      <td>0.0</td>\n",
       "      <td>0.0</td>\n",
       "      <td>0.0</td>\n",
       "      <td>0.0</td>\n",
       "      <td>0.0</td>\n",
       "      <td>0.0</td>\n",
       "    </tr>\n",
       "    <tr>\n",
       "      <td>2</td>\n",
       "      <td>0.0</td>\n",
       "      <td>0.0</td>\n",
       "      <td>0.0</td>\n",
       "      <td>0.0</td>\n",
       "      <td>0.0</td>\n",
       "      <td>0.0</td>\n",
       "      <td>0.0</td>\n",
       "      <td>0.0</td>\n",
       "      <td>0.0</td>\n",
       "      <td>0.0</td>\n",
       "      <td>...</td>\n",
       "      <td>0.0</td>\n",
       "      <td>0.0</td>\n",
       "      <td>0.0</td>\n",
       "      <td>0.0</td>\n",
       "      <td>0.0</td>\n",
       "      <td>0.0</td>\n",
       "      <td>0.0</td>\n",
       "      <td>0.0</td>\n",
       "      <td>0.0</td>\n",
       "      <td>0.0</td>\n",
       "    </tr>\n",
       "    <tr>\n",
       "      <td>3</td>\n",
       "      <td>0.0</td>\n",
       "      <td>0.0</td>\n",
       "      <td>0.0</td>\n",
       "      <td>0.0</td>\n",
       "      <td>0.0</td>\n",
       "      <td>0.0</td>\n",
       "      <td>0.0</td>\n",
       "      <td>0.0</td>\n",
       "      <td>0.0</td>\n",
       "      <td>0.0</td>\n",
       "      <td>...</td>\n",
       "      <td>0.0</td>\n",
       "      <td>0.0</td>\n",
       "      <td>0.0</td>\n",
       "      <td>0.0</td>\n",
       "      <td>0.0</td>\n",
       "      <td>0.0</td>\n",
       "      <td>0.0</td>\n",
       "      <td>0.0</td>\n",
       "      <td>0.0</td>\n",
       "      <td>0.0</td>\n",
       "    </tr>\n",
       "    <tr>\n",
       "      <td>4</td>\n",
       "      <td>0.0</td>\n",
       "      <td>0.0</td>\n",
       "      <td>0.0</td>\n",
       "      <td>0.0</td>\n",
       "      <td>0.0</td>\n",
       "      <td>0.0</td>\n",
       "      <td>0.0</td>\n",
       "      <td>0.0</td>\n",
       "      <td>0.0</td>\n",
       "      <td>0.0</td>\n",
       "      <td>...</td>\n",
       "      <td>0.0</td>\n",
       "      <td>0.0</td>\n",
       "      <td>0.0</td>\n",
       "      <td>0.0</td>\n",
       "      <td>0.0</td>\n",
       "      <td>0.0</td>\n",
       "      <td>0.0</td>\n",
       "      <td>0.0</td>\n",
       "      <td>0.0</td>\n",
       "      <td>0.0</td>\n",
       "    </tr>\n",
       "    <tr>\n",
       "      <td>...</td>\n",
       "      <td>...</td>\n",
       "      <td>...</td>\n",
       "      <td>...</td>\n",
       "      <td>...</td>\n",
       "      <td>...</td>\n",
       "      <td>...</td>\n",
       "      <td>...</td>\n",
       "      <td>...</td>\n",
       "      <td>...</td>\n",
       "      <td>...</td>\n",
       "      <td>...</td>\n",
       "      <td>...</td>\n",
       "      <td>...</td>\n",
       "      <td>...</td>\n",
       "      <td>...</td>\n",
       "      <td>...</td>\n",
       "      <td>...</td>\n",
       "      <td>...</td>\n",
       "      <td>...</td>\n",
       "      <td>...</td>\n",
       "      <td>...</td>\n",
       "    </tr>\n",
       "    <tr>\n",
       "      <td>10675</td>\n",
       "      <td>0.0</td>\n",
       "      <td>0.0</td>\n",
       "      <td>0.0</td>\n",
       "      <td>0.0</td>\n",
       "      <td>0.0</td>\n",
       "      <td>0.0</td>\n",
       "      <td>0.0</td>\n",
       "      <td>0.0</td>\n",
       "      <td>0.0</td>\n",
       "      <td>0.0</td>\n",
       "      <td>...</td>\n",
       "      <td>0.0</td>\n",
       "      <td>0.0</td>\n",
       "      <td>0.0</td>\n",
       "      <td>0.0</td>\n",
       "      <td>0.0</td>\n",
       "      <td>0.0</td>\n",
       "      <td>0.0</td>\n",
       "      <td>0.0</td>\n",
       "      <td>0.0</td>\n",
       "      <td>0.0</td>\n",
       "    </tr>\n",
       "    <tr>\n",
       "      <td>10676</td>\n",
       "      <td>0.0</td>\n",
       "      <td>0.0</td>\n",
       "      <td>0.0</td>\n",
       "      <td>0.0</td>\n",
       "      <td>0.0</td>\n",
       "      <td>0.0</td>\n",
       "      <td>0.0</td>\n",
       "      <td>0.0</td>\n",
       "      <td>0.0</td>\n",
       "      <td>0.0</td>\n",
       "      <td>...</td>\n",
       "      <td>0.0</td>\n",
       "      <td>0.0</td>\n",
       "      <td>0.0</td>\n",
       "      <td>0.0</td>\n",
       "      <td>0.0</td>\n",
       "      <td>0.0</td>\n",
       "      <td>0.0</td>\n",
       "      <td>0.0</td>\n",
       "      <td>0.0</td>\n",
       "      <td>0.0</td>\n",
       "    </tr>\n",
       "    <tr>\n",
       "      <td>10677</td>\n",
       "      <td>0.0</td>\n",
       "      <td>0.0</td>\n",
       "      <td>0.0</td>\n",
       "      <td>0.0</td>\n",
       "      <td>0.0</td>\n",
       "      <td>0.0</td>\n",
       "      <td>0.0</td>\n",
       "      <td>0.0</td>\n",
       "      <td>0.0</td>\n",
       "      <td>0.0</td>\n",
       "      <td>...</td>\n",
       "      <td>0.0</td>\n",
       "      <td>0.0</td>\n",
       "      <td>0.0</td>\n",
       "      <td>0.0</td>\n",
       "      <td>0.0</td>\n",
       "      <td>0.0</td>\n",
       "      <td>0.0</td>\n",
       "      <td>0.0</td>\n",
       "      <td>0.0</td>\n",
       "      <td>0.0</td>\n",
       "    </tr>\n",
       "    <tr>\n",
       "      <td>10678</td>\n",
       "      <td>0.0</td>\n",
       "      <td>0.0</td>\n",
       "      <td>0.0</td>\n",
       "      <td>0.0</td>\n",
       "      <td>0.0</td>\n",
       "      <td>0.0</td>\n",
       "      <td>0.0</td>\n",
       "      <td>0.0</td>\n",
       "      <td>0.0</td>\n",
       "      <td>0.0</td>\n",
       "      <td>...</td>\n",
       "      <td>0.0</td>\n",
       "      <td>0.0</td>\n",
       "      <td>0.0</td>\n",
       "      <td>0.0</td>\n",
       "      <td>0.0</td>\n",
       "      <td>0.0</td>\n",
       "      <td>0.0</td>\n",
       "      <td>0.0</td>\n",
       "      <td>0.0</td>\n",
       "      <td>0.0</td>\n",
       "    </tr>\n",
       "    <tr>\n",
       "      <td>10679</td>\n",
       "      <td>0.0</td>\n",
       "      <td>0.0</td>\n",
       "      <td>0.0</td>\n",
       "      <td>0.0</td>\n",
       "      <td>0.0</td>\n",
       "      <td>0.0</td>\n",
       "      <td>0.0</td>\n",
       "      <td>0.0</td>\n",
       "      <td>0.0</td>\n",
       "      <td>0.0</td>\n",
       "      <td>...</td>\n",
       "      <td>0.0</td>\n",
       "      <td>0.0</td>\n",
       "      <td>0.0</td>\n",
       "      <td>0.0</td>\n",
       "      <td>0.0</td>\n",
       "      <td>0.0</td>\n",
       "      <td>0.0</td>\n",
       "      <td>0.0</td>\n",
       "      <td>0.0</td>\n",
       "      <td>0.0</td>\n",
       "    </tr>\n",
       "  </tbody>\n",
       "</table>\n",
       "<p>10680 rows × 12745 columns</p>\n",
       "</div>"
      ],
      "text/plain": [
       "        00   07   08   09  0ff  0ut   10  100  1000  10000  ...  zombie  \\\n",
       "0      0.0  0.0  0.0  0.0  0.0  0.0  0.0  0.0   0.0    0.0  ...     0.0   \n",
       "1      0.0  0.0  0.0  0.0  0.0  0.0  0.0  0.0   0.0    0.0  ...     0.0   \n",
       "2      0.0  0.0  0.0  0.0  0.0  0.0  0.0  0.0   0.0    0.0  ...     0.0   \n",
       "3      0.0  0.0  0.0  0.0  0.0  0.0  0.0  0.0   0.0    0.0  ...     0.0   \n",
       "4      0.0  0.0  0.0  0.0  0.0  0.0  0.0  0.0   0.0    0.0  ...     0.0   \n",
       "...    ...  ...  ...  ...  ...  ...  ...  ...   ...    ...  ...     ...   \n",
       "10675  0.0  0.0  0.0  0.0  0.0  0.0  0.0  0.0   0.0    0.0  ...     0.0   \n",
       "10676  0.0  0.0  0.0  0.0  0.0  0.0  0.0  0.0   0.0    0.0  ...     0.0   \n",
       "10677  0.0  0.0  0.0  0.0  0.0  0.0  0.0  0.0   0.0    0.0  ...     0.0   \n",
       "10678  0.0  0.0  0.0  0.0  0.0  0.0  0.0  0.0   0.0    0.0  ...     0.0   \n",
       "10679  0.0  0.0  0.0  0.0  0.0  0.0  0.0  0.0   0.0    0.0  ...     0.0   \n",
       "\n",
       "       zombies  zone  zuckerberg  zynga   zâ   œf  œlousyâ  œpiece  œwaist  \n",
       "0          0.0   0.0         0.0    0.0  0.0  0.0      0.0     0.0     0.0  \n",
       "1          0.0   0.0         0.0    0.0  0.0  0.0      0.0     0.0     0.0  \n",
       "2          0.0   0.0         0.0    0.0  0.0  0.0      0.0     0.0     0.0  \n",
       "3          0.0   0.0         0.0    0.0  0.0  0.0      0.0     0.0     0.0  \n",
       "4          0.0   0.0         0.0    0.0  0.0  0.0      0.0     0.0     0.0  \n",
       "...        ...   ...         ...    ...  ...  ...      ...     ...     ...  \n",
       "10675      0.0   0.0         0.0    0.0  0.0  0.0      0.0     0.0     0.0  \n",
       "10676      0.0   0.0         0.0    0.0  0.0  0.0      0.0     0.0     0.0  \n",
       "10677      0.0   0.0         0.0    0.0  0.0  0.0      0.0     0.0     0.0  \n",
       "10678      0.0   0.0         0.0    0.0  0.0  0.0      0.0     0.0     0.0  \n",
       "10679      0.0   0.0         0.0    0.0  0.0  0.0      0.0     0.0     0.0  \n",
       "\n",
       "[10680 rows x 12745 columns]"
      ]
     },
     "execution_count": 8,
     "metadata": {},
     "output_type": "execute_result"
    }
   ],
   "source": [
    "pd.DataFrame(train_tfidf.toarray(), columns = vectorizer.get_feature_names())"
   ]
  },
  {
   "cell_type": "code",
   "execution_count": 9,
   "metadata": {},
   "outputs": [],
   "source": [
    "valid_tfidf = vectorizer.transform(list(map(lambda x: x[0], valid_data)))\n",
    "test_tfidf = vectorizer.transform(list(map(lambda x: x[0], test_data)))"
   ]
  },
  {
   "cell_type": "code",
   "execution_count": 10,
   "metadata": {},
   "outputs": [],
   "source": [
    "save_file_npy('work/', 'train_feature', train_tfidf.toarray())\n",
    "save_file_npy('work/', 'valid_feature', valid_tfidf.toarray())\n",
    "save_file_npy('work/', 'test_feature', test_tfidf.toarray())"
   ]
  },
  {
   "cell_type": "code",
   "execution_count": 11,
   "metadata": {},
   "outputs": [],
   "source": [
    "train_y = chr2num(list(map(lambda x: x[1], train_data)))\n",
    "valid_y = chr2num(list(map(lambda x: x[1], valid_data)))\n",
    "test_y = chr2num(list(map(lambda x: x[1], test_data)))"
   ]
  },
  {
   "cell_type": "code",
   "execution_count": 12,
   "metadata": {},
   "outputs": [],
   "source": [
    "save_file_npy('work/', 'train_y', train_y)\n",
    "save_file_npy('work/', 'valid_y', valid_y)\n",
    "save_file_npy('work/', 'test_y', test_y)"
   ]
  },
  {
   "cell_type": "markdown",
   "metadata": {},
   "source": [
    "# 52. 学習"
   ]
  },
  {
   "cell_type": "code",
   "execution_count": null,
   "metadata": {},
   "outputs": [],
   "source": [
    "train_x = load_file_npy('work/', 'train_feature.npy')\n",
    "train_y = load_file_npy('work/', 'train_y.npy')\n",
    "valid_x = load_file_npy('work/', 'valid_feature.npy')\n",
    "valid_y = load_file_npy('work/', 'valid_y.npy')\n",
    "test_x = load_file_npy('work/', 'test_feature.npy')\n",
    "test_y = load_file_npy('work/', 'test_y.npy')"
   ]
  },
  {
   "cell_type": "code",
   "execution_count": null,
   "metadata": {},
   "outputs": [],
   "source": [
    "from sklearn.linear_model import LogisticRegression"
   ]
  },
  {
   "cell_type": "code",
   "execution_count": 15,
   "metadata": {},
   "outputs": [
    {
     "name": "stderr",
     "output_type": "stream",
     "text": [
      "/Users/y_nakamura/.pyenv/versions/anaconda3-2019.10/lib/python3.7/site-packages/sklearn/linear_model/logistic.py:432: FutureWarning: Default solver will be changed to 'lbfgs' in 0.22. Specify a solver to silence this warning.\n",
      "  FutureWarning)\n",
      "/Users/y_nakamura/.pyenv/versions/anaconda3-2019.10/lib/python3.7/site-packages/sklearn/linear_model/logistic.py:469: FutureWarning: Default multi_class will be changed to 'auto' in 0.22. Specify the multi_class option to silence this warning.\n",
      "  \"this warning.\", FutureWarning)\n"
     ]
    },
    {
     "data": {
      "text/plain": [
       "LogisticRegression(C=1.0, class_weight=None, dual=False, fit_intercept=True,\n",
       "                   intercept_scaling=1, l1_ratio=None, max_iter=100,\n",
       "                   multi_class='warn', n_jobs=None, penalty='l2',\n",
       "                   random_state=None, solver='warn', tol=0.0001, verbose=0,\n",
       "                   warm_start=False)"
      ]
     },
     "execution_count": 15,
     "metadata": {},
     "output_type": "execute_result"
    }
   ],
   "source": [
    "lr = LogisticRegression()\n",
    "lr.fit(train_x, train_y)"
   ]
  },
  {
   "cell_type": "markdown",
   "metadata": {},
   "source": [
    "# 53. 予測"
   ]
  },
  {
   "cell_type": "code",
   "execution_count": 16,
   "metadata": {},
   "outputs": [],
   "source": [
    "from sklearn.metrics import confusion_matrix, accuracy_score, precision_score, recall_score, f1_score"
   ]
  },
  {
   "cell_type": "code",
   "execution_count": 17,
   "metadata": {},
   "outputs": [],
   "source": [
    "train_pred_y = lr.predict(train_x)\n",
    "test_pred_y = lr.predict(test_x)"
   ]
  },
  {
   "cell_type": "code",
   "execution_count": 18,
   "metadata": {},
   "outputs": [
    {
     "name": "stdout",
     "output_type": "stream",
     "text": [
      "[0. 0. 0. ... 2. 0. 1.]\n"
     ]
    }
   ],
   "source": [
    "print(test_pred_y)"
   ]
  },
  {
   "cell_type": "markdown",
   "metadata": {},
   "source": [
    "# 54. 正解率の計測"
   ]
  },
  {
   "cell_type": "code",
   "execution_count": 19,
   "metadata": {},
   "outputs": [
    {
     "name": "stdout",
     "output_type": "stream",
     "text": [
      "train accuracy = 0.9191947565543072\n",
      "test accuracy = 0.8719101123595505\n"
     ]
    }
   ],
   "source": [
    "print('train accuracy = {}'.format(accuracy_score(y_true = train_y, y_pred = train_pred_y)))\n",
    "print('test accuracy = {}'.format(accuracy_score(y_true = test_y, y_pred = test_pred_y)))"
   ]
  },
  {
   "cell_type": "markdown",
   "metadata": {},
   "source": [
    "# 55. 混同行列の作成"
   ]
  },
  {
   "cell_type": "code",
   "execution_count": 20,
   "metadata": {},
   "outputs": [
    {
     "name": "stdout",
     "output_type": "stream",
     "text": [
      "train confusion matrix = \n",
      " [[4372   34   99    4]\n",
      " [ 214  836  178    3]\n",
      " [  33    4 4176    0]\n",
      " [ 113    3  178  433]]\n"
     ]
    }
   ],
   "source": [
    "print('train confusion matrix = \\n', confusion_matrix(y_true = train_y, y_pred = train_pred_y))"
   ]
  },
  {
   "cell_type": "code",
   "execution_count": 21,
   "metadata": {},
   "outputs": [
    {
     "name": "stdout",
     "output_type": "stream",
     "text": [
      "test confusion matrix = \n",
      " [[531   5  24   1]\n",
      " [ 47  65  37   0]\n",
      " [  5   0 527   0]\n",
      " [ 25   2  25  41]]\n"
     ]
    }
   ],
   "source": [
    "print('test confusion matrix = \\n', confusion_matrix(y_true = test_y, y_pred = test_pred_y))"
   ]
  },
  {
   "cell_type": "markdown",
   "metadata": {},
   "source": [
    "# 56. 適合率，再現率，F1スコアの計測"
   ]
  },
  {
   "cell_type": "code",
   "execution_count": 22,
   "metadata": {},
   "outputs": [
    {
     "name": "stdout",
     "output_type": "stream",
     "text": [
      "precision micro =  0.8719101123595505\n",
      "precision macro =  0.9030074698198732\n",
      "recall micro =  0.8719101123595505\n",
      "recall macro =  0.703556848430635\n",
      "f1 score micro =  0.8719101123595505\n",
      "f1 score macro =  0.7561588739311382\n"
     ]
    }
   ],
   "source": [
    "precision_micro = precision_score(y_true = test_y, y_pred = test_pred_y, average = 'micro')\n",
    "print('precision micro = ', precision_micro)\n",
    "precision_macro = precision_score(y_true = test_y, y_pred = test_pred_y, average = 'macro')\n",
    "print('precision macro = ', precision_macro)\n",
    "recall_micro = recall_score(y_true = test_y, y_pred = test_pred_y, average = 'micro')\n",
    "print('recall micro = ', recall_micro)\n",
    "recall_macro = recall_score(y_true = test_y, y_pred = test_pred_y, average = 'macro')\n",
    "print('recall macro = ', recall_macro)\n",
    "f1_score_micro = f1_score(y_true = test_y, y_pred = test_pred_y, average = 'micro')\n",
    "print('f1 score micro = ', f1_score_micro)\n",
    "f1_score_macro = f1_score(y_true = test_y, y_pred = test_pred_y, average = 'macro')\n",
    "print('f1 score macro = ', f1_score_macro)"
   ]
  },
  {
   "cell_type": "markdown",
   "metadata": {},
   "source": [
    "# 57. 特徴量の重みの確認"
   ]
  },
  {
   "cell_type": "code",
   "execution_count": 23,
   "metadata": {},
   "outputs": [
    {
     "name": "stdout",
     "output_type": "stream",
     "text": [
      "[[ 0.23370706  0.09152903  0.02781592 ... -0.07582384 -0.11456071\n",
      "  -0.02055301]\n",
      " [-0.03529006 -0.01716709 -0.01492154 ... -0.02846105 -0.01749707\n",
      "  -0.02531176]\n",
      " [-0.15552132 -0.06643243 -0.02240759 ...  0.13465343  0.13850095\n",
      "   0.0417856 ]\n",
      " [-0.02862168 -0.01546777 -0.01043294 ... -0.02467371 -0.01192503\n",
      "  -0.01562117]]\n"
     ]
    }
   ],
   "source": [
    "print(lr.coef_)"
   ]
  },
  {
   "cell_type": "code",
   "execution_count": 24,
   "metadata": {},
   "outputs": [
    {
     "name": "stdout",
     "output_type": "stream",
     "text": [
      "['00' '07' '08' '09' '0ff' '0ut' '10' '100' '1000' '10000']\n"
     ]
    }
   ],
   "source": [
    "feature_names = np.array(vectorizer.get_feature_names())\n",
    "print(feature_names[:10])"
   ]
  },
  {
   "cell_type": "code",
   "execution_count": 25,
   "metadata": {},
   "outputs": [
    {
     "name": "stdout",
     "output_type": "stream",
     "text": [
      "[['fed' 'bank' 'euro' 'ecb' 'stocks' 'oil' 'ukraine' 'china' 'update'\n",
      "  'profit']\n",
      " ['gm' 'tesla' 'climate' 'apple' 'microsoft' 'facebook' 'google' 'nasa'\n",
      "  'fcc' 'mobile']\n",
      " ['she' 'chris' 'cyrus' 'miley' 'kim' 'star' 'kardashian' 'her' 'paul'\n",
      "  'film']\n",
      " ['cancer' 'fda' 'drug' 'outbreak' 'study' 'ebola' 'could' 'cases'\n",
      "  'health' 'mers']]\n"
     ]
    }
   ],
   "source": [
    "#各カテゴリの重み最大の単語\n",
    "max_indices = np.argpartition(-lr.coef_, 10)[:,:10]\n",
    "print(feature_names[max_indices])"
   ]
  },
  {
   "cell_type": "code",
   "execution_count": 26,
   "metadata": {},
   "outputs": [
    {
     "name": "stdout",
     "output_type": "stream",
     "text": [
      "[['her' 'apple' 'the' 'google' 'and' 'kardashian' 'she' 'star' 'chris'\n",
      "  'ebola']\n",
      " ['shares' 'euro' 'ukraine' 'kim' 'stocks' 'fed' 'ecb' 'kardashian' 'her'\n",
      "  'bank']\n",
      " ['china' 'apple' 'says' 'ceo' 'us' 'google' 'update' 'bank' 'study'\n",
      "  'facebook']\n",
      " ['china' 'kardashian' 'stocks' 'fed' 'bank' 'google' 'euro' 'ecb' 'kim'\n",
      "  'at']]\n"
     ]
    }
   ],
   "source": [
    "#各カテゴリの重み最小の単語\n",
    "min_indices = np.argpartition(lr.coef_, 10)[:,:10]\n",
    "print(feature_names[min_indices])"
   ]
  },
  {
   "cell_type": "markdown",
   "metadata": {},
   "source": [
    "# 58. 正則化パラメータの変更"
   ]
  },
  {
   "cell_type": "code",
   "execution_count": 27,
   "metadata": {},
   "outputs": [],
   "source": [
    "C = [10 ** i for i in range(-3, 4)]"
   ]
  },
  {
   "cell_type": "code",
   "execution_count": 33,
   "metadata": {},
   "outputs": [],
   "source": [
    "train_score = []\n",
    "valid_score = []\n",
    "test_score = []\n",
    "for c in C:\n",
    "    lr = LogisticRegression(solver='lbfgs', C=c, multi_class='auto', max_iter=10000)\n",
    "    lr.fit(train_x, train_y)\n",
    "    train_pred_y = lr.predict(train_x)\n",
    "    valid_pred_y = lr.predict(valid_x)\n",
    "    test_pred_y = lr.predict(test_x)\n",
    "    train_score.append(accuracy_score(y_true=train_y, y_pred=train_pred_y))\n",
    "    valid_score.append(accuracy_score(y_true=valid_y, y_pred=valid_pred_y))\n",
    "    test_score.append(accuracy_score(y_true=test_y, y_pred=test_pred_y))"
   ]
  },
  {
   "cell_type": "code",
   "execution_count": 31,
   "metadata": {},
   "outputs": [],
   "source": [
    "import matplotlib.pyplot as plt"
   ]
  },
  {
   "cell_type": "code",
   "execution_count": 36,
   "metadata": {},
   "outputs": [
    {
     "data": {
      "image/png": "[encoded data removed]",
      "text/plain": [
       "<Figure size 432x288 with 1 Axes>"
      ]
     },
     "metadata": {
      "needs_background": "light"
     },
     "output_type": "display_data"
    }
   ],
   "source": [
    "plt.plot(C, train_score, marker=\"o\", color=\"red\", label=\"train\")\n",
    "plt.plot(C, valid_score, marker=\"v\", color=\"blue\", label=\"valid\")\n",
    "plt.plot(C, test_score, marker=\"x\", color=\"green\", label=\"test\")\n",
    "plt.xlabel(\"Regularization parameters\")\n",
    "plt.ylabel(\"accuracy score\")\n",
    "plt.xscale(\"log\")\n",
    "plt.legend()\n",
    "plt.show()"
   ]
  },
  {
   "cell_type": "markdown",
   "metadata": {},
   "source": [
    "# 59. ハイパーパラメータの探索"
   ]
  },
  {
   "cell_type": "code",
   "execution_count": 37,
   "metadata": {},
   "outputs": [],
   "source": [
    "from sklearn.model_selection import GridSearchCV"
   ]
  },
  {
   "cell_type": "code",
   "execution_count": 40,
   "metadata": {},
   "outputs": [],
   "source": [
    "parameter = {'C':C, 'solver':['lbfgs', 'sag', 'saga', 'newton-cg']}\n",
    "gridsearch = GridSearchCV(LogisticRegression(multi_class='auto', max_iter=10000), parameter)"
   ]
  },
  {
   "cell_type": "code",
   "execution_count": null,
   "metadata": {},
   "outputs": [
    {
     "name": "stderr",
     "output_type": "stream",
     "text": [
      "/Users/y_nakamura/.pyenv/versions/anaconda3-2019.10/lib/python3.7/site-packages/sklearn/model_selection/_split.py:1978: FutureWarning: The default value of cv will change from 3 to 5 in version 0.22. Specify it explicitly to silence this warning.\n",
      "  warnings.warn(CV_WARNING, FutureWarning)\n",
      "/Users/y_nakamura/.pyenv/versions/anaconda3-2019.10/lib/python3.7/site-packages/scipy/optimize/linesearch.py:314: LineSearchWarning: The line search algorithm did not converge\n",
      "  warn('The line search algorithm did not converge', LineSearchWarning)\n",
      "/Users/y_nakamura/.pyenv/versions/anaconda3-2019.10/lib/python3.7/site-packages/sklearn/utils/optimize.py:195: UserWarning: Line Search failed\n",
      "  warnings.warn('Line Search failed')\n",
      "/Users/y_nakamura/.pyenv/versions/anaconda3-2019.10/lib/python3.7/site-packages/scipy/optimize/linesearch.py:314: LineSearchWarning: The line search algorithm did not converge\n",
      "  warn('The line search algorithm did not converge', LineSearchWarning)\n",
      "/Users/y_nakamura/.pyenv/versions/anaconda3-2019.10/lib/python3.7/site-packages/sklearn/utils/optimize.py:195: UserWarning: Line Search failed\n",
      "  warnings.warn('Line Search failed')\n",
      "/Users/y_nakamura/.pyenv/versions/anaconda3-2019.10/lib/python3.7/site-packages/scipy/optimize/linesearch.py:314: LineSearchWarning: The line search algorithm did not converge\n",
      "  warn('The line search algorithm did not converge', LineSearchWarning)\n",
      "/Users/y_nakamura/.pyenv/versions/anaconda3-2019.10/lib/python3.7/site-packages/sklearn/utils/optimize.py:195: UserWarning: Line Search failed\n",
      "  warnings.warn('Line Search failed')\n",
      "/Users/y_nakamura/.pyenv/versions/anaconda3-2019.10/lib/python3.7/site-packages/scipy/optimize/linesearch.py:314: LineSearchWarning: The line search algorithm did not converge\n",
      "  warn('The line search algorithm did not converge', LineSearchWarning)\n",
      "/Users/y_nakamura/.pyenv/versions/anaconda3-2019.10/lib/python3.7/site-packages/sklearn/utils/optimize.py:195: UserWarning: Line Search failed\n",
      "  warnings.warn('Line Search failed')\n",
      "/Users/y_nakamura/.pyenv/versions/anaconda3-2019.10/lib/python3.7/site-packages/scipy/optimize/linesearch.py:314: LineSearchWarning: The line search algorithm did not converge\n",
      "  warn('The line search algorithm did not converge', LineSearchWarning)\n",
      "/Users/y_nakamura/.pyenv/versions/anaconda3-2019.10/lib/python3.7/site-packages/sklearn/utils/optimize.py:195: UserWarning: Line Search failed\n",
      "  warnings.warn('Line Search failed')\n",
      "/Users/y_nakamura/.pyenv/versions/anaconda3-2019.10/lib/python3.7/site-packages/scipy/optimize/linesearch.py:314: LineSearchWarning: The line search algorithm did not converge\n",
      "  warn('The line search algorithm did not converge', LineSearchWarning)\n",
      "/Users/y_nakamura/.pyenv/versions/anaconda3-2019.10/lib/python3.7/site-packages/sklearn/utils/optimize.py:195: UserWarning: Line Search failed\n",
      "  warnings.warn('Line Search failed')\n",
      "/Users/y_nakamura/.pyenv/versions/anaconda3-2019.10/lib/python3.7/site-packages/scipy/optimize/linesearch.py:314: LineSearchWarning: The line search algorithm did not converge\n",
      "  warn('The line search algorithm did not converge', LineSearchWarning)\n",
      "/Users/y_nakamura/.pyenv/versions/anaconda3-2019.10/lib/python3.7/site-packages/sklearn/utils/optimize.py:195: UserWarning: Line Search failed\n",
      "  warnings.warn('Line Search failed')\n",
      "/Users/y_nakamura/.pyenv/versions/anaconda3-2019.10/lib/python3.7/site-packages/scipy/optimize/linesearch.py:314: LineSearchWarning: The line search algorithm did not converge\n",
      "  warn('The line search algorithm did not converge', LineSearchWarning)\n",
      "/Users/y_nakamura/.pyenv/versions/anaconda3-2019.10/lib/python3.7/site-packages/sklearn/utils/optimize.py:195: UserWarning: Line Search failed\n",
      "  warnings.warn('Line Search failed')\n",
      "/Users/y_nakamura/.pyenv/versions/anaconda3-2019.10/lib/python3.7/site-packages/scipy/optimize/linesearch.py:314: LineSearchWarning: The line search algorithm did not converge\n",
      "  warn('The line search algorithm did not converge', LineSearchWarning)\n",
      "/Users/y_nakamura/.pyenv/versions/anaconda3-2019.10/lib/python3.7/site-packages/sklearn/utils/optimize.py:195: UserWarning: Line Search failed\n",
      "  warnings.warn('Line Search failed')\n",
      "/Users/y_nakamura/.pyenv/versions/anaconda3-2019.10/lib/python3.7/site-packages/scipy/optimize/linesearch.py:314: LineSearchWarning: The line search algorithm did not converge\n",
      "  warn('The line search algorithm did not converge', LineSearchWarning)\n",
      "/Users/y_nakamura/.pyenv/versions/anaconda3-2019.10/lib/python3.7/site-packages/sklearn/utils/optimize.py:195: UserWarning: Line Search failed\n",
      "  warnings.warn('Line Search failed')\n",
      "/Users/y_nakamura/.pyenv/versions/anaconda3-2019.10/lib/python3.7/site-packages/scipy/optimize/linesearch.py:314: LineSearchWarning: The line search algorithm did not converge\n",
      "  warn('The line search algorithm did not converge', LineSearchWarning)\n",
      "/Users/y_nakamura/.pyenv/versions/anaconda3-2019.10/lib/python3.7/site-packages/sklearn/utils/optimize.py:195: UserWarning: Line Search failed\n",
      "  warnings.warn('Line Search failed')\n",
      "/Users/y_nakamura/.pyenv/versions/anaconda3-2019.10/lib/python3.7/site-packages/scipy/optimize/linesearch.py:314: LineSearchWarning: The line search algorithm did not converge\n",
      "  warn('The line search algorithm did not converge', LineSearchWarning)\n",
      "/Users/y_nakamura/.pyenv/versions/anaconda3-2019.10/lib/python3.7/site-packages/sklearn/utils/optimize.py:195: UserWarning: Line Search failed\n",
      "  warnings.warn('Line Search failed')\n",
      "/Users/y_nakamura/.pyenv/versions/anaconda3-2019.10/lib/python3.7/site-packages/scipy/optimize/linesearch.py:314: LineSearchWarning: The line search algorithm did not converge\n",
      "  warn('The line search algorithm did not converge', LineSearchWarning)\n",
      "/Users/y_nakamura/.pyenv/versions/anaconda3-2019.10/lib/python3.7/site-packages/sklearn/utils/optimize.py:195: UserWarning: Line Search failed\n",
      "  warnings.warn('Line Search failed')\n",
      "/Users/y_nakamura/.pyenv/versions/anaconda3-2019.10/lib/python3.7/site-packages/scipy/optimize/linesearch.py:314: LineSearchWarning: The line search algorithm did not converge\n",
      "  warn('The line search algorithm did not converge', LineSearchWarning)\n",
      "/Users/y_nakamura/.pyenv/versions/anaconda3-2019.10/lib/python3.7/site-packages/sklearn/utils/optimize.py:195: UserWarning: Line Search failed\n",
      "  warnings.warn('Line Search failed')\n",
      "/Users/y_nakamura/.pyenv/versions/anaconda3-2019.10/lib/python3.7/site-packages/scipy/optimize/linesearch.py:314: LineSearchWarning: The line search algorithm did not converge\n",
      "  warn('The line search algorithm did not converge', LineSearchWarning)\n",
      "/Users/y_nakamura/.pyenv/versions/anaconda3-2019.10/lib/python3.7/site-packages/sklearn/utils/optimize.py:195: UserWarning: Line Search failed\n",
      "  warnings.warn('Line Search failed')\n",
      "/Users/y_nakamura/.pyenv/versions/anaconda3-2019.10/lib/python3.7/site-packages/scipy/optimize/linesearch.py:314: LineSearchWarning: The line search algorithm did not converge\n",
      "  warn('The line search algorithm did not converge', LineSearchWarning)\n",
      "/Users/y_nakamura/.pyenv/versions/anaconda3-2019.10/lib/python3.7/site-packages/sklearn/utils/optimize.py:195: UserWarning: Line Search failed\n",
      "  warnings.warn('Line Search failed')\n"
     ]
    }
   ],
   "source": [
    "gridsearch.fit(train_x, train_y)"
   ]
  },
  {
   "cell_type": "code",
   "execution_count": null,
   "metadata": {},
   "outputs": [],
   "source": [
    "gridsearch.best_params_"
   ]
  },
  {
   "cell_type": "code",
   "execution_count": null,
   "metadata": {},
   "outputs": [],
   "source": [
    "gridsearch.score(test_x, test_y)"
   ]
  },
  {
   "cell_type": "code",
   "execution_count": null,
   "metadata": {},
   "outputs": [],
   "source": [
    "best_score = 0\n",
    "best_model = None \n",
    "for solver in ['lbfgs', 'sag', 'saga', 'newton-cg']:\n",
    "    for c in C:\n",
    "        lr = LogisticRegression(solver=solver, C=c, multi_class='auto', max_iter=100)\n",
    "        lr.fit(train_x, train_y)\n",
    "        valid_pred_y = lr.predict(valid_x)\n",
    "        acc = accuracy_score(y_true=valid_y, y_pred=valid_pred_y)\n",
    "        if best_score < acc:\n",
    "            best_score = acc\n",
    "            best_model = lr"
   ]
  },
  {
   "cell_type": "code",
   "execution_count": null,
   "metadata": {},
   "outputs": [],
   "source": [
    "test_pred_y = best_model.predict(test_x)\n",
    "print(accuracy_score(y_true=test_y, y_pred=test_pred_y))"
   ]
  },
  {
   "cell_type": "code",
   "execution_count": null,
   "metadata": {},
   "outputs": [],
   "source": []
  }
 ],
 "metadata": {
  "kernelspec": {
   "display_name": "Python 3",
   "language": "python",
   "name": "python3"
  },
  "language_info": {
   "codemirror_mode": {
    "name": "ipython",
    "version": 3
   },
   "file_extension": ".py",
   "mimetype": "text/x-python",
   "name": "python",
   "nbconvert_exporter": "python",
   "pygments_lexer": "ipython3",
   "version": "3.7.4"
  }
 },
 "nbformat": 4,
 "nbformat_minor": 4
}
