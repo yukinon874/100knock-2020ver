{
 "cells": [
  {
   "cell_type": "markdown",
   "metadata": {},
   "source": [
    "# 50. データの入手・整形"
   ]
  },
  {
   "cell_type": "code",
   "execution_count": 4,
   "metadata": {},
   "outputs": [],
   "source": [
    "import pandas as pd\n",
    "from random import shuffle"
   ]
  },
  {
   "cell_type": "code",
   "execution_count": 11,
   "metadata": {},
   "outputs": [],
   "source": [
    "'''\n",
    "出来ないが？\n",
    "'''\n",
    "col_names = ['ID', 'TITLE', 'URL', 'PUBLISHER', 'CATEGORY', 'STORY', 'HOSTNAME', 'TIMESTAMP']\n",
    "df = pd.read_csv(\"./data/NewsAggregatorDataset/newsCorpora.csv\", encoding = 'UTF-8', names = col_names, sep = '\\t')\n",
    "extracted_data_frame = df[df['PUBLISHER'].isin(['Reuters', 'Huffington Post', 'Businessweek', 'Contactmusic.com', 'Daily Mail'])][['TITLE', 'CATEGORY']]\n",
    "row_size, _ = extracted_data_frame.shape\n",
    "data_list = [{} for _ in range(row_size)]\n",
    "\n",
    "for data_name in extracted_data_frame:\n",
    "    for idx, frame in enumerate(extracted_data_frame[data_name]):\n",
    "        data_list[idx][data_name] = frame\n",
    "\n",
    "\n",
    "shuffle(data_list)\n",
    "\n",
    "train_size = row_size // 10 * 8\n",
    "valid_size = row_size // 10\n",
    "test_size = row_size // 10\n",
    "\n",
    "path = './work/'\n",
    "file_names = ['train.txt', 'valid.txt', 'test.txt']\n",
    "data_names = ['train_data', 'valid_data', 'test_data']\n",
    "\n",
    "file_data = dict()\n",
    "file_data['train_data'] = data_list[:train_size]\n",
    "file_data['valid_data'] = data_list[train_size:train_size + valid_size]\n",
    "file_data['test_data'] = data_list[-test_size:]\n",
    "\n",
    "\n",
    "for idx, file_name in enumerate(file_names):\n",
    "    with open(path + file_name, mode = 'w') as f:\n",
    "        for data in file_data[data_names[idx]]:\n",
    "            f.write('\\t'.join([data['TITLE'], data['CATEGORY']]) + '\\n')"
   ]
  },
  {
   "cell_type": "code",
   "execution_count": 12,
   "metadata": {},
   "outputs": [],
   "source": [
    "data_list = list()\n",
    "with open('./data/NewsAggregatorDataset/newsCorpora.csv', mode = 'r') as f:\n",
    "    for line in f:\n",
    "        splited_line = line.split('\\t')\n",
    "        if splited_line[3] in ['Reuters', 'Huffington Post', 'Businessweek', 'Contactmusic.com', 'Daily Mail']:\n",
    "            data_list.append([splited_line[1], splited_line[4]])\n",
    "\n",
    "row_size = len(data_list)\n",
    "shuffle(data_list)\n",
    "\n",
    "train_size = row_size // 10 * 8\n",
    "valid_size = row_size // 10\n",
    "test_size = row_size // 10\n",
    "\n",
    "path = './work/'\n",
    "file_names = ['train.txt', 'valid.txt', 'test.txt']\n",
    "data_names = ['train_data', 'valid_data', 'test_data']\n",
    "\n",
    "file_data = dict()\n",
    "file_data['train_data'] = data_list[:train_size]\n",
    "file_data['valid_data'] = data_list[train_size:train_size + valid_size]\n",
    "file_data['test_data'] = data_list[-test_size:]\n",
    "\n",
    "\n",
    "for idx, file_name in enumerate(file_names):\n",
    "    with open(path + file_name, mode = 'w') as f:\n",
    "        for data in file_data[data_names[idx]]:\n",
    "            f.write('\\t'.join([data[0], data[1]]) + '\\n')"
   ]
  },
  {
   "cell_type": "code",
   "execution_count": 13,
   "metadata": {},
   "outputs": [
    {
     "name": "stdout",
     "output_type": "stream",
     "text": [
      "    1335   15352   89234 ./work/test.txt\n",
      "   10680  122223  713069 ./work/train.txt\n",
      "    1335   15335   89585 ./work/valid.txt\n",
      "   13350  152910  891888 total\n"
     ]
    }
   ],
   "source": [
    "!wc ./work/*"
   ]
  },
  {
   "cell_type": "markdown",
   "metadata": {},
   "source": [
    "# 51. 特徴量抽出"
   ]
  },
  {
   "cell_type": "code",
   "execution_count": null,
   "metadata": {},
   "outputs": [],
   "source": []
  },
  {
   "cell_type": "markdown",
   "metadata": {},
   "source": [
    "# 52. 学習"
   ]
  },
  {
   "cell_type": "markdown",
   "metadata": {},
   "source": [
    "# 53. 予測"
   ]
  },
  {
   "cell_type": "markdown",
   "metadata": {},
   "source": [
    "# 54. 正解率の計測"
   ]
  },
  {
   "cell_type": "markdown",
   "metadata": {},
   "source": [
    "# 55. 混同行列の作成"
   ]
  },
  {
   "cell_type": "markdown",
   "metadata": {},
   "source": [
    "# 56. 適合率，再現率，F1スコアの計測"
   ]
  },
  {
   "cell_type": "markdown",
   "metadata": {},
   "source": [
    "# 57. 特徴量の重みの確認"
   ]
  },
  {
   "cell_type": "markdown",
   "metadata": {},
   "source": [
    "# 58. 正則化パラメータの変更"
   ]
  },
  {
   "cell_type": "markdown",
   "metadata": {},
   "source": [
    "# 59. ハイパーパラメータの探索"
   ]
  },
  {
   "cell_type": "code",
   "execution_count": null,
   "metadata": {},
   "outputs": [],
   "source": []
  }
 ],
 "metadata": {
  "kernelspec": {
   "display_name": "Python 3",
   "language": "python",
   "name": "python3"
  },
  "language_info": {
   "codemirror_mode": {
    "name": "ipython",
    "version": 3
   },
   "file_extension": ".py",
   "mimetype": "text/x-python",
   "name": "python",
   "nbconvert_exporter": "python",
   "pygments_lexer": "ipython3",
   "version": "3.7.4"
  }
 },
 "nbformat": 4,
 "nbformat_minor": 4
}
